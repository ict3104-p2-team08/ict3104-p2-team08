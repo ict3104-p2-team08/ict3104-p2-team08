{
 "cells": [
  {
   "cell_type": "markdown",
   "metadata": {
    "colab_type": "text",
    "id": "view-in-github"
   },
   "source": [
    "<a href=\"https://colab.research.google.com/github/ict3104-p2-team08/ict3104-p2-team08/blob/inference_feat/3104_T08.ipynb\" target=\"_parent\"><img src=\"https://colab.research.google.com/assets/colab-badge.svg\" alt=\"Open In Colab\"/></a>"
   ]
  },
  {
   "cell_type": "markdown",
   "metadata": {
    "id": "2yJLCy-Wv_Rd"
   },
   "source": [
    "# Activity Detection ML Test"
   ]
  },
  {
   "cell_type": "markdown",
   "metadata": {
    "id": "iyKsO3crw1K5"
   },
   "source": [
    "## 1. Prerequisites\n",
    "\n",
    "This section provides the setting up of the environment"
   ]
  },
  {
   "cell_type": "code",
   "execution_count": 1,
   "metadata": {
    "colab": {
     "base_uri": "https://localhost:8080/"
    },
    "id": "heoGQJ7NyBiM",
    "outputId": "a2fa6fd7-2874-4e82-9914-1d335a7735cd"
   },
   "outputs": [
    {
     "name": "stdout",
     "output_type": "stream",
     "text": [
      "Looking in links: https://download.pytorch.org/whl/cu113/torch-1.12.1%2Bcu113-cp37-cp37m-linux_x86_64.whl\n",
      "Requirement already satisfied: torch in c:\\users\\leech\\anaconda3\\lib\\site-packages (1.12.1+cu116)\n",
      "Requirement already satisfied: typing-extensions in c:\\users\\leech\\anaconda3\\lib\\site-packages (from torch) (4.3.0)\n",
      "Looking in links: https://download.pytorch.org/whl/cu113/torchaudio-0.12.1%2Bcu113-cp37-cp37m-linux_x86_64.whl\n",
      "Requirement already satisfied: torchaudio in c:\\users\\leech\\anaconda3\\lib\\site-packages (0.12.1+cu116)\n",
      "Requirement already satisfied: torch==1.12.1 in c:\\users\\leech\\anaconda3\\lib\\site-packages (from torchaudio) (1.12.1+cu116)\n",
      "Requirement already satisfied: typing-extensions in c:\\users\\leech\\anaconda3\\lib\\site-packages (from torch==1.12.1->torchaudio) (4.3.0)\n",
      "Looking in links: https://download.pytorch.org/whl/cu113/torchvision-0.13.1%2Bcu113-cp37-cp37m-linux_x86_64.whl\n",
      "Requirement already satisfied: torchsummary==1.5.1 in c:\\users\\leech\\anaconda3\\lib\\site-packages (1.5.1)\n",
      "Requirement already satisfied: torchtext==0.13.1 in c:\\users\\leech\\anaconda3\\lib\\site-packages (0.13.1)\n",
      "Requirement already satisfied: torchvision in c:\\users\\leech\\anaconda3\\lib\\site-packages (0.13.1+cu116)\n",
      "Requirement already satisfied: tqdm in c:\\users\\leech\\anaconda3\\lib\\site-packages (from torchtext==0.13.1) (4.59.0)\n",
      "Requirement already satisfied: torch==1.12.1 in c:\\users\\leech\\anaconda3\\lib\\site-packages (from torchtext==0.13.1) (1.12.1+cu116)\n",
      "Requirement already satisfied: numpy in c:\\users\\leech\\anaconda3\\lib\\site-packages (from torchtext==0.13.1) (1.23.1)\n",
      "Requirement already satisfied: requests in c:\\users\\leech\\anaconda3\\lib\\site-packages (from torchtext==0.13.1) (2.25.1)\n",
      "Requirement already satisfied: typing-extensions in c:\\users\\leech\\anaconda3\\lib\\site-packages (from torch==1.12.1->torchtext==0.13.1) (4.3.0)\n",
      "Requirement already satisfied: pillow!=8.3.*,>=5.3.0 in c:\\users\\leech\\anaconda3\\lib\\site-packages (from torchvision) (8.2.0)\n",
      "Requirement already satisfied: chardet<5,>=3.0.2 in c:\\users\\leech\\anaconda3\\lib\\site-packages (from requests->torchtext==0.13.1) (4.0.0)\n",
      "Requirement already satisfied: urllib3<1.27,>=1.21.1 in c:\\users\\leech\\anaconda3\\lib\\site-packages (from requests->torchtext==0.13.1) (1.26.4)\n",
      "Requirement already satisfied: idna<3,>=2.5 in c:\\users\\leech\\anaconda3\\lib\\site-packages (from requests->torchtext==0.13.1) (2.10)\n",
      "Requirement already satisfied: certifi>=2017.4.17 in c:\\users\\leech\\anaconda3\\lib\\site-packages (from requests->torchtext==0.13.1) (2022.6.15)\n"
     ]
    }
   ],
   "source": [
    "!pip install torch -f https://download.pytorch.org/whl/cu113/torch-1.12.1%2Bcu113-cp37-cp37m-linux_x86_64.whl\n",
    "!pip install torchaudio -f https://download.pytorch.org/whl/cu113/torchaudio-0.12.1%2Bcu113-cp37-cp37m-linux_x86_64.whl\n",
    "!pip install torchsummary==1.5.1 torchtext==0.13.1 torchvision -f https://download.pytorch.org/whl/cu113/torchvision-0.13.1%2Bcu113-cp37-cp37m-linux_x86_64.whl"
   ]
  },
  {
   "cell_type": "code",
   "execution_count": 2,
   "metadata": {
    "colab": {
     "base_uri": "https://localhost:8080/"
    },
    "id": "KapnAnp1HjCk",
    "outputId": "3e421bec-ced0-4884-8fcb-54035e2b3c6f"
   },
   "outputs": [
    {
     "name": "stderr",
     "output_type": "stream",
     "text": [
      "fatal: destination path 'video_features' already exists and is not an empty directory.\n"
     ]
    },
    {
     "name": "stdout",
     "output_type": "stream",
     "text": [
      "Requirement already satisfied: omegaconf==2.0.6 in c:\\users\\leech\\anaconda3\\lib\\site-packages (2.0.6)\n",
      "Requirement already satisfied: typing-extensions in c:\\users\\leech\\anaconda3\\lib\\site-packages (from omegaconf==2.0.6) (4.3.0)\n",
      "Requirement already satisfied: PyYAML>=5.1.* in c:\\users\\leech\\anaconda3\\lib\\site-packages (from omegaconf==2.0.6) (5.4.1)\n"
     ]
    },
    {
     "name": "stderr",
     "output_type": "stream",
     "text": [
      "fatal: destination path 'ict3104-p2-team08' already exists and is not an empty directory.\n"
     ]
    }
   ],
   "source": [
    "!git clone https://github.com/v-iashin/video_features.git\n",
    "!pip install omegaconf==2.0.6"
   ]
  },
  {
   "cell_type": "code",
   "execution_count": 3,
   "metadata": {
    "id": "FQXemWrcw4pE"
   },
   "outputs": [],
   "source": [
    "# Imports widgets for jupyter\n",
    "try:\n",
    "    import piplite\n",
    "    piplite.install(['ipywidgets'])\n",
    "except ImportError:\n",
    "    pass"
   ]
  },
  {
   "cell_type": "markdown",
   "metadata": {
    "id": "QcEvKDf2wVL2"
   },
   "source": [
    "## 2. Toggling of pipelines\n",
    "\n",
    "This section shows the toggling of dependencies between TSU and STEP"
   ]
  },
  {
   "cell_type": "code",
   "execution_count": 32,
   "metadata": {
    "id": "lb4Grr9wuhWu"
   },
   "outputs": [
    {
     "name": "stdout",
     "output_type": "stream",
     "text": [
      "C:\\Users\\leech\\ict3104-p2-team08\n"
     ]
    }
   ],
   "source": [
    "#insert code here"
   ]
  },
  {
   "cell_type": "markdown",
   "metadata": {
    "id": "voFOEyiP0WSt"
   },
   "source": [
    "## 3. Data exploration\n",
    "\n",
    "This section load and display video data from the Toyota Smarthome (TSU) project"
   ]
  },
  {
   "cell_type": "code",
   "execution_count": 6,
   "metadata": {
    "id": "SnSmkBhh0KkY"
   },
   "outputs": [
    {
     "ename": "FileNotFoundError",
     "evalue": "[WinError 3] The system cannot find the path specified: '/content/data\\\\input_files'",
     "output_type": "error",
     "traceback": [
      "\u001b[1;31m---------------------------------------------------------------------------\u001b[0m",
      "\u001b[1;31mFileNotFoundError\u001b[0m                         Traceback (most recent call last)",
      "\u001b[1;32m<ipython-input-6-ff7f03c95f54>\u001b[0m in \u001b[0;36m<module>\u001b[1;34m\u001b[0m\n\u001b[0;32m      4\u001b[0m \u001b[0mROOT_PATH\u001b[0m \u001b[1;33m=\u001b[0m \u001b[1;34m'/content/data'\u001b[0m\u001b[1;33m\u001b[0m\u001b[1;33m\u001b[0m\u001b[0m\n\u001b[0;32m      5\u001b[0m \u001b[1;33m\u001b[0m\u001b[0m\n\u001b[1;32m----> 6\u001b[1;33m \u001b[0mfile_list\u001b[0m \u001b[1;33m=\u001b[0m \u001b[0mos\u001b[0m\u001b[1;33m.\u001b[0m\u001b[0mlistdir\u001b[0m\u001b[1;33m(\u001b[0m\u001b[0mos\u001b[0m\u001b[1;33m.\u001b[0m\u001b[0mpath\u001b[0m\u001b[1;33m.\u001b[0m\u001b[0mjoin\u001b[0m\u001b[1;33m(\u001b[0m\u001b[0mROOT_PATH\u001b[0m\u001b[1;33m,\u001b[0m \u001b[0mFOLDER_PATH\u001b[0m\u001b[1;33m)\u001b[0m\u001b[1;33m)\u001b[0m\u001b[1;33m\u001b[0m\u001b[1;33m\u001b[0m\u001b[0m\n\u001b[0m",
      "\u001b[1;31mFileNotFoundError\u001b[0m: [WinError 3] The system cannot find the path specified: '/content/data\\\\input_files'"
     ]
    }
   ],
   "source": [
    "#import tsu video files\n",
    "import os\n",
    "FOLDER_PATH = 'input_files'\n",
    "ROOT_PATH = '/content/data'\n",
    "\n",
    "file_list = os.listdir(os.path.join(ROOT_PATH, FOLDER_PATH))"
   ]
  },
  {
   "cell_type": "code",
   "execution_count": 8,
   "metadata": {
    "id": "8dgd963k-3DR"
   },
   "outputs": [
    {
     "ename": "NameError",
     "evalue": "name 'file_list' is not defined",
     "output_type": "error",
     "traceback": [
      "\u001b[1;31m---------------------------------------------------------------------------\u001b[0m",
      "\u001b[1;31mNameError\u001b[0m                                 Traceback (most recent call last)",
      "\u001b[1;32m<ipython-input-8-1b7914dea376>\u001b[0m in \u001b[0;36m<module>\u001b[1;34m\u001b[0m\n\u001b[0;32m      3\u001b[0m \u001b[1;33m\u001b[0m\u001b[0m\n\u001b[0;32m      4\u001b[0m w = widgets.Dropdown(\n\u001b[1;32m----> 5\u001b[1;33m     \u001b[0moptions\u001b[0m\u001b[1;33m=\u001b[0m \u001b[0mfile_list\u001b[0m\u001b[1;33m,\u001b[0m\u001b[1;33m\u001b[0m\u001b[1;33m\u001b[0m\u001b[0m\n\u001b[0m\u001b[0;32m      6\u001b[0m )\n\u001b[0;32m      7\u001b[0m \u001b[1;33m\u001b[0m\u001b[0m\n",
      "\u001b[1;31mNameError\u001b[0m: name 'file_list' is not defined"
     ]
    }
   ],
   "source": [
    "#tsu video files to display in dropdown\n",
    "from ipywidgets import  Dropdown, widgets\n",
    "\n",
    "w = widgets.Dropdown(\n",
    "    options= file_list,\n",
    ")\n",
    "\n",
    "def on_change(change):\n",
    "    if change['type'] == 'change' and change['name'] == 'value':\n",
    "        print(change['new'])\n",
    "\n",
    "w.observe(on_change)\n",
    "\n",
    "display(w)"
   ]
  },
  {
   "cell_type": "code",
   "execution_count": 9,
   "metadata": {
    "id": "jB0moBiBCpVL"
   },
   "outputs": [
    {
     "ename": "NameError",
     "evalue": "name 'w' is not defined",
     "output_type": "error",
     "traceback": [
      "\u001b[1;31m---------------------------------------------------------------------------\u001b[0m",
      "\u001b[1;31mNameError\u001b[0m                                 Traceback (most recent call last)",
      "\u001b[1;32m<ipython-input-9-62afe571db1b>\u001b[0m in \u001b[0;36m<module>\u001b[1;34m\u001b[0m\n\u001b[0;32m      3\u001b[0m \u001b[1;32mfrom\u001b[0m \u001b[0mbase64\u001b[0m \u001b[1;32mimport\u001b[0m \u001b[0mb64encode\u001b[0m\u001b[1;33m\u001b[0m\u001b[1;33m\u001b[0m\u001b[0m\n\u001b[0;32m      4\u001b[0m \u001b[1;33m\u001b[0m\u001b[0m\n\u001b[1;32m----> 5\u001b[1;33m \u001b[0mvideo_path\u001b[0m \u001b[1;33m=\u001b[0m \u001b[1;34m'/content/data/input_files/%'\u001b[0m \u001b[1;33m+\u001b[0m \u001b[0mw\u001b[0m\u001b[1;33m.\u001b[0m\u001b[0mvalue\u001b[0m\u001b[1;33m\u001b[0m\u001b[1;33m\u001b[0m\u001b[0m\n\u001b[0m\u001b[0;32m      6\u001b[0m \u001b[1;33m\u001b[0m\u001b[0m\n\u001b[0;32m      7\u001b[0m \u001b[0mlocate\u001b[0m\u001b[1;33m=\u001b[0m \u001b[1;34m\"\"\u001b[0m\u001b[1;33m\u001b[0m\u001b[1;33m\u001b[0m\u001b[0m\n",
      "\u001b[1;31mNameError\u001b[0m: name 'w' is not defined"
     ]
    }
   ],
   "source": [
    "#display video \n",
    "from IPython.display import HTML\n",
    "from base64 import b64encode\n",
    "\n",
    "video_path = '/content/data/input_files/%' + w.value\n",
    "\n",
    "locate= \"\" \n",
    "\n",
    "for i in video_path: \n",
    "   if i=='%': \n",
    "       pass\n",
    "   else: \n",
    "       locate+=i \n",
    "\n",
    "def show_video(locate, video_width = 500):\n",
    "  video_file = open(locate, \"r+b\").read()\n",
    "  video_url = f\"data:video/mp4;base64,{b64encode(video_file).decode()}\"\n",
    "  return HTML(f\"\"\"<video width={video_width} controls><source src=\"{video_url}\"></video>\"\"\")\n",
    "  \n",
    "show_video(locate)"
   ]
  },
  {
   "cell_type": "code",
   "execution_count": null,
   "metadata": {
    "id": "NJJbEEdHNcJU"
   },
   "outputs": [],
   "source": [
    "#only run it for the first time\n",
    "%cd video_features"
   ]
  },
  {
   "cell_type": "code",
   "execution_count": null,
   "metadata": {
    "id": "Z2kz9WWwFbY6"
   },
   "outputs": [],
   "source": [
    "#extract to I3D feature file\n",
    "from models.i3d.extract_i3d import ExtractI3D\n",
    "from utils.utils import build_cfg_path\n",
    "from omegaconf import OmegaConf\n",
    "import torch\n",
    "\n",
    "# Select the feature type\n",
    "feature_type = 'i3d'\n",
    "args = OmegaConf.load(build_cfg_path(feature_type))\n",
    "args.video_paths = ['/content/data/input_files/P02T02C06.mp4']\n",
    "args.flow_type = 'raft'\n",
    "\n",
    "extractor = ExtractI3D(args)\n",
    "print(locate)\n",
    "\n",
    "# Extract features\n",
    "for video_path in args.video_paths:\n",
    "    print(f'Extracting for {video_path}')\n",
    "    feature_dict = extractor.extract(video_path)\n",
    "    [(print(k), print(v.shape), print(v)) for k, v in feature_dict.items()]"
   ]
  },
  {
   "cell_type": "markdown",
   "metadata": {
    "id": "4pbFLqFs08xy"
   },
   "source": [
    "## 4. Inference with pretrained model\n",
    "\n",
    "This section allows generation of caption videos"
   ]
  },
  {
   "cell_type": "markdown",
   "metadata": {},
   "source": [
    "### Select a pre-trained model"
   ]
  },
  {
   "cell_type": "code",
   "execution_count": 153,
   "metadata": {
    "scrolled": true
   },
   "outputs": [
    {
     "data": {
      "application/vnd.jupyter.widget-view+json": {
       "model_id": "df3ff637e86f4da397a3186d271795c2",
       "version_major": 2,
       "version_minor": 0
      },
      "text/plain": [
       "Dropdown(description='Model:', options=('MODELTESST2', 'MODELTEST', 'PDAN'), value='MODELTESST2')"
      ]
     },
     "metadata": {},
     "output_type": "display_data"
    },
    {
     "name": "stdout",
     "output_type": "stream",
     "text": [
      "PDAN\n"
     ]
    }
   ],
   "source": [
    "#tsu video files to display in dropdown\n",
    "import ipywidgets as widgets\n",
    "import os\n",
    "\n",
    "MODEL_PATH = 'models'\n",
    "MODEL_ROOT_PATH = './Toyota_Smarthome/pipline/'\n",
    "\n",
    "file_list = os.listdir(os.path.join(MODEL_ROOT_PATH, MODEL_PATH))\n",
    "\n",
    "model_dropdown = widgets.Dropdown(\n",
    "    options=file_list,\n",
    "    description='Model:',\n",
    "    disabled=False,\n",
    ")\n",
    "\n",
    "def on_change(change):\n",
    "    if change['type'] == 'change' and change['name'] == 'value':\n",
    "        print(change['new'])\n",
    "\n",
    "model_dropdown.observe(on_change)\n",
    "display(model_dropdown)"
   ]
  },
  {
   "cell_type": "markdown",
   "metadata": {},
   "source": [
    "### Choose an input video"
   ]
  },
  {
   "cell_type": "code",
   "execution_count": 159,
   "metadata": {
    "scrolled": true
   },
   "outputs": [
    {
     "name": "stdout",
     "output_type": "stream",
     "text": [
      "['P02T14C06.mp4', 'P02T15C06.mp4', 'P02T16C06.mp4', 'P02T17C05.mp4', 'P02T18C05.mp4']\n"
     ]
    },
    {
     "data": {
      "application/vnd.jupyter.widget-view+json": {
       "model_id": "419a6d4dc322415bbe1f327ff389cb62",
       "version_major": 2,
       "version_minor": 0
      },
      "text/plain": [
       "Dropdown(description='Video:', options=('P02T01C06.mp4', 'P02T01C07.mp4', 'P02T02C03.mp4', 'P02T02C06.mp4', 'P…"
      ]
     },
     "metadata": {},
     "output_type": "display_data"
    },
    {
     "name": "stdout",
     "output_type": "stream",
     "text": [
      "P02T03C03.mp4\n"
     ]
    }
   ],
   "source": [
    "VIDEO_PATH = 'input_files'\n",
    "VIDEO_ROOT_PATH = './data/'\n",
    "\n",
    "full_testable_video = os.listdir(os.path.join(VIDEO_ROOT_PATH, VIDEO_PATH))\n",
    "\n",
    "model_name = model_dropdown.value\n",
    "JSON_FILEPATH = \"./Toyota_Smarthome/pipline/model_videos.json\"\n",
    "f = open(JSON_FILEPATH)\n",
    "data = json.load(f)\n",
    "testable_video = data[model_name]\n",
    "testable_video = [video + \".mp4\" for video in testable_video]\n",
    "print(testable_video)\n",
    "\n",
    "if model_name == \"PDAN\":\n",
    "    file_list = full_testable_video\n",
    "else:\n",
    "    file_list = testable_video\n",
    "\n",
    "video_dropdown = widgets.Dropdown(\n",
    "    options=file_list,\n",
    "    description='Video:',\n",
    "    disabled=False,\n",
    ")\n",
    "\n",
    "\n",
    "def on_change(change):\n",
    "    if change['type'] == 'change' and change['name'] == 'value':\n",
    "        print(change['new'])\n",
    "\n",
    "video_dropdown.observe(on_change)\n",
    "display(video_dropdown)"
   ]
  },
  {
   "cell_type": "markdown",
   "metadata": {},
   "source": [
    "### Generate video with caption"
   ]
  },
  {
   "cell_type": "code",
   "execution_count": 160,
   "metadata": {
    "colab": {
     "base_uri": "https://localhost:8080/"
    },
    "id": "4D84kQqh0-1_",
    "outputId": "a17fda50-ff6b-4f13-c13f-ad5dcb9a5118",
    "scrolled": false
   },
   "outputs": [
    {
     "name": "stderr",
     "output_type": "stream",
     "text": [
      "\n",
      "  0%|                                                                                          | 0/536 [00:00<?, ?it/s]\u001b[A\n",
      "  2%|█▌                                                                               | 10/536 [00:00<00:05, 96.29it/s]\u001b[A\n",
      "  5%|███▊                                                                             | 25/536 [00:00<00:05, 94.54it/s]\u001b[A\n",
      "  7%|█████▎                                                                           | 35/536 [00:00<00:06, 78.67it/s]\u001b[A\n",
      "  8%|██████▋                                                                          | 44/536 [00:00<00:07, 69.92it/s]\u001b[A\n",
      " 10%|████████                                                                         | 53/536 [00:00<00:06, 70.76it/s]\u001b[A\n",
      " 12%|█████████▋                                                                       | 64/536 [00:00<00:05, 79.54it/s]\u001b[A\n",
      " 14%|███████████                                                                      | 73/536 [00:01<00:07, 58.74it/s]\u001b[A\n",
      " 15%|████████████▌                                                                    | 83/536 [00:01<00:06, 66.42it/s]\u001b[A\n",
      " 18%|██████████████▌                                                                  | 96/536 [00:01<00:05, 79.96it/s]\u001b[A\n",
      " 20%|███████████████▋                                                                | 105/536 [00:01<00:06, 70.59it/s]\u001b[A\n",
      " 21%|█████████████████                                                               | 114/536 [00:01<00:05, 74.88it/s]\u001b[A\n",
      " 23%|██████████████████▎                                                             | 123/536 [00:01<00:06, 68.14it/s]\u001b[A\n",
      " 24%|███████████████████▌                                                            | 131/536 [00:01<00:06, 60.18it/s]\u001b[A\n",
      " 27%|█████████████████████▊                                                          | 146/536 [00:02<00:05, 75.42it/s]\u001b[A\n",
      " 29%|███████████████████████▏                                                        | 155/536 [00:02<00:05, 72.29it/s]\u001b[A\n",
      " 30%|████████████████████████▎                                                       | 163/536 [00:02<00:06, 60.11it/s]\u001b[A\n",
      " 32%|█████████████████████████▎                                                      | 170/536 [00:02<00:07, 52.26it/s]\u001b[A\n",
      " 33%|██████████████████████████▎                                                     | 176/536 [00:02<00:06, 52.13it/s]\u001b[A\n",
      " 35%|███████████████████████████▌                                                    | 185/536 [00:02<00:05, 59.00it/s]\u001b[A\n",
      " 36%|████████████████████████████▋                                                   | 192/536 [00:02<00:06, 51.46it/s]\u001b[A\n",
      " 37%|█████████████████████████████▌                                                  | 198/536 [00:03<00:07, 47.79it/s]\u001b[A\n",
      " 39%|███████████████████████████████▍                                                | 211/536 [00:03<00:05, 61.59it/s]\u001b[A\n",
      " 41%|████████████████████████████████▌                                               | 218/536 [00:03<00:05, 58.34it/s]\u001b[A\n",
      " 42%|█████████████████████████████████▋                                              | 226/536 [00:03<00:05, 61.74it/s]\u001b[A\n",
      " 43%|██████████████████████████████████▊                                             | 233/536 [00:03<00:06, 44.94it/s]\u001b[A\n",
      " 45%|███████████████████████████████████▋                                            | 239/536 [00:04<00:09, 29.87it/s]\u001b[A\n",
      " 47%|█████████████████████████████████████▌                                          | 252/536 [00:04<00:06, 42.90it/s]\u001b[A\n",
      " 48%|██████████████████████████████████████▌                                         | 258/536 [00:04<00:06, 40.34it/s]\u001b[A\n",
      " 49%|███████████████████████████████████████▍                                        | 264/536 [00:04<00:06, 43.71it/s]\u001b[A\n",
      " 51%|████████████████████████████████████████▉                                       | 274/536 [00:04<00:04, 53.89it/s]\u001b[A\n",
      " 53%|██████████████████████████████████████████▌                                     | 285/536 [00:04<00:04, 61.10it/s]\u001b[A\n",
      " 55%|███████████████████████████████████████████▋                                    | 293/536 [00:04<00:03, 63.76it/s]\u001b[A\n",
      " 56%|████████████████████████████████████████████▉                                   | 301/536 [00:05<00:03, 62.15it/s]\u001b[A\n",
      " 57%|█████████████████████████████████████████████▉                                  | 308/536 [00:05<00:04, 56.61it/s]\u001b[A\n",
      " 60%|███████████████████████████████████████████████▉                                | 321/536 [00:05<00:02, 72.57it/s]\u001b[A\n",
      " 61%|█████████████████████████████████████████████████                               | 329/536 [00:05<00:03, 61.67it/s]\u001b[A\n",
      " 63%|██████████████████████████████████████████████████▍                             | 338/536 [00:05<00:02, 66.55it/s]\u001b[A\n",
      " 65%|███████████████████████████████████████████████████▋                            | 346/536 [00:05<00:03, 62.05it/s]\u001b[A\n",
      " 66%|████████████████████████████████████████████████████▋                           | 353/536 [00:05<00:03, 56.06it/s]\u001b[A\n",
      " 67%|█████████████████████████████████████████████████████▋                          | 360/536 [00:06<00:03, 58.16it/s]\u001b[A\n",
      " 69%|███████████████████████████████████████████████████████▎                        | 371/536 [00:06<00:02, 67.25it/s]\u001b[A\n",
      " 71%|█████████████████████████████████████████████████████████▏                      | 383/536 [00:06<00:01, 77.21it/s]\u001b[A\n",
      " 73%|██████████████████████████████████████████████████████████▌                     | 392/536 [00:06<00:02, 70.30it/s]\u001b[A\n",
      " 75%|███████████████████████████████████████████████████████████▋                    | 400/536 [00:06<00:02, 64.16it/s]\u001b[A\n",
      " 76%|████████████████████████████████████████████████████████████▉                   | 408/536 [00:06<00:02, 61.54it/s]\u001b[A\n",
      " 78%|██████████████████████████████████████████████████████████████▏                 | 417/536 [00:06<00:01, 62.76it/s]\u001b[A\n",
      " 80%|███████████████████████████████████████████████████████████████▋                | 427/536 [00:06<00:01, 69.20it/s]\u001b[A\n",
      " 81%|████████████████████████████████████████████████████████████████▉               | 435/536 [00:07<00:01, 69.13it/s]\u001b[A\n",
      " 83%|██████████████████████████████████████████████████████████████████              | 443/536 [00:07<00:01, 66.51it/s]\u001b[A\n",
      " 84%|███████████████████████████████████████████████████████████████████▍            | 452/536 [00:07<00:01, 72.37it/s]\u001b[A\n",
      " 86%|████████████████████████████████████████████████████████████████████▋           | 460/536 [00:07<00:01, 70.84it/s]\u001b[A\n",
      " 88%|██████████████████████████████████████████████████████████████████████▋         | 474/536 [00:07<00:00, 88.59it/s]\u001b[A\n",
      " 90%|████████████████████████████████████████████████████████████████████████▏       | 484/536 [00:07<00:00, 91.69it/s]\u001b[A\n",
      " 92%|█████████████████████████████████████████████████████████████████████████▉      | 495/536 [00:07<00:00, 96.02it/s]\u001b[A\n",
      " 95%|███████████████████████████████████████████████████████████████████████████▎   | 511/536 [00:07<00:00, 108.63it/s]\u001b[A\n",
      " 98%|█████████████████████████████████████████████████████████████████████████████  | 523/536 [00:07<00:00, 111.19it/s]\u001b[A\n",
      "100%|████████████████████████████████████████████████████████████████████████████████| 536/536 [00:08<00:00, 65.68it/s]\u001b[A\n",
      "\n",
      "  0%|                                                                                          | 0/536 [00:00<?, ?it/s]\u001b[A\n",
      "  3%|██▌                                                                             | 17/536 [00:00<00:03, 151.83it/s]\u001b[A\n",
      "  6%|████▉                                                                           | 33/536 [00:00<00:03, 154.68it/s]\u001b[A\n",
      "  9%|███████▎                                                                        | 49/536 [00:00<00:03, 130.50it/s]\u001b[A\n",
      " 13%|██████████▋                                                                     | 72/536 [00:00<00:02, 158.21it/s]\u001b[A\n",
      " 17%|█████████████▎                                                                  | 89/536 [00:00<00:03, 138.82it/s]\u001b[A\n",
      " 19%|███████████████▎                                                               | 104/536 [00:00<00:03, 137.32it/s]\u001b[A\n",
      " 23%|██████████████████▏                                                            | 123/536 [00:00<00:02, 149.18it/s]\u001b[A\n"
     ]
    },
    {
     "name": "stderr",
     "output_type": "stream",
     "text": [
      " 26%|████████████████████▍                                                          | 139/536 [00:01<00:03, 124.20it/s]\u001b[A\n",
      " 29%|██████████████████████▌                                                        | 153/536 [00:01<00:03, 111.32it/s]\u001b[A\n",
      " 31%|████████████████████████▍                                                      | 166/536 [00:01<00:03, 104.20it/s]\u001b[A\n",
      " 33%|██████████████████████████                                                     | 177/536 [00:01<00:03, 101.53it/s]\u001b[A\n",
      " 36%|████████████████████████████▎                                                  | 192/536 [00:01<00:03, 104.88it/s]\u001b[A\n",
      " 38%|██████████████████████████████▎                                                 | 203/536 [00:01<00:03, 90.54it/s]\u001b[A\n",
      " 43%|██████████████████████████████████▎                                            | 233/536 [00:01<00:02, 137.68it/s]\u001b[A\n",
      " 47%|████████████████████████████████████▊                                          | 250/536 [00:01<00:01, 144.54it/s]\u001b[A\n",
      " 52%|█████████████████████████████████████████▍                                     | 281/536 [00:02<00:01, 181.56it/s]\u001b[A\n",
      " 57%|████████████████████████████████████████████▋                                  | 303/536 [00:02<00:01, 187.25it/s]\u001b[A\n",
      " 60%|███████████████████████████████████████████████▌                               | 323/536 [00:02<00:01, 149.35it/s]\u001b[A\n",
      " 63%|██████████████████████████████████████████████████                             | 340/536 [00:02<00:01, 143.51it/s]\u001b[A\n",
      " 66%|████████████████████████████████████████████████████▍                          | 356/536 [00:02<00:01, 136.77it/s]\u001b[A\n",
      " 69%|██████████████████████████████████████████████████████▋                        | 371/536 [00:02<00:01, 129.17it/s]\u001b[A\n",
      " 72%|████████████████████████████████████████████████████████▋                      | 385/536 [00:02<00:01, 111.98it/s]\u001b[A\n",
      " 75%|███████████████████████████████████████████████████████████▌                   | 404/536 [00:03<00:01, 126.12it/s]\u001b[A\n",
      " 82%|████████████████████████████████████████████████████████████████▍              | 437/536 [00:03<00:00, 168.26it/s]\u001b[A\n",
      " 88%|█████████████████████████████████████████████████████████████████████▍         | 471/536 [00:03<00:00, 193.02it/s]\u001b[A\n",
      " 92%|████████████████████████████████████████████████████████████████████████▎      | 491/536 [00:03<00:00, 145.37it/s]\u001b[A\n",
      " 95%|██████████████████████████████████████████████████████████████████████████▊    | 508/536 [00:03<00:00, 131.69it/s]\u001b[A\n",
      "100%|███████████████████████████████████████████████████████████████████████████████| 536/536 [00:03<00:00, 136.46it/s]\u001b[A\n",
      "\n",
      "  0%|                                                                                          | 0/768 [00:00<?, ?it/s]\u001b[A\n",
      "generating video...:   0%|                                                                     | 0/768 [00:00<?, ?it/s]\u001b[A\n",
      "generating video...:   0%|                                                             | 1/768 [00:00<00:32, 23.26it/s]\u001b[A\n",
      "generating video...:   0%|▏                                                            | 2/768 [00:00<00:22, 34.48it/s]\u001b[A\n",
      "generating video...:   0%|▏                                                            | 3/768 [00:00<00:18, 40.54it/s]\u001b[A\n",
      "generating video...:   1%|▎                                                            | 4/768 [00:00<00:17, 44.45it/s]\u001b[A\n",
      "generating video...:   1%|▍                                                            | 5/768 [00:00<00:16, 47.17it/s]\u001b[A\n",
      "generating video...:   1%|▍                                                            | 6/768 [00:00<00:13, 55.56it/s]\u001b[A\n",
      "generating video...:   1%|▍                                                            | 6/768 [00:00<00:13, 55.56it/s]\u001b[A\n",
      "generating video...:   1%|▌                                                            | 7/768 [00:00<00:13, 55.56it/s]\u001b[A\n",
      "generating video...:   1%|▋                                                            | 8/768 [00:00<00:13, 55.56it/s]\u001b[A\n",
      "generating video...:   1%|▋                                                            | 9/768 [00:00<00:13, 55.56it/s]\u001b[A\n",
      "generating video...:   1%|▊                                                           | 10/768 [00:00<00:13, 55.56it/s]\u001b[A\n",
      "generating video...:   1%|▊                                                           | 11/768 [00:00<00:13, 55.56it/s]\u001b[A\n",
      "generating video...:   2%|▉                                                           | 12/768 [00:00<00:13, 55.56it/s]\u001b[A\n",
      "generating video...:   2%|█                                                           | 13/768 [00:00<00:12, 60.02it/s]\u001b[A\n",
      "generating video...:   2%|█                                                           | 13/768 [00:00<00:12, 60.02it/s]\u001b[A\n",
      "generating video...:   2%|█                                                           | 14/768 [00:00<00:12, 60.02it/s]\u001b[A\n",
      "generating video...:   2%|█▏                                                          | 15/768 [00:00<00:12, 60.02it/s]\u001b[A\n",
      "generating video...:   2%|█▎                                                          | 16/768 [00:00<00:12, 60.02it/s]\u001b[A\n",
      "generating video...:   2%|█▎                                                          | 17/768 [00:00<00:12, 60.02it/s]\u001b[A\n",
      "generating video...:   2%|█▍                                                          | 18/768 [00:00<00:12, 60.02it/s]\u001b[A\n",
      "generating video...:   2%|█▍                                                          | 19/768 [00:00<00:12, 60.02it/s]\u001b[A\n",
      "generating video...:   3%|█▌                                                          | 20/768 [00:00<00:12, 61.85it/s]\u001b[A\n",
      "generating video...:   3%|█▌                                                          | 20/768 [00:00<00:12, 61.85it/s]\u001b[A\n",
      "generating video...:   3%|█▋                                                          | 21/768 [00:00<00:12, 61.85it/s]\u001b[A\n",
      "generating video...:   3%|█▋                                                          | 22/768 [00:00<00:12, 61.85it/s]\u001b[A\n",
      "generating video...:   3%|█▊                                                          | 23/768 [00:00<00:12, 61.85it/s]\u001b[A\n",
      "generating video...:   3%|█▉                                                          | 24/768 [00:00<00:12, 61.85it/s]\u001b[A\n",
      "generating video...:   3%|█▉                                                          | 25/768 [00:00<00:12, 61.85it/s]\u001b[A\n",
      "generating video...:   3%|██                                                          | 26/768 [00:00<00:11, 61.85it/s]\u001b[A\n",
      "generating video...:   4%|██                                                          | 27/768 [00:00<00:11, 62.93it/s]\u001b[A\n",
      "generating video...:   4%|██                                                          | 27/768 [00:00<00:11, 62.93it/s]\u001b[A\n",
      "generating video...:   4%|██▏                                                         | 28/768 [00:00<00:11, 62.93it/s]\u001b[A\n",
      "generating video...:   4%|██▎                                                         | 29/768 [00:00<00:11, 62.93it/s]\u001b[A\n",
      "generating video...:   4%|██▎                                                         | 30/768 [00:00<00:11, 62.93it/s]\u001b[A\n",
      "generating video...:   4%|██▍                                                         | 31/768 [00:00<00:11, 62.93it/s]\u001b[A\n",
      "generating video...:   4%|██▌                                                         | 32/768 [00:00<00:11, 62.93it/s]\u001b[A\n",
      "generating video...:   4%|██▌                                                         | 33/768 [00:00<00:11, 62.93it/s]\u001b[A\n",
      "generating video...:   4%|██▋                                                         | 34/768 [00:00<00:11, 63.46it/s]\u001b[A\n",
      "generating video...:   4%|██▋                                                         | 34/768 [00:00<00:11, 63.46it/s]\u001b[A\n",
      "generating video...:   5%|██▋                                                         | 35/768 [00:00<00:11, 63.46it/s]\u001b[A\n",
      "generating video...:   5%|██▊                                                         | 36/768 [00:00<00:11, 63.46it/s]\u001b[A\n",
      "generating video...:   5%|██▉                                                         | 37/768 [00:00<00:11, 63.46it/s]\u001b[A\n",
      "generating video...:   5%|██▉                                                         | 38/768 [00:00<00:11, 63.46it/s]\u001b[A\n"
     ]
    },
    {
     "name": "stderr",
     "output_type": "stream",
     "text": [
      "generating video...:   5%|███                                                         | 39/768 [00:00<00:11, 63.46it/s]\u001b[A\n",
      "generating video...:   5%|███▏                                                        | 40/768 [00:00<00:11, 63.46it/s]\u001b[A\n",
      "generating video...:   5%|███▏                                                        | 41/768 [00:00<00:11, 63.93it/s]\u001b[A\n",
      "generating video...:   5%|███▏                                                        | 41/768 [00:00<00:11, 63.93it/s]\u001b[A\n",
      "generating video...:   5%|███▎                                                        | 42/768 [00:00<00:11, 63.93it/s]\u001b[A\n",
      "generating video...:   6%|███▎                                                        | 43/768 [00:00<00:11, 63.93it/s]\u001b[A\n",
      "generating video...:   6%|███▍                                                        | 44/768 [00:00<00:11, 63.93it/s]\u001b[A\n",
      "generating video...:   6%|███▌                                                        | 45/768 [00:00<00:11, 63.93it/s]\u001b[A\n",
      "generating video...:   6%|███▌                                                        | 46/768 [00:00<00:11, 63.93it/s]\u001b[A\n",
      "generating video...:   6%|███▋                                                        | 47/768 [00:00<00:11, 63.93it/s]\u001b[A\n",
      "generating video...:   6%|███▊                                                        | 48/768 [00:00<00:11, 63.95it/s]\u001b[A\n",
      "generating video...:   6%|███▊                                                        | 48/768 [00:00<00:11, 63.95it/s]\u001b[A\n",
      "generating video...:   6%|███▊                                                        | 49/768 [00:00<00:11, 63.95it/s]\u001b[A\n",
      "generating video...:   7%|███▉                                                        | 50/768 [00:00<00:11, 63.95it/s]\u001b[A\n",
      "generating video...:   7%|███▉                                                        | 51/768 [00:00<00:11, 63.95it/s]\u001b[A\n",
      "generating video...:   7%|████                                                        | 52/768 [00:00<00:11, 63.95it/s]\u001b[A\n",
      "generating video...:   7%|████▏                                                       | 53/768 [00:00<00:11, 63.95it/s]\u001b[A\n",
      "generating video...:   7%|████▏                                                       | 54/768 [00:00<00:11, 63.95it/s]\u001b[A\n",
      "generating video...:   7%|████▎                                                       | 55/768 [00:00<00:11, 64.59it/s]\u001b[A\n",
      "generating video...:   7%|████▎                                                       | 55/768 [00:00<00:11, 64.59it/s]\u001b[A\n",
      "generating video...:   7%|████▍                                                       | 56/768 [00:00<00:11, 64.59it/s]\u001b[A\n",
      "generating video...:   7%|████▍                                                       | 57/768 [00:00<00:11, 64.59it/s]\u001b[A\n",
      "generating video...:   8%|████▌                                                       | 58/768 [00:00<00:10, 64.59it/s]\u001b[A\n",
      "generating video...:   8%|████▌                                                       | 59/768 [00:00<00:10, 64.59it/s]\u001b[A\n",
      "generating video...:   8%|████▋                                                       | 60/768 [00:00<00:10, 64.59it/s]\u001b[A\n",
      "generating video...:   8%|████▊                                                       | 61/768 [00:00<00:10, 64.59it/s]\u001b[A\n",
      "generating video...:   8%|████▊                                                       | 62/768 [00:00<00:10, 64.84it/s]\u001b[A\n",
      "generating video...:   8%|████▊                                                       | 62/768 [00:00<00:10, 64.84it/s]\u001b[A\n",
      "generating video...:   8%|████▉                                                       | 63/768 [00:01<00:10, 64.84it/s]\u001b[A\n",
      "generating video...:   8%|█████                                                       | 64/768 [00:01<00:10, 64.84it/s]\u001b[A\n",
      "generating video...:   8%|█████                                                       | 65/768 [00:01<00:10, 64.84it/s]\u001b[A\n",
      "generating video...:   9%|█████▏                                                      | 66/768 [00:01<00:10, 64.84it/s]\u001b[A\n",
      "generating video...:   9%|█████▏                                                      | 67/768 [00:01<00:10, 64.84it/s]\u001b[A\n",
      "generating video...:   9%|█████▎                                                      | 68/768 [00:01<00:10, 64.84it/s]\u001b[A\n",
      "generating video...:   9%|█████▍                                                      | 69/768 [00:01<00:10, 64.65it/s]\u001b[A\n",
      "generating video...:   9%|█████▍                                                      | 69/768 [00:01<00:10, 64.65it/s]\u001b[A\n",
      "generating video...:   9%|█████▍                                                      | 70/768 [00:01<00:10, 64.65it/s]\u001b[A\n",
      "generating video...:   9%|█████▌                                                      | 71/768 [00:01<00:10, 64.65it/s]\u001b[A\n",
      "generating video...:   9%|█████▋                                                      | 72/768 [00:01<00:10, 64.65it/s]\u001b[A\n",
      "generating video...:  10%|█████▋                                                      | 73/768 [00:01<00:10, 64.65it/s]\u001b[A\n",
      "generating video...:  10%|█████▊                                                      | 74/768 [00:01<00:10, 64.65it/s]\u001b[A\n",
      "generating video...:  10%|█████▊                                                      | 75/768 [00:01<00:10, 64.65it/s]\u001b[A\n",
      "generating video...:  10%|█████▉                                                      | 76/768 [00:01<00:10, 63.90it/s]\u001b[A\n",
      "generating video...:  10%|█████▉                                                      | 76/768 [00:01<00:10, 63.90it/s]\u001b[A\n",
      "generating video...:  10%|██████                                                      | 77/768 [00:01<00:10, 63.90it/s]\u001b[A\n",
      "generating video...:  10%|██████                                                      | 78/768 [00:01<00:10, 63.90it/s]\u001b[A\n",
      "generating video...:  10%|██████▏                                                     | 79/768 [00:01<00:10, 63.90it/s]\u001b[A\n",
      "generating video...:  10%|██████▎                                                     | 80/768 [00:01<00:10, 63.90it/s]\u001b[A\n",
      "generating video...:  11%|██████▎                                                     | 81/768 [00:01<00:10, 63.90it/s]\u001b[A\n",
      "generating video...:  11%|██████▍                                                     | 82/768 [00:01<00:10, 63.90it/s]\u001b[A\n",
      "generating video...:  11%|██████▍                                                     | 83/768 [00:01<00:10, 64.24it/s]\u001b[A\n",
      "generating video...:  11%|██████▍                                                     | 83/768 [00:01<00:10, 64.24it/s]\u001b[A\n",
      "generating video...:  11%|██████▌                                                     | 84/768 [00:01<00:10, 64.24it/s]\u001b[A\n",
      "generating video...:  11%|██████▋                                                     | 85/768 [00:01<00:10, 64.24it/s]\u001b[A\n",
      "generating video...:  11%|██████▋                                                     | 86/768 [00:01<00:10, 64.24it/s]\u001b[A\n",
      "generating video...:  11%|██████▊                                                     | 87/768 [00:01<00:10, 64.24it/s]\u001b[A\n",
      "generating video...:  11%|██████▉                                                     | 88/768 [00:01<00:10, 64.24it/s]\u001b[A\n",
      "generating video...:  12%|██████▉                                                     | 89/768 [00:01<00:10, 64.24it/s]\u001b[A\n",
      "generating video...:  12%|███████                                                     | 90/768 [00:01<00:10, 64.24it/s]\u001b[A\n",
      "generating video...:  12%|███████                                                     | 90/768 [00:01<00:10, 64.24it/s]\u001b[A\n",
      "generating video...:  12%|███████                                                     | 91/768 [00:01<00:10, 64.24it/s]\u001b[A\n",
      "generating video...:  12%|███████▏                                                    | 92/768 [00:01<00:10, 64.24it/s]\u001b[A\n",
      "generating video...:  12%|███████▎                                                    | 93/768 [00:01<00:10, 64.24it/s]\u001b[A\n",
      "generating video...:  12%|███████▎                                                    | 94/768 [00:01<00:10, 64.24it/s]\u001b[A\n",
      "generating video...:  12%|███████▍                                                    | 95/768 [00:01<00:10, 64.24it/s]\u001b[A\n",
      "generating video...:  12%|███████▌                                                    | 96/768 [00:01<00:10, 64.24it/s]\u001b[A\n"
     ]
    },
    {
     "name": "stderr",
     "output_type": "stream",
     "text": [
      "generating video...:  13%|███████▌                                                    | 97/768 [00:01<00:10, 64.44it/s]\u001b[A\n",
      "generating video...:  13%|███████▌                                                    | 97/768 [00:01<00:10, 64.44it/s]\u001b[A\n",
      "generating video...:  13%|███████▋                                                    | 98/768 [00:01<00:10, 64.44it/s]\u001b[A\n",
      "generating video...:  13%|███████▋                                                    | 99/768 [00:01<00:10, 64.44it/s]\u001b[A\n",
      "generating video...:  13%|███████▋                                                   | 100/768 [00:01<00:10, 64.44it/s]\u001b[A\n",
      "generating video...:  13%|███████▊                                                   | 101/768 [00:01<00:10, 64.44it/s]\u001b[A\n",
      "generating video...:  13%|███████▊                                                   | 102/768 [00:01<00:10, 64.44it/s]\u001b[A\n",
      "generating video...:  13%|███████▉                                                   | 103/768 [00:01<00:10, 64.44it/s]\u001b[A\n",
      "generating video...:  14%|███████▉                                                   | 104/768 [00:01<00:11, 58.42it/s]\u001b[A\n",
      "generating video...:  14%|███████▉                                                   | 104/768 [00:01<00:11, 58.42it/s]\u001b[A\n",
      "generating video...:  14%|████████                                                   | 105/768 [00:01<00:11, 58.42it/s]\u001b[A\n",
      "generating video...:  14%|████████▏                                                  | 106/768 [00:01<00:11, 58.42it/s]\u001b[A\n",
      "generating video...:  14%|████████▏                                                  | 107/768 [00:01<00:11, 58.42it/s]\u001b[A\n",
      "generating video...:  14%|████████▎                                                  | 108/768 [00:01<00:11, 58.42it/s]\u001b[A\n",
      "generating video...:  14%|████████▎                                                  | 109/768 [00:01<00:11, 58.42it/s]\u001b[A\n",
      "generating video...:  14%|████████▍                                                  | 110/768 [00:01<00:11, 58.42it/s]\u001b[A\n",
      "generating video...:  14%|████████▌                                                  | 111/768 [00:01<00:10, 60.60it/s]\u001b[A\n",
      "generating video...:  14%|████████▌                                                  | 111/768 [00:01<00:10, 60.60it/s]\u001b[A\n",
      "generating video...:  15%|████████▌                                                  | 112/768 [00:01<00:10, 60.60it/s]\u001b[A\n",
      "generating video...:  15%|████████▋                                                  | 113/768 [00:01<00:10, 60.60it/s]\u001b[A\n",
      "generating video...:  15%|████████▊                                                  | 114/768 [00:01<00:10, 60.60it/s]\u001b[A\n",
      "generating video...:  15%|████████▊                                                  | 115/768 [00:01<00:10, 60.60it/s]\u001b[A\n",
      "generating video...:  15%|████████▉                                                  | 116/768 [00:01<00:10, 60.60it/s]\u001b[A\n",
      "generating video...:  15%|████████▉                                                  | 117/768 [00:01<00:10, 60.60it/s]\u001b[A\n",
      "generating video...:  15%|█████████                                                  | 118/768 [00:01<00:10, 61.41it/s]\u001b[A\n",
      "generating video...:  15%|█████████                                                  | 118/768 [00:01<00:10, 61.41it/s]\u001b[A\n",
      "generating video...:  15%|█████████▏                                                 | 119/768 [00:01<00:10, 61.41it/s]\u001b[A\n",
      "generating video...:  16%|█████████▏                                                 | 120/768 [00:01<00:10, 61.41it/s]\u001b[A\n",
      "generating video...:  16%|█████████▎                                                 | 121/768 [00:01<00:10, 61.41it/s]\u001b[A\n",
      "generating video...:  16%|█████████▎                                                 | 122/768 [00:01<00:10, 61.41it/s]\u001b[A\n",
      "generating video...:  16%|█████████▍                                                 | 123/768 [00:01<00:10, 61.41it/s]\u001b[A\n",
      "generating video...:  16%|█████████▌                                                 | 124/768 [00:01<00:10, 61.41it/s]\u001b[A\n",
      "generating video...:  16%|█████████▌                                                 | 125/768 [00:01<00:10, 62.55it/s]\u001b[A\n",
      "generating video...:  16%|█████████▌                                                 | 125/768 [00:02<00:10, 62.55it/s]\u001b[A\n",
      "generating video...:  16%|█████████▋                                                 | 126/768 [00:02<00:10, 62.55it/s]\u001b[A\n",
      "generating video...:  17%|█████████▊                                                 | 127/768 [00:02<00:10, 62.55it/s]\u001b[A\n",
      "generating video...:  17%|█████████▊                                                 | 128/768 [00:02<00:10, 62.55it/s]\u001b[A\n",
      "generating video...:  17%|█████████▉                                                 | 129/768 [00:02<00:10, 62.55it/s]\u001b[A\n",
      "generating video...:  17%|█████████▉                                                 | 130/768 [00:02<00:10, 62.55it/s]\u001b[A\n",
      "generating video...:  17%|██████████                                                 | 131/768 [00:02<00:10, 62.55it/s]\u001b[A\n",
      "generating video...:  17%|██████████▏                                                | 132/768 [00:02<00:10, 63.10it/s]\u001b[A\n",
      "generating video...:  17%|██████████▏                                                | 132/768 [00:02<00:10, 63.10it/s]\u001b[A\n",
      "generating video...:  17%|██████████▏                                                | 133/768 [00:02<00:10, 63.10it/s]\u001b[A\n",
      "generating video...:  17%|██████████▎                                                | 134/768 [00:02<00:10, 63.10it/s]\u001b[A\n",
      "generating video...:  18%|██████████▎                                                | 135/768 [00:02<00:10, 63.10it/s]\u001b[A\n",
      "generating video...:  18%|██████████▍                                                | 136/768 [00:02<00:10, 63.10it/s]\u001b[A\n",
      "generating video...:  18%|██████████▌                                                | 137/768 [00:02<00:10, 63.10it/s]\u001b[A\n",
      "generating video...:  18%|██████████▌                                                | 138/768 [00:02<00:09, 63.10it/s]\u001b[A\n",
      "generating video...:  18%|██████████▋                                                | 139/768 [00:02<00:09, 62.92it/s]\u001b[A\n",
      "generating video...:  18%|██████████▋                                                | 139/768 [00:02<00:09, 62.92it/s]\u001b[A\n",
      "generating video...:  18%|██████████▊                                                | 140/768 [00:02<00:09, 62.92it/s]\u001b[A\n",
      "generating video...:  18%|██████████▊                                                | 141/768 [00:02<00:09, 62.92it/s]\u001b[A\n",
      "generating video...:  18%|██████████▉                                                | 142/768 [00:02<00:09, 62.92it/s]\u001b[A\n",
      "generating video...:  19%|██████████▉                                                | 143/768 [00:02<00:09, 62.92it/s]\u001b[A\n",
      "generating video...:  19%|███████████                                                | 144/768 [00:02<00:09, 62.92it/s]\u001b[A\n",
      "generating video...:  19%|███████████▏                                               | 145/768 [00:02<00:09, 62.92it/s]\u001b[A\n",
      "generating video...:  19%|███████████▏                                               | 146/768 [00:02<00:09, 63.22it/s]\u001b[A\n",
      "generating video...:  19%|███████████▏                                               | 146/768 [00:02<00:09, 63.22it/s]\u001b[A\n",
      "generating video...:  19%|███████████▎                                               | 147/768 [00:02<00:09, 63.22it/s]\u001b[A\n",
      "generating video...:  19%|███████████▎                                               | 148/768 [00:02<00:09, 63.22it/s]\u001b[A\n",
      "generating video...:  19%|███████████▍                                               | 149/768 [00:02<00:09, 63.22it/s]\u001b[A\n",
      "generating video...:  20%|███████████▌                                               | 150/768 [00:02<00:09, 63.22it/s]\u001b[A\n",
      "generating video...:  20%|███████████▌                                               | 151/768 [00:02<00:09, 63.22it/s]\u001b[A\n",
      "generating video...:  20%|███████████▋                                               | 152/768 [00:02<00:09, 63.22it/s]\u001b[A\n",
      "generating video...:  20%|███████████▊                                               | 153/768 [00:02<00:09, 63.43it/s]\u001b[A\n",
      "generating video...:  20%|███████████▊                                               | 153/768 [00:02<00:09, 63.43it/s]\u001b[A\n"
     ]
    },
    {
     "name": "stderr",
     "output_type": "stream",
     "text": [
      "generating video...:  20%|███████████▊                                               | 154/768 [00:02<00:09, 63.43it/s]\u001b[A\n",
      "generating video...:  20%|███████████▉                                               | 155/768 [00:02<00:09, 63.43it/s]\u001b[A\n",
      "generating video...:  20%|███████████▉                                               | 156/768 [00:02<00:09, 63.43it/s]\u001b[A\n",
      "generating video...:  20%|████████████                                               | 157/768 [00:02<00:09, 63.43it/s]\u001b[A\n",
      "generating video...:  21%|████████████▏                                              | 158/768 [00:02<00:09, 63.43it/s]\u001b[A\n",
      "generating video...:  21%|████████████▏                                              | 159/768 [00:02<00:09, 63.43it/s]\u001b[A\n",
      "generating video...:  21%|████████████▎                                              | 160/768 [00:02<00:09, 63.29it/s]\u001b[A\n",
      "generating video...:  21%|████████████▎                                              | 160/768 [00:02<00:09, 63.29it/s]\u001b[A\n",
      "generating video...:  21%|████████████▎                                              | 161/768 [00:02<00:09, 63.29it/s]\u001b[A\n",
      "generating video...:  21%|████████████▍                                              | 162/768 [00:02<00:09, 63.29it/s]\u001b[A\n",
      "generating video...:  21%|████████████▌                                              | 163/768 [00:02<00:09, 63.29it/s]\u001b[A\n",
      "generating video...:  21%|████████████▌                                              | 164/768 [00:02<00:09, 63.29it/s]\u001b[A\n",
      "generating video...:  21%|████████████▋                                              | 165/768 [00:02<00:09, 63.29it/s]\u001b[A\n",
      "generating video...:  22%|████████████▊                                              | 166/768 [00:02<00:09, 63.29it/s]\u001b[A\n",
      "generating video...:  22%|████████████▊                                              | 167/768 [00:02<00:09, 63.50it/s]\u001b[A\n",
      "generating video...:  22%|████████████▊                                              | 167/768 [00:02<00:09, 63.50it/s]\u001b[A\n",
      "generating video...:  22%|████████████▉                                              | 168/768 [00:02<00:09, 63.50it/s]\u001b[A\n",
      "generating video...:  22%|████████████▉                                              | 169/768 [00:02<00:09, 63.50it/s]\u001b[A\n",
      "generating video...:  22%|█████████████                                              | 170/768 [00:02<00:09, 63.50it/s]\u001b[A\n",
      "generating video...:  22%|█████████████▏                                             | 171/768 [00:02<00:09, 63.50it/s]\u001b[A\n",
      "generating video...:  22%|█████████████▏                                             | 172/768 [00:02<00:09, 63.50it/s]\u001b[A\n",
      "generating video...:  23%|█████████████▎                                             | 173/768 [00:02<00:09, 63.50it/s]\u001b[A\n",
      "generating video...:  23%|█████████████▎                                             | 174/768 [00:02<00:09, 63.39it/s]\u001b[A\n",
      "generating video...:  23%|█████████████▎                                             | 174/768 [00:02<00:09, 63.39it/s]\u001b[A\n",
      "generating video...:  23%|█████████████▍                                             | 175/768 [00:02<00:09, 63.39it/s]\u001b[A\n",
      "generating video...:  23%|█████████████▌                                             | 176/768 [00:02<00:09, 63.39it/s]\u001b[A\n",
      "generating video...:  23%|█████████████▌                                             | 177/768 [00:02<00:09, 63.39it/s]\u001b[A\n",
      "generating video...:  23%|█████████████▋                                             | 178/768 [00:02<00:09, 63.39it/s]\u001b[A\n",
      "generating video...:  23%|█████████████▊                                             | 179/768 [00:02<00:09, 63.39it/s]\u001b[A\n",
      "generating video...:  23%|█████████████▊                                             | 180/768 [00:02<00:09, 63.39it/s]\u001b[A\n",
      "generating video...:  24%|█████████████▉                                             | 181/768 [00:02<00:09, 63.18it/s]\u001b[A\n",
      "generating video...:  24%|█████████████▉                                             | 181/768 [00:02<00:09, 63.18it/s]\u001b[A\n",
      "generating video...:  24%|█████████████▉                                             | 182/768 [00:02<00:09, 63.18it/s]\u001b[A\n",
      "generating video...:  24%|██████████████                                             | 183/768 [00:02<00:09, 63.18it/s]\u001b[A\n",
      "generating video...:  24%|██████████████▏                                            | 184/768 [00:02<00:09, 63.18it/s]\u001b[A\n",
      "generating video...:  24%|██████████████▏                                            | 185/768 [00:02<00:09, 63.18it/s]\u001b[A\n",
      "generating video...:  24%|██████████████▎                                            | 186/768 [00:02<00:09, 63.18it/s]\u001b[A\n",
      "generating video...:  24%|██████████████▎                                            | 187/768 [00:02<00:09, 63.18it/s]\u001b[A\n",
      "generating video...:  24%|██████████████▍                                            | 188/768 [00:02<00:09, 63.50it/s]\u001b[A\n",
      "generating video...:  24%|██████████████▍                                            | 188/768 [00:02<00:09, 63.50it/s]\u001b[A\n",
      "generating video...:  25%|██████████████▌                                            | 189/768 [00:03<00:09, 63.50it/s]\u001b[A\n",
      "generating video...:  25%|██████████████▌                                            | 190/768 [00:03<00:09, 63.50it/s]\u001b[A\n",
      "generating video...:  25%|██████████████▋                                            | 191/768 [00:03<00:09, 63.50it/s]\u001b[A\n",
      "generating video...:  25%|██████████████▊                                            | 192/768 [00:03<00:09, 63.50it/s]\u001b[A\n",
      "generating video...:  25%|██████████████▊                                            | 193/768 [00:03<00:09, 63.50it/s]\u001b[A\n",
      "generating video...:  25%|██████████████▉                                            | 194/768 [00:03<00:09, 63.50it/s]\u001b[A\n",
      "generating video...:  25%|██████████████▉                                            | 195/768 [00:03<00:09, 63.47it/s]\u001b[A\n",
      "generating video...:  25%|██████████████▉                                            | 195/768 [00:03<00:09, 63.47it/s]\u001b[A\n",
      "generating video...:  26%|███████████████                                            | 196/768 [00:03<00:09, 63.47it/s]\u001b[A\n",
      "generating video...:  26%|███████████████▏                                           | 197/768 [00:03<00:08, 63.47it/s]\u001b[A\n",
      "generating video...:  26%|███████████████▏                                           | 198/768 [00:03<00:08, 63.47it/s]\u001b[A\n",
      "generating video...:  26%|███████████████▎                                           | 199/768 [00:03<00:08, 63.47it/s]\u001b[A\n",
      "generating video...:  26%|███████████████▎                                           | 200/768 [00:03<00:08, 63.47it/s]\u001b[A\n",
      "generating video...:  26%|███████████████▍                                           | 201/768 [00:03<00:08, 63.47it/s]\u001b[A\n",
      "generating video...:  26%|███████████████▌                                           | 202/768 [00:03<00:08, 63.59it/s]\u001b[A\n",
      "generating video...:  26%|███████████████▌                                           | 202/768 [00:03<00:08, 63.59it/s]\u001b[A\n",
      "generating video...:  26%|███████████████▌                                           | 203/768 [00:03<00:08, 63.59it/s]\u001b[A\n",
      "generating video...:  27%|███████████████▋                                           | 204/768 [00:03<00:08, 63.59it/s]\u001b[A\n",
      "generating video...:  27%|███████████████▋                                           | 205/768 [00:03<00:08, 63.59it/s]\u001b[A\n",
      "generating video...:  27%|███████████████▊                                           | 206/768 [00:03<00:08, 63.59it/s]\u001b[A\n",
      "generating video...:  27%|███████████████▉                                           | 207/768 [00:03<00:08, 63.59it/s]\u001b[A\n",
      "generating video...:  27%|███████████████▉                                           | 208/768 [00:03<00:08, 63.59it/s]\u001b[A\n",
      "generating video...:  27%|████████████████                                           | 209/768 [00:03<00:08, 63.52it/s]\u001b[A\n",
      "generating video...:  27%|████████████████                                           | 209/768 [00:03<00:08, 63.52it/s]\u001b[A\n",
      "generating video...:  27%|████████████████▏                                          | 210/768 [00:03<00:08, 63.52it/s]\u001b[A\n",
      "generating video...:  27%|████████████████▏                                          | 211/768 [00:03<00:08, 63.52it/s]\u001b[A\n"
     ]
    },
    {
     "name": "stderr",
     "output_type": "stream",
     "text": [
      "generating video...:  28%|████████████████▎                                          | 212/768 [00:03<00:08, 63.52it/s]\u001b[A\n",
      "generating video...:  28%|████████████████▎                                          | 213/768 [00:03<00:08, 63.52it/s]\u001b[A\n",
      "generating video...:  28%|████████████████▍                                          | 214/768 [00:03<00:08, 63.52it/s]\u001b[A\n",
      "generating video...:  28%|████████████████▌                                          | 215/768 [00:03<00:08, 63.52it/s]\u001b[A\n",
      "generating video...:  28%|████████████████▌                                          | 216/768 [00:03<00:09, 58.74it/s]\u001b[A\n",
      "generating video...:  28%|████████████████▌                                          | 216/768 [00:03<00:09, 58.74it/s]\u001b[A\n",
      "generating video...:  28%|████████████████▋                                          | 217/768 [00:03<00:09, 58.74it/s]\u001b[A\n",
      "generating video...:  28%|████████████████▋                                          | 218/768 [00:03<00:09, 58.74it/s]\u001b[A\n",
      "generating video...:  29%|████████████████▊                                          | 219/768 [00:03<00:09, 58.74it/s]\u001b[A\n",
      "generating video...:  29%|████████████████▉                                          | 220/768 [00:03<00:09, 58.74it/s]\u001b[A\n",
      "generating video...:  29%|████████████████▉                                          | 221/768 [00:03<00:09, 58.74it/s]\u001b[A\n",
      "generating video...:  29%|█████████████████                                          | 222/768 [00:03<00:09, 56.65it/s]\u001b[A\n",
      "generating video...:  29%|█████████████████                                          | 222/768 [00:03<00:09, 56.65it/s]\u001b[A\n",
      "generating video...:  29%|█████████████████▏                                         | 223/768 [00:03<00:09, 56.65it/s]\u001b[A\n",
      "generating video...:  29%|█████████████████▏                                         | 224/768 [00:03<00:09, 56.65it/s]\u001b[A\n",
      "generating video...:  29%|█████████████████▎                                         | 225/768 [00:03<00:09, 56.65it/s]\u001b[A\n",
      "generating video...:  29%|█████████████████▎                                         | 226/768 [00:03<00:09, 56.65it/s]\u001b[A\n",
      "generating video...:  30%|█████████████████▍                                         | 227/768 [00:03<00:09, 56.65it/s]\u001b[A\n",
      "generating video...:  30%|█████████████████▌                                         | 228/768 [00:03<00:09, 57.11it/s]\u001b[A\n",
      "generating video...:  30%|█████████████████▌                                         | 228/768 [00:03<00:09, 57.11it/s]\u001b[A\n",
      "generating video...:  30%|█████████████████▌                                         | 229/768 [00:03<00:09, 57.11it/s]\u001b[A\n",
      "generating video...:  30%|█████████████████▋                                         | 230/768 [00:03<00:09, 57.11it/s]\u001b[A\n",
      "generating video...:  30%|█████████████████▋                                         | 231/768 [00:03<00:09, 57.11it/s]\u001b[A\n",
      "generating video...:  30%|█████████████████▊                                         | 232/768 [00:03<00:09, 57.11it/s]\u001b[A\n",
      "generating video...:  30%|█████████████████▉                                         | 233/768 [00:03<00:09, 57.11it/s]\u001b[A\n",
      "generating video...:  30%|█████████████████▉                                         | 234/768 [00:03<00:09, 57.11it/s]\u001b[A\n",
      "generating video...:  31%|██████████████████                                         | 235/768 [00:03<00:09, 59.11it/s]\u001b[A\n",
      "generating video...:  31%|██████████████████                                         | 235/768 [00:03<00:09, 59.11it/s]\u001b[A\n",
      "generating video...:  31%|██████████████████▏                                        | 236/768 [00:03<00:09, 59.11it/s]\u001b[A\n",
      "generating video...:  31%|██████████████████▏                                        | 237/768 [00:03<00:08, 59.11it/s]\u001b[A\n",
      "generating video...:  31%|██████████████████▎                                        | 238/768 [00:03<00:08, 59.11it/s]\u001b[A\n",
      "generating video...:  31%|██████████████████▎                                        | 239/768 [00:03<00:08, 59.11it/s]\u001b[A\n",
      "generating video...:  31%|██████████████████▍                                        | 240/768 [00:03<00:08, 59.11it/s]\u001b[A\n",
      "generating video...:  31%|██████████████████▌                                        | 241/768 [00:03<00:09, 58.02it/s]\u001b[A\n",
      "generating video...:  31%|██████████████████▌                                        | 241/768 [00:03<00:09, 58.02it/s]\u001b[A\n",
      "generating video...:  32%|██████████████████▌                                        | 242/768 [00:03<00:09, 58.02it/s]\u001b[A\n",
      "generating video...:  32%|██████████████████▋                                        | 243/768 [00:03<00:09, 58.02it/s]\u001b[A\n",
      "generating video...:  32%|██████████████████▋                                        | 244/768 [00:03<00:09, 58.02it/s]\u001b[A\n",
      "generating video...:  32%|██████████████████▊                                        | 245/768 [00:03<00:09, 58.02it/s]\u001b[A\n",
      "generating video...:  32%|██████████████████▉                                        | 246/768 [00:03<00:08, 58.02it/s]\u001b[A\n",
      "generating video...:  32%|██████████████████▉                                        | 247/768 [00:03<00:08, 58.47it/s]\u001b[A\n",
      "generating video...:  32%|██████████████████▉                                        | 247/768 [00:04<00:08, 58.47it/s]\u001b[A\n",
      "generating video...:  32%|███████████████████                                        | 248/768 [00:04<00:08, 58.47it/s]\u001b[A\n",
      "generating video...:  32%|███████████████████▏                                       | 249/768 [00:04<00:08, 58.47it/s]\u001b[A\n",
      "generating video...:  33%|███████████████████▏                                       | 250/768 [00:04<00:08, 58.47it/s]\u001b[A\n",
      "generating video...:  33%|███████████████████▎                                       | 251/768 [00:04<00:08, 58.47it/s]\u001b[A\n",
      "generating video...:  33%|███████████████████▎                                       | 252/768 [00:04<00:08, 58.47it/s]\u001b[A\n",
      "generating video...:  33%|███████████████████▍                                       | 253/768 [00:04<00:08, 57.69it/s]\u001b[A\n",
      "generating video...:  33%|███████████████████▍                                       | 253/768 [00:04<00:08, 57.69it/s]\u001b[A\n",
      "generating video...:  33%|███████████████████▌                                       | 254/768 [00:04<00:08, 57.69it/s]\u001b[A\n",
      "generating video...:  33%|███████████████████▌                                       | 255/768 [00:04<00:08, 57.69it/s]\u001b[A\n",
      "generating video...:  33%|███████████████████▋                                       | 256/768 [00:04<00:08, 57.69it/s]\u001b[A\n",
      "generating video...:  33%|███████████████████▋                                       | 257/768 [00:04<00:08, 57.69it/s]\u001b[A\n",
      "generating video...:  34%|███████████████████▊                                       | 258/768 [00:04<00:08, 57.69it/s]\u001b[A\n",
      "generating video...:  34%|███████████████████▉                                       | 259/768 [00:04<00:08, 57.70it/s]\u001b[A\n",
      "generating video...:  34%|███████████████████▉                                       | 259/768 [00:04<00:08, 57.70it/s]\u001b[A\n",
      "generating video...:  34%|███████████████████▉                                       | 260/768 [00:04<00:08, 57.70it/s]\u001b[A\n",
      "generating video...:  34%|████████████████████                                       | 261/768 [00:04<00:08, 57.70it/s]\u001b[A\n",
      "generating video...:  34%|████████████████████▏                                      | 262/768 [00:04<00:08, 57.70it/s]\u001b[A\n",
      "generating video...:  34%|████████████████████▏                                      | 263/768 [00:04<00:08, 57.70it/s]\u001b[A\n",
      "generating video...:  34%|████████████████████▎                                      | 264/768 [00:04<00:08, 57.70it/s]\u001b[A\n",
      "generating video...:  35%|████████████████████▎                                      | 265/768 [00:04<00:08, 57.70it/s]\u001b[A\n",
      "generating video...:  35%|████████████████████▍                                      | 266/768 [00:04<00:08, 59.55it/s]\u001b[A\n",
      "generating video...:  35%|████████████████████▍                                      | 266/768 [00:04<00:08, 59.55it/s]\u001b[A\n",
      "generating video...:  35%|████████████████████▌                                      | 267/768 [00:04<00:08, 59.55it/s]\u001b[A\n",
      "generating video...:  35%|████████████████████▌                                      | 268/768 [00:04<00:08, 59.55it/s]\u001b[A\n"
     ]
    },
    {
     "name": "stderr",
     "output_type": "stream",
     "text": [
      "generating video...:  35%|████████████████████▋                                      | 269/768 [00:04<00:08, 59.55it/s]\u001b[A\n",
      "generating video...:  35%|████████████████████▋                                      | 270/768 [00:04<00:08, 59.55it/s]\u001b[A\n",
      "generating video...:  35%|████████████████████▊                                      | 271/768 [00:04<00:08, 59.55it/s]\u001b[A\n",
      "generating video...:  35%|████████████████████▉                                      | 272/768 [00:04<00:08, 59.55it/s]\u001b[A\n",
      "generating video...:  36%|████████████████████▉                                      | 273/768 [00:04<00:08, 60.79it/s]\u001b[A\n",
      "generating video...:  36%|████████████████████▉                                      | 273/768 [00:04<00:08, 60.79it/s]\u001b[A\n",
      "generating video...:  36%|█████████████████████                                      | 274/768 [00:04<00:08, 60.79it/s]\u001b[A\n",
      "generating video...:  36%|█████████████████████▏                                     | 275/768 [00:04<00:08, 60.79it/s]\u001b[A\n",
      "generating video...:  36%|█████████████████████▏                                     | 276/768 [00:04<00:08, 60.79it/s]\u001b[A\n",
      "generating video...:  36%|█████████████████████▎                                     | 277/768 [00:04<00:08, 60.79it/s]\u001b[A\n",
      "generating video...:  36%|█████████████████████▎                                     | 278/768 [00:04<00:08, 60.79it/s]\u001b[A\n",
      "generating video...:  36%|█████████████████████▍                                     | 279/768 [00:04<00:08, 60.79it/s]\u001b[A\n",
      "generating video...:  36%|█████████████████████▌                                     | 280/768 [00:04<00:07, 61.31it/s]\u001b[A\n",
      "generating video...:  36%|█████████████████████▌                                     | 280/768 [00:04<00:07, 61.31it/s]\u001b[A\n",
      "generating video...:  37%|█████████████████████▌                                     | 281/768 [00:04<00:07, 61.31it/s]\u001b[A\n",
      "generating video...:  37%|█████████████████████▋                                     | 282/768 [00:04<00:07, 61.31it/s]\u001b[A\n",
      "generating video...:  37%|█████████████████████▋                                     | 283/768 [00:04<00:07, 61.31it/s]\u001b[A\n",
      "generating video...:  37%|█████████████████████▊                                     | 284/768 [00:04<00:07, 61.31it/s]\u001b[A\n",
      "generating video...:  37%|█████████████████████▉                                     | 285/768 [00:04<00:07, 61.31it/s]\u001b[A\n",
      "generating video...:  37%|█████████████████████▉                                     | 286/768 [00:04<00:07, 61.31it/s]\u001b[A\n",
      "generating video...:  37%|██████████████████████                                     | 287/768 [00:04<00:07, 62.22it/s]\u001b[A\n",
      "generating video...:  37%|██████████████████████                                     | 287/768 [00:04<00:07, 62.22it/s]\u001b[A\n",
      "generating video...:  38%|██████████████████████▏                                    | 288/768 [00:04<00:07, 62.22it/s]\u001b[A\n",
      "generating video...:  38%|██████████████████████▏                                    | 289/768 [00:04<00:07, 62.22it/s]\u001b[A\n",
      "generating video...:  38%|██████████████████████▎                                    | 290/768 [00:04<00:07, 62.22it/s]\u001b[A\n",
      "generating video...:  38%|██████████████████████▎                                    | 291/768 [00:04<00:07, 62.22it/s]\u001b[A\n",
      "generating video...:  38%|██████████████████████▍                                    | 292/768 [00:04<00:07, 62.22it/s]\u001b[A\n",
      "generating video...:  38%|██████████████████████▌                                    | 293/768 [00:04<00:07, 62.22it/s]\u001b[A\n",
      "generating video...:  38%|██████████████████████▌                                    | 294/768 [00:04<00:07, 62.28it/s]\u001b[A\n",
      "generating video...:  38%|██████████████████████▌                                    | 294/768 [00:04<00:07, 62.28it/s]\u001b[A\n",
      "generating video...:  38%|██████████████████████▋                                    | 295/768 [00:04<00:07, 62.28it/s]\u001b[A\n",
      "generating video...:  39%|██████████████████████▋                                    | 296/768 [00:04<00:07, 62.28it/s]\u001b[A\n",
      "generating video...:  39%|██████████████████████▊                                    | 297/768 [00:04<00:07, 62.28it/s]\u001b[A\n",
      "generating video...:  39%|██████████████████████▉                                    | 298/768 [00:04<00:07, 62.28it/s]\u001b[A\n",
      "generating video...:  39%|██████████████████████▉                                    | 299/768 [00:04<00:07, 62.28it/s]\u001b[A\n",
      "generating video...:  39%|███████████████████████                                    | 300/768 [00:04<00:07, 62.28it/s]\u001b[A\n",
      "generating video...:  39%|███████████████████████                                    | 301/768 [00:04<00:07, 60.01it/s]\u001b[A\n",
      "generating video...:  39%|███████████████████████                                    | 301/768 [00:04<00:07, 60.01it/s]\u001b[A\n",
      "generating video...:  39%|███████████████████████▏                                   | 302/768 [00:04<00:07, 60.01it/s]\u001b[A\n",
      "generating video...:  39%|███████████████████████▎                                   | 303/768 [00:04<00:07, 60.01it/s]\u001b[A\n",
      "generating video...:  40%|███████████████████████▎                                   | 304/768 [00:04<00:07, 60.01it/s]\u001b[A\n",
      "generating video...:  40%|███████████████████████▍                                   | 305/768 [00:04<00:07, 60.01it/s]\u001b[A\n",
      "generating video...:  40%|███████████████████████▌                                   | 306/768 [00:04<00:07, 60.01it/s]\u001b[A\n",
      "generating video...:  40%|███████████████████████▌                                   | 307/768 [00:04<00:07, 60.01it/s]\u001b[A\n",
      "generating video...:  40%|███████████████████████▋                                   | 308/768 [00:04<00:07, 60.00it/s]\u001b[A\n",
      "generating video...:  40%|███████████████████████▋                                   | 308/768 [00:05<00:07, 60.00it/s]\u001b[A\n",
      "generating video...:  40%|███████████████████████▋                                   | 309/768 [00:05<00:07, 60.00it/s]\u001b[A\n",
      "generating video...:  40%|███████████████████████▊                                   | 310/768 [00:05<00:07, 60.00it/s]\u001b[A\n",
      "generating video...:  40%|███████████████████████▉                                   | 311/768 [00:05<00:07, 60.00it/s]\u001b[A\n",
      "generating video...:  41%|███████████████████████▉                                   | 312/768 [00:05<00:07, 60.00it/s]\u001b[A\n",
      "generating video...:  41%|████████████████████████                                   | 313/768 [00:05<00:07, 60.00it/s]\u001b[A\n",
      "generating video...:  41%|████████████████████████                                   | 314/768 [00:05<00:07, 60.00it/s]\u001b[A\n",
      "generating video...:  41%|████████████████████████▏                                  | 315/768 [00:05<00:07, 60.87it/s]\u001b[A\n",
      "generating video...:  41%|████████████████████████▏                                  | 315/768 [00:05<00:07, 60.87it/s]\u001b[A\n",
      "generating video...:  41%|████████████████████████▎                                  | 316/768 [00:05<00:07, 60.87it/s]\u001b[A\n",
      "generating video...:  41%|████████████████████████▎                                  | 317/768 [00:05<00:07, 60.87it/s]\u001b[A\n",
      "generating video...:  41%|████████████████████████▍                                  | 318/768 [00:05<00:07, 60.87it/s]\u001b[A\n",
      "generating video...:  42%|████████████████████████▌                                  | 319/768 [00:05<00:07, 60.87it/s]\u001b[A\n",
      "generating video...:  42%|████████████████████████▌                                  | 320/768 [00:05<00:07, 60.87it/s]\u001b[A\n",
      "generating video...:  42%|████████████████████████▋                                  | 321/768 [00:05<00:07, 60.87it/s]\u001b[A\n",
      "generating video...:  42%|████████████████████████▋                                  | 322/768 [00:05<00:07, 61.87it/s]\u001b[A\n",
      "generating video...:  42%|████████████████████████▋                                  | 322/768 [00:05<00:07, 61.87it/s]\u001b[A\n",
      "generating video...:  42%|████████████████████████▊                                  | 323/768 [00:05<00:07, 61.87it/s]\u001b[A\n",
      "generating video...:  42%|████████████████████████▉                                  | 324/768 [00:05<00:07, 61.87it/s]\u001b[A\n",
      "generating video...:  42%|████████████████████████▉                                  | 325/768 [00:05<00:07, 61.87it/s]\u001b[A\n",
      "generating video...:  42%|█████████████████████████                                  | 326/768 [00:05<00:07, 61.87it/s]\u001b[A\n"
     ]
    },
    {
     "name": "stderr",
     "output_type": "stream",
     "text": [
      "generating video...:  43%|█████████████████████████                                  | 327/768 [00:05<00:07, 61.87it/s]\u001b[A\n",
      "generating video...:  43%|█████████████████████████▏                                 | 328/768 [00:05<00:07, 61.87it/s]\u001b[A\n",
      "generating video...:  43%|█████████████████████████▎                                 | 329/768 [00:05<00:07, 62.41it/s]\u001b[A\n",
      "generating video...:  43%|█████████████████████████▎                                 | 329/768 [00:05<00:07, 62.41it/s]\u001b[A\n",
      "generating video...:  43%|█████████████████████████▎                                 | 330/768 [00:05<00:07, 62.41it/s]\u001b[A\n",
      "generating video...:  43%|█████████████████████████▍                                 | 331/768 [00:05<00:07, 62.41it/s]\u001b[A\n",
      "generating video...:  43%|█████████████████████████▌                                 | 332/768 [00:05<00:06, 62.41it/s]\u001b[A\n",
      "generating video...:  43%|█████████████████████████▌                                 | 333/768 [00:05<00:06, 62.41it/s]\u001b[A\n",
      "generating video...:  43%|█████████████████████████▋                                 | 334/768 [00:05<00:06, 62.41it/s]\u001b[A\n",
      "generating video...:  44%|█████████████████████████▋                                 | 335/768 [00:05<00:06, 62.41it/s]\u001b[A\n",
      "generating video...:  44%|█████████████████████████▊                                 | 336/768 [00:05<00:06, 62.39it/s]\u001b[A\n",
      "generating video...:  44%|█████████████████████████▊                                 | 336/768 [00:05<00:06, 62.39it/s]\u001b[A\n",
      "generating video...:  44%|█████████████████████████▉                                 | 337/768 [00:05<00:06, 62.39it/s]\u001b[A\n",
      "generating video...:  44%|█████████████████████████▉                                 | 338/768 [00:05<00:06, 62.39it/s]\u001b[A\n",
      "generating video...:  44%|██████████████████████████                                 | 339/768 [00:05<00:06, 62.39it/s]\u001b[A\n",
      "generating video...:  44%|██████████████████████████                                 | 340/768 [00:05<00:06, 62.39it/s]\u001b[A\n",
      "generating video...:  44%|██████████████████████████▏                                | 341/768 [00:05<00:06, 62.39it/s]\u001b[A\n",
      "generating video...:  45%|██████████████████████████▎                                | 342/768 [00:05<00:06, 62.39it/s]\u001b[A\n",
      "generating video...:  45%|██████████████████████████▎                                | 343/768 [00:05<00:06, 63.50it/s]\u001b[A\n",
      "generating video...:  45%|██████████████████████████▎                                | 343/768 [00:05<00:06, 63.50it/s]\u001b[A\n",
      "generating video...:  45%|██████████████████████████▍                                | 344/768 [00:05<00:06, 63.50it/s]\u001b[A\n",
      "generating video...:  45%|██████████████████████████▌                                | 345/768 [00:05<00:06, 63.50it/s]\u001b[A\n",
      "generating video...:  45%|██████████████████████████▌                                | 346/768 [00:05<00:06, 63.50it/s]\u001b[A\n",
      "generating video...:  45%|██████████████████████████▋                                | 347/768 [00:05<00:06, 63.50it/s]\u001b[A\n",
      "generating video...:  45%|██████████████████████████▋                                | 348/768 [00:05<00:06, 63.50it/s]\u001b[A\n",
      "generating video...:  45%|██████████████████████████▊                                | 349/768 [00:05<00:06, 63.50it/s]\u001b[A\n",
      "generating video...:  46%|██████████████████████████▉                                | 350/768 [00:05<00:06, 63.71it/s]\u001b[A\n",
      "generating video...:  46%|██████████████████████████▉                                | 350/768 [00:05<00:06, 63.71it/s]\u001b[A\n",
      "generating video...:  46%|██████████████████████████▉                                | 351/768 [00:05<00:06, 63.71it/s]\u001b[A\n",
      "generating video...:  46%|███████████████████████████                                | 352/768 [00:05<00:06, 63.71it/s]\u001b[A\n",
      "generating video...:  46%|███████████████████████████                                | 353/768 [00:05<00:06, 63.71it/s]\u001b[A\n",
      "generating video...:  46%|███████████████████████████▏                               | 354/768 [00:05<00:06, 63.71it/s]\u001b[A\n",
      "generating video...:  46%|███████████████████████████▎                               | 355/768 [00:05<00:06, 63.71it/s]\u001b[A\n",
      "generating video...:  46%|███████████████████████████▎                               | 356/768 [00:05<00:06, 63.71it/s]\u001b[A\n",
      "generating video...:  46%|███████████████████████████▍                               | 357/768 [00:05<00:06, 64.02it/s]\u001b[A\n",
      "generating video...:  46%|███████████████████████████▍                               | 357/768 [00:05<00:06, 64.02it/s]\u001b[A\n",
      "generating video...:  47%|███████████████████████████▌                               | 358/768 [00:05<00:06, 64.02it/s]\u001b[A\n",
      "generating video...:  47%|███████████████████████████▌                               | 359/768 [00:05<00:06, 64.02it/s]\u001b[A\n",
      "generating video...:  47%|███████████████████████████▋                               | 360/768 [00:05<00:06, 64.02it/s]\u001b[A\n",
      "generating video...:  47%|███████████████████████████▋                               | 361/768 [00:05<00:06, 64.02it/s]\u001b[A\n",
      "generating video...:  47%|███████████████████████████▊                               | 362/768 [00:05<00:06, 64.02it/s]\u001b[A\n",
      "generating video...:  47%|███████████████████████████▉                               | 363/768 [00:05<00:06, 64.02it/s]\u001b[A\n",
      "generating video...:  47%|███████████████████████████▉                               | 364/768 [00:05<00:06, 61.80it/s]\u001b[A\n",
      "generating video...:  47%|███████████████████████████▉                               | 364/768 [00:05<00:06, 61.80it/s]\u001b[A\n",
      "generating video...:  48%|████████████████████████████                               | 365/768 [00:05<00:06, 61.80it/s]\u001b[A\n",
      "generating video...:  48%|████████████████████████████                               | 366/768 [00:05<00:06, 61.80it/s]\u001b[A\n",
      "generating video...:  48%|████████████████████████████▏                              | 367/768 [00:05<00:06, 61.80it/s]\u001b[A\n",
      "generating video...:  48%|████████████████████████████▎                              | 368/768 [00:05<00:06, 61.80it/s]\u001b[A\n",
      "generating video...:  48%|████████████████████████████▎                              | 369/768 [00:05<00:06, 61.80it/s]\u001b[A\n",
      "generating video...:  48%|████████████████████████████▍                              | 370/768 [00:06<00:06, 61.80it/s]\u001b[A\n",
      "generating video...:  48%|████████████████████████████▌                              | 371/768 [00:06<00:06, 59.74it/s]\u001b[A\n",
      "generating video...:  48%|████████████████████████████▌                              | 371/768 [00:06<00:06, 59.74it/s]\u001b[A\n",
      "generating video...:  48%|████████████████████████████▌                              | 372/768 [00:06<00:06, 59.74it/s]\u001b[A\n",
      "generating video...:  49%|████████████████████████████▋                              | 373/768 [00:06<00:06, 59.74it/s]\u001b[A\n",
      "generating video...:  49%|████████████████████████████▋                              | 374/768 [00:06<00:06, 59.74it/s]\u001b[A\n",
      "generating video...:  49%|████████████████████████████▊                              | 375/768 [00:06<00:06, 59.74it/s]\u001b[A\n",
      "generating video...:  49%|████████████████████████████▉                              | 376/768 [00:06<00:06, 59.74it/s]\u001b[A\n",
      "generating video...:  49%|████████████████████████████▉                              | 377/768 [00:06<00:06, 59.74it/s]\u001b[A\n",
      "generating video...:  49%|█████████████████████████████                              | 378/768 [00:06<00:06, 60.21it/s]\u001b[A\n",
      "generating video...:  49%|█████████████████████████████                              | 378/768 [00:06<00:06, 60.21it/s]\u001b[A\n",
      "generating video...:  49%|█████████████████████████████                              | 379/768 [00:06<00:06, 60.21it/s]\u001b[A\n",
      "generating video...:  49%|█████████████████████████████▏                             | 380/768 [00:06<00:06, 60.21it/s]\u001b[A\n",
      "generating video...:  50%|█████████████████████████████▎                             | 381/768 [00:06<00:06, 60.21it/s]\u001b[A\n",
      "generating video...:  50%|█████████████████████████████▎                             | 382/768 [00:06<00:06, 60.21it/s]\u001b[A\n",
      "generating video...:  50%|█████████████████████████████▍                             | 383/768 [00:06<00:06, 60.21it/s]\u001b[A\n",
      "generating video...:  50%|█████████████████████████████▌                             | 384/768 [00:06<00:06, 60.21it/s]\u001b[A\n"
     ]
    },
    {
     "name": "stderr",
     "output_type": "stream",
     "text": [
      "generating video...:  50%|█████████████████████████████▌                             | 385/768 [00:06<00:06, 59.63it/s]\u001b[A\n",
      "generating video...:  50%|█████████████████████████████▌                             | 385/768 [00:06<00:06, 59.63it/s]\u001b[A\n",
      "generating video...:  50%|█████████████████████████████▋                             | 386/768 [00:06<00:06, 59.63it/s]\u001b[A\n",
      "generating video...:  50%|█████████████████████████████▋                             | 387/768 [00:06<00:06, 59.63it/s]\u001b[A\n",
      "generating video...:  51%|█████████████████████████████▊                             | 388/768 [00:06<00:06, 59.63it/s]\u001b[A\n",
      "generating video...:  51%|█████████████████████████████▉                             | 389/768 [00:06<00:06, 59.63it/s]\u001b[A\n",
      "generating video...:  51%|█████████████████████████████▉                             | 390/768 [00:06<00:06, 59.63it/s]\u001b[A\n",
      "generating video...:  51%|██████████████████████████████                             | 391/768 [00:06<00:06, 59.63it/s]\u001b[A\n",
      "generating video...:  51%|██████████████████████████████                             | 392/768 [00:06<00:06, 60.78it/s]\u001b[A\n",
      "generating video...:  51%|██████████████████████████████                             | 392/768 [00:06<00:06, 60.78it/s]\u001b[A\n",
      "generating video...:  51%|██████████████████████████████▏                            | 393/768 [00:06<00:06, 60.78it/s]\u001b[A\n",
      "generating video...:  51%|██████████████████████████████▎                            | 394/768 [00:06<00:06, 60.78it/s]\u001b[A\n",
      "generating video...:  51%|██████████████████████████████▎                            | 395/768 [00:06<00:06, 60.78it/s]\u001b[A\n",
      "generating video...:  52%|██████████████████████████████▍                            | 396/768 [00:06<00:06, 60.78it/s]\u001b[A\n",
      "generating video...:  52%|██████████████████████████████▍                            | 397/768 [00:06<00:06, 60.78it/s]\u001b[A\n",
      "generating video...:  52%|██████████████████████████████▌                            | 398/768 [00:06<00:06, 60.78it/s]\u001b[A\n",
      "generating video...:  52%|██████████████████████████████▋                            | 399/768 [00:06<00:05, 61.50it/s]\u001b[A\n",
      "generating video...:  52%|██████████████████████████████▋                            | 399/768 [00:06<00:05, 61.50it/s]\u001b[A\n",
      "generating video...:  52%|██████████████████████████████▋                            | 400/768 [00:06<00:05, 61.50it/s]\u001b[A\n",
      "generating video...:  52%|██████████████████████████████▊                            | 401/768 [00:06<00:05, 61.50it/s]\u001b[A\n",
      "generating video...:  52%|██████████████████████████████▉                            | 402/768 [00:06<00:05, 61.50it/s]\u001b[A\n",
      "generating video...:  52%|██████████████████████████████▉                            | 403/768 [00:06<00:05, 61.50it/s]\u001b[A\n",
      "generating video...:  53%|███████████████████████████████                            | 404/768 [00:06<00:05, 61.50it/s]\u001b[A\n",
      "generating video...:  53%|███████████████████████████████                            | 405/768 [00:06<00:05, 61.50it/s]\u001b[A\n",
      "generating video...:  53%|███████████████████████████████▏                           | 406/768 [00:06<00:06, 59.99it/s]\u001b[A\n",
      "generating video...:  53%|███████████████████████████████▏                           | 406/768 [00:06<00:06, 59.99it/s]\u001b[A\n",
      "generating video...:  53%|███████████████████████████████▎                           | 407/768 [00:06<00:06, 59.99it/s]\u001b[A\n",
      "generating video...:  53%|███████████████████████████████▎                           | 408/768 [00:06<00:06, 59.99it/s]\u001b[A\n",
      "generating video...:  53%|███████████████████████████████▍                           | 409/768 [00:06<00:05, 59.99it/s]\u001b[A\n",
      "generating video...:  53%|███████████████████████████████▍                           | 410/768 [00:06<00:05, 59.99it/s]\u001b[A\n",
      "generating video...:  54%|███████████████████████████████▌                           | 411/768 [00:06<00:05, 59.99it/s]\u001b[A\n",
      "generating video...:  54%|███████████████████████████████▋                           | 412/768 [00:06<00:05, 59.99it/s]\u001b[A\n",
      "generating video...:  54%|███████████████████████████████▋                           | 413/768 [00:06<00:05, 61.06it/s]\u001b[A\n",
      "generating video...:  54%|███████████████████████████████▋                           | 413/768 [00:06<00:05, 61.06it/s]\u001b[A\n",
      "generating video...:  54%|███████████████████████████████▊                           | 414/768 [00:06<00:05, 61.06it/s]\u001b[A\n",
      "generating video...:  54%|███████████████████████████████▉                           | 415/768 [00:06<00:05, 61.06it/s]\u001b[A\n",
      "generating video...:  54%|███████████████████████████████▉                           | 416/768 [00:06<00:05, 61.06it/s]\u001b[A\n",
      "generating video...:  54%|████████████████████████████████                           | 417/768 [00:06<00:05, 61.06it/s]\u001b[A\n",
      "generating video...:  54%|████████████████████████████████                           | 418/768 [00:06<00:05, 61.06it/s]\u001b[A\n",
      "generating video...:  55%|████████████████████████████████▏                          | 419/768 [00:06<00:05, 61.06it/s]\u001b[A\n",
      "generating video...:  55%|████████████████████████████████▎                          | 420/768 [00:06<00:05, 59.65it/s]\u001b[A\n",
      "generating video...:  55%|████████████████████████████████▎                          | 420/768 [00:06<00:05, 59.65it/s]\u001b[A\n",
      "generating video...:  55%|████████████████████████████████▎                          | 421/768 [00:06<00:05, 59.65it/s]\u001b[A\n",
      "generating video...:  55%|████████████████████████████████▍                          | 422/768 [00:06<00:05, 59.65it/s]\u001b[A\n",
      "generating video...:  55%|████████████████████████████████▍                          | 423/768 [00:06<00:05, 59.65it/s]\u001b[A\n",
      "generating video...:  55%|████████████████████████████████▌                          | 424/768 [00:06<00:05, 59.65it/s]\u001b[A\n",
      "generating video...:  55%|████████████████████████████████▋                          | 425/768 [00:06<00:05, 59.65it/s]\u001b[A\n",
      "generating video...:  55%|████████████████████████████████▋                          | 426/768 [00:06<00:05, 59.65it/s]\u001b[A\n",
      "generating video...:  56%|████████████████████████████████▊                          | 427/768 [00:06<00:05, 61.39it/s]\u001b[A\n",
      "generating video...:  56%|████████████████████████████████▊                          | 427/768 [00:06<00:05, 61.39it/s]\u001b[A\n",
      "generating video...:  56%|████████████████████████████████▉                          | 428/768 [00:06<00:05, 61.39it/s]\u001b[A\n",
      "generating video...:  56%|████████████████████████████████▉                          | 429/768 [00:06<00:05, 61.39it/s]\u001b[A\n",
      "generating video...:  56%|█████████████████████████████████                          | 430/768 [00:06<00:05, 61.39it/s]\u001b[A\n",
      "generating video...:  56%|█████████████████████████████████                          | 431/768 [00:07<00:05, 61.39it/s]\u001b[A\n",
      "generating video...:  56%|█████████████████████████████████▏                         | 432/768 [00:07<00:05, 61.39it/s]\u001b[A\n",
      "generating video...:  56%|█████████████████████████████████▎                         | 433/768 [00:07<00:05, 61.39it/s]\u001b[A\n",
      "generating video...:  57%|█████████████████████████████████▎                         | 434/768 [00:07<00:05, 62.12it/s]\u001b[A\n",
      "generating video...:  57%|█████████████████████████████████▎                         | 434/768 [00:07<00:05, 62.12it/s]\u001b[A\n",
      "generating video...:  57%|█████████████████████████████████▍                         | 435/768 [00:07<00:05, 62.12it/s]\u001b[A\n",
      "generating video...:  57%|█████████████████████████████████▍                         | 436/768 [00:07<00:05, 62.12it/s]\u001b[A\n",
      "generating video...:  57%|█████████████████████████████████▌                         | 437/768 [00:07<00:05, 62.12it/s]\u001b[A\n",
      "generating video...:  57%|█████████████████████████████████▋                         | 438/768 [00:07<00:05, 62.12it/s]\u001b[A\n",
      "generating video...:  57%|█████████████████████████████████▋                         | 439/768 [00:07<00:05, 62.12it/s]\u001b[A\n",
      "generating video...:  57%|█████████████████████████████████▊                         | 440/768 [00:07<00:05, 62.12it/s]\u001b[A\n",
      "generating video...:  57%|█████████████████████████████████▉                         | 441/768 [00:07<00:05, 60.75it/s]\u001b[A\n",
      "generating video...:  57%|█████████████████████████████████▉                         | 441/768 [00:07<00:05, 60.75it/s]\u001b[A\n"
     ]
    },
    {
     "name": "stderr",
     "output_type": "stream",
     "text": [
      "generating video...:  58%|█████████████████████████████████▉                         | 442/768 [00:07<00:05, 60.75it/s]\u001b[A\n",
      "generating video...:  58%|██████████████████████████████████                         | 443/768 [00:07<00:05, 60.75it/s]\u001b[A\n",
      "generating video...:  58%|██████████████████████████████████                         | 444/768 [00:07<00:05, 60.75it/s]\u001b[A\n",
      "generating video...:  58%|██████████████████████████████████▏                        | 445/768 [00:07<00:05, 60.75it/s]\u001b[A\n",
      "generating video...:  58%|██████████████████████████████████▎                        | 446/768 [00:07<00:05, 60.75it/s]\u001b[A\n",
      "generating video...:  58%|██████████████████████████████████▎                        | 447/768 [00:07<00:05, 60.75it/s]\u001b[A\n",
      "generating video...:  58%|██████████████████████████████████▍                        | 448/768 [00:07<00:05, 61.70it/s]\u001b[A\n",
      "generating video...:  58%|██████████████████████████████████▍                        | 448/768 [00:07<00:05, 61.70it/s]\u001b[A\n",
      "generating video...:  58%|██████████████████████████████████▍                        | 449/768 [00:07<00:05, 61.70it/s]\u001b[A\n",
      "generating video...:  59%|██████████████████████████████████▌                        | 450/768 [00:07<00:05, 61.70it/s]\u001b[A\n",
      "generating video...:  59%|██████████████████████████████████▋                        | 451/768 [00:07<00:05, 61.70it/s]\u001b[A\n",
      "generating video...:  59%|██████████████████████████████████▋                        | 452/768 [00:07<00:05, 61.70it/s]\u001b[A\n",
      "generating video...:  59%|██████████████████████████████████▊                        | 453/768 [00:07<00:05, 61.70it/s]\u001b[A\n",
      "generating video...:  59%|██████████████████████████████████▉                        | 454/768 [00:07<00:05, 61.70it/s]\u001b[A\n",
      "generating video...:  59%|██████████████████████████████████▉                        | 455/768 [00:07<00:04, 62.63it/s]\u001b[A\n",
      "generating video...:  59%|██████████████████████████████████▉                        | 455/768 [00:07<00:04, 62.63it/s]\u001b[A\n",
      "generating video...:  59%|███████████████████████████████████                        | 456/768 [00:07<00:04, 62.63it/s]\u001b[A\n",
      "generating video...:  60%|███████████████████████████████████                        | 457/768 [00:07<00:04, 62.63it/s]\u001b[A\n",
      "generating video...:  60%|███████████████████████████████████▏                       | 458/768 [00:07<00:04, 62.63it/s]\u001b[A\n",
      "generating video...:  60%|███████████████████████████████████▎                       | 459/768 [00:07<00:04, 62.63it/s]\u001b[A\n",
      "generating video...:  60%|███████████████████████████████████▎                       | 460/768 [00:07<00:04, 62.63it/s]\u001b[A\n",
      "generating video...:  60%|███████████████████████████████████▍                       | 461/768 [00:07<00:04, 62.63it/s]\u001b[A\n",
      "generating video...:  60%|███████████████████████████████████▍                       | 462/768 [00:07<00:04, 63.45it/s]\u001b[A\n",
      "generating video...:  60%|███████████████████████████████████▍                       | 462/768 [00:07<00:04, 63.45it/s]\u001b[A\n",
      "generating video...:  60%|███████████████████████████████████▌                       | 463/768 [00:07<00:04, 63.45it/s]\u001b[A\n",
      "generating video...:  60%|███████████████████████████████████▋                       | 464/768 [00:07<00:04, 63.45it/s]\u001b[A\n",
      "generating video...:  61%|███████████████████████████████████▋                       | 465/768 [00:07<00:04, 63.45it/s]\u001b[A\n",
      "generating video...:  61%|███████████████████████████████████▊                       | 466/768 [00:07<00:04, 63.45it/s]\u001b[A\n",
      "generating video...:  61%|███████████████████████████████████▉                       | 467/768 [00:07<00:04, 63.45it/s]\u001b[A\n",
      "generating video...:  61%|███████████████████████████████████▉                       | 468/768 [00:07<00:04, 63.45it/s]\u001b[A\n",
      "generating video...:  61%|████████████████████████████████████                       | 469/768 [00:07<00:04, 63.83it/s]\u001b[A\n",
      "generating video...:  61%|████████████████████████████████████                       | 469/768 [00:07<00:04, 63.83it/s]\u001b[A\n",
      "generating video...:  61%|████████████████████████████████████                       | 470/768 [00:07<00:04, 63.83it/s]\u001b[A\n",
      "generating video...:  61%|████████████████████████████████████▏                      | 471/768 [00:07<00:04, 63.83it/s]\u001b[A\n",
      "generating video...:  61%|████████████████████████████████████▎                      | 472/768 [00:07<00:04, 63.83it/s]\u001b[A\n",
      "generating video...:  62%|████████████████████████████████████▎                      | 473/768 [00:07<00:04, 63.83it/s]\u001b[A\n",
      "generating video...:  62%|████████████████████████████████████▍                      | 474/768 [00:07<00:04, 63.83it/s]\u001b[A\n",
      "generating video...:  62%|████████████████████████████████████▍                      | 475/768 [00:07<00:04, 63.83it/s]\u001b[A\n",
      "generating video...:  62%|████████████████████████████████████▌                      | 476/768 [00:07<00:04, 63.76it/s]\u001b[A\n",
      "generating video...:  62%|████████████████████████████████████▌                      | 476/768 [00:07<00:04, 63.76it/s]\u001b[A\n",
      "generating video...:  62%|████████████████████████████████████▋                      | 477/768 [00:07<00:04, 63.76it/s]\u001b[A\n",
      "generating video...:  62%|████████████████████████████████████▋                      | 478/768 [00:07<00:04, 63.76it/s]\u001b[A\n",
      "generating video...:  62%|████████████████████████████████████▊                      | 479/768 [00:07<00:04, 63.76it/s]\u001b[A\n",
      "generating video...:  62%|████████████████████████████████████▉                      | 480/768 [00:07<00:04, 63.76it/s]\u001b[A\n",
      "generating video...:  63%|████████████████████████████████████▉                      | 481/768 [00:07<00:04, 63.76it/s]\u001b[A\n",
      "generating video...:  63%|█████████████████████████████████████                      | 482/768 [00:07<00:04, 63.76it/s]\u001b[A\n",
      "generating video...:  63%|█████████████████████████████████████                      | 483/768 [00:07<00:04, 63.72it/s]\u001b[A\n",
      "generating video...:  63%|█████████████████████████████████████                      | 483/768 [00:07<00:04, 63.72it/s]\u001b[A\n",
      "generating video...:  63%|█████████████████████████████████████▏                     | 484/768 [00:07<00:04, 63.72it/s]\u001b[A\n",
      "generating video...:  63%|█████████████████████████████████████▎                     | 485/768 [00:07<00:04, 63.72it/s]\u001b[A\n",
      "generating video...:  63%|█████████████████████████████████████▎                     | 486/768 [00:07<00:04, 63.72it/s]\u001b[A\n",
      "generating video...:  63%|█████████████████████████████████████▍                     | 487/768 [00:07<00:04, 63.72it/s]\u001b[A\n",
      "generating video...:  64%|█████████████████████████████████████▍                     | 488/768 [00:07<00:04, 63.72it/s]\u001b[A\n",
      "generating video...:  64%|█████████████████████████████████████▌                     | 489/768 [00:07<00:04, 63.72it/s]\u001b[A\n",
      "generating video...:  64%|█████████████████████████████████████▋                     | 490/768 [00:07<00:04, 63.88it/s]\u001b[A\n",
      "generating video...:  64%|█████████████████████████████████████▋                     | 490/768 [00:07<00:04, 63.88it/s]\u001b[A\n",
      "generating video...:  64%|█████████████████████████████████████▋                     | 491/768 [00:07<00:04, 63.88it/s]\u001b[A\n",
      "generating video...:  64%|█████████████████████████████████████▊                     | 492/768 [00:07<00:04, 63.88it/s]\u001b[A\n",
      "generating video...:  64%|█████████████████████████████████████▊                     | 493/768 [00:07<00:04, 63.88it/s]\u001b[A\n",
      "generating video...:  64%|█████████████████████████████████████▉                     | 494/768 [00:07<00:04, 63.88it/s]\u001b[A\n",
      "generating video...:  64%|██████████████████████████████████████                     | 495/768 [00:08<00:04, 63.88it/s]\u001b[A\n",
      "generating video...:  65%|██████████████████████████████████████                     | 496/768 [00:08<00:04, 63.88it/s]\u001b[A\n",
      "generating video...:  65%|██████████████████████████████████████▏                    | 497/768 [00:08<00:04, 63.63it/s]\u001b[A\n",
      "generating video...:  65%|██████████████████████████████████████▏                    | 497/768 [00:08<00:04, 63.63it/s]\u001b[A\n",
      "generating video...:  65%|██████████████████████████████████████▎                    | 498/768 [00:08<00:04, 63.63it/s]\u001b[A\n",
      "generating video...:  65%|██████████████████████████████████████▎                    | 499/768 [00:08<00:04, 63.63it/s]\u001b[A\n"
     ]
    },
    {
     "name": "stderr",
     "output_type": "stream",
     "text": [
      "generating video...:  65%|██████████████████████████████████████▍                    | 500/768 [00:08<00:04, 63.63it/s]\u001b[A\n",
      "generating video...:  65%|██████████████████████████████████████▍                    | 501/768 [00:08<00:04, 63.63it/s]\u001b[A\n",
      "generating video...:  65%|██████████████████████████████████████▌                    | 502/768 [00:08<00:04, 63.63it/s]\u001b[A\n",
      "generating video...:  65%|██████████████████████████████████████▋                    | 503/768 [00:08<00:04, 63.63it/s]\u001b[A\n",
      "generating video...:  66%|██████████████████████████████████████▋                    | 504/768 [00:08<00:04, 63.81it/s]\u001b[A\n",
      "generating video...:  66%|██████████████████████████████████████▋                    | 504/768 [00:08<00:04, 63.81it/s]\u001b[A\n",
      "generating video...:  66%|██████████████████████████████████████▊                    | 505/768 [00:08<00:04, 63.81it/s]\u001b[A\n",
      "generating video...:  66%|██████████████████████████████████████▊                    | 506/768 [00:08<00:04, 63.81it/s]\u001b[A\n",
      "generating video...:  66%|██████████████████████████████████████▉                    | 507/768 [00:08<00:04, 63.81it/s]\u001b[A\n",
      "generating video...:  66%|███████████████████████████████████████                    | 508/768 [00:08<00:04, 63.81it/s]\u001b[A\n",
      "generating video...:  66%|███████████████████████████████████████                    | 509/768 [00:08<00:04, 63.81it/s]\u001b[A\n",
      "generating video...:  66%|███████████████████████████████████████▏                   | 510/768 [00:08<00:04, 63.81it/s]\u001b[A\n",
      "generating video...:  67%|███████████████████████████████████████▎                   | 511/768 [00:08<00:04, 63.93it/s]\u001b[A\n",
      "generating video...:  67%|███████████████████████████████████████▎                   | 511/768 [00:08<00:04, 63.93it/s]\u001b[A\n",
      "generating video...:  67%|███████████████████████████████████████▎                   | 512/768 [00:08<00:04, 63.93it/s]\u001b[A\n",
      "generating video...:  67%|███████████████████████████████████████▍                   | 513/768 [00:08<00:03, 63.93it/s]\u001b[A\n",
      "generating video...:  67%|███████████████████████████████████████▍                   | 514/768 [00:08<00:03, 63.93it/s]\u001b[A\n",
      "generating video...:  67%|███████████████████████████████████████▌                   | 515/768 [00:08<00:03, 63.93it/s]\u001b[A\n",
      "generating video...:  67%|███████████████████████████████████████▋                   | 516/768 [00:08<00:03, 63.93it/s]\u001b[A\n",
      "generating video...:  67%|███████████████████████████████████████▋                   | 517/768 [00:08<00:03, 63.93it/s]\u001b[A\n",
      "generating video...:  67%|███████████████████████████████████████▊                   | 518/768 [00:08<00:03, 63.28it/s]\u001b[A\n",
      "generating video...:  67%|███████████████████████████████████████▊                   | 518/768 [00:08<00:03, 63.28it/s]\u001b[A\n",
      "generating video...:  68%|███████████████████████████████████████▊                   | 519/768 [00:08<00:03, 63.28it/s]\u001b[A\n",
      "generating video...:  68%|███████████████████████████████████████▉                   | 520/768 [00:08<00:03, 63.28it/s]\u001b[A\n",
      "generating video...:  68%|████████████████████████████████████████                   | 521/768 [00:08<00:03, 63.28it/s]\u001b[A\n",
      "generating video...:  68%|████████████████████████████████████████                   | 522/768 [00:08<00:03, 63.28it/s]\u001b[A\n",
      "generating video...:  68%|████████████████████████████████████████▏                  | 523/768 [00:08<00:03, 63.28it/s]\u001b[A\n",
      "generating video...:  68%|████████████████████████████████████████▎                  | 524/768 [00:08<00:03, 63.28it/s]\u001b[A\n",
      "generating video...:  68%|████████████████████████████████████████▎                  | 525/768 [00:08<00:03, 64.08it/s]\u001b[A\n",
      "generating video...:  68%|████████████████████████████████████████▎                  | 525/768 [00:08<00:03, 64.08it/s]\u001b[A\n",
      "generating video...:  68%|████████████████████████████████████████▍                  | 526/768 [00:08<00:03, 64.08it/s]\u001b[A\n",
      "generating video...:  69%|████████████████████████████████████████▍                  | 527/768 [00:08<00:03, 64.08it/s]\u001b[A\n",
      "generating video...:  69%|████████████████████████████████████████▌                  | 528/768 [00:08<00:03, 64.08it/s]\u001b[A\n",
      "generating video...:  69%|████████████████████████████████████████▋                  | 529/768 [00:08<00:03, 64.08it/s]\u001b[A\n",
      "generating video...:  69%|████████████████████████████████████████▋                  | 530/768 [00:08<00:03, 64.08it/s]\u001b[A\n",
      "generating video...:  69%|████████████████████████████████████████▊                  | 531/768 [00:08<00:03, 64.08it/s]\u001b[A\n",
      "generating video...:  69%|████████████████████████████████████████▊                  | 532/768 [00:08<00:03, 63.79it/s]\u001b[A\n",
      "generating video...:  69%|████████████████████████████████████████▊                  | 532/768 [00:08<00:03, 63.79it/s]\u001b[A\n",
      "generating video...:  69%|████████████████████████████████████████▉                  | 533/768 [00:08<00:03, 63.79it/s]\u001b[A\n",
      "generating video...:  70%|█████████████████████████████████████████                  | 534/768 [00:08<00:03, 63.79it/s]\u001b[A\n",
      "generating video...:  70%|█████████████████████████████████████████                  | 535/768 [00:08<00:03, 63.79it/s]\u001b[A\n",
      "generating video...:  70%|█████████████████████████████████████████▏                 | 536/768 [00:08<00:03, 63.79it/s]\u001b[A\n",
      "generating video...:  70%|█████████████████████████████████████████▎                 | 537/768 [00:08<00:03, 63.79it/s]\u001b[A\n",
      "generating video...:  70%|█████████████████████████████████████████▎                 | 538/768 [00:08<00:03, 63.79it/s]\u001b[A\n",
      "generating video...:  70%|█████████████████████████████████████████▍                 | 539/768 [00:08<00:03, 63.75it/s]\u001b[A\n",
      "generating video...:  70%|█████████████████████████████████████████▍                 | 539/768 [00:08<00:03, 63.75it/s]\u001b[A\n",
      "generating video...:  70%|█████████████████████████████████████████▍                 | 540/768 [00:08<00:03, 63.75it/s]\u001b[A\n",
      "generating video...:  70%|█████████████████████████████████████████▌                 | 541/768 [00:08<00:03, 63.75it/s]\u001b[A\n",
      "generating video...:  71%|█████████████████████████████████████████▋                 | 542/768 [00:08<00:03, 63.75it/s]\u001b[A\n",
      "generating video...:  71%|█████████████████████████████████████████▋                 | 543/768 [00:08<00:03, 63.75it/s]\u001b[A\n",
      "generating video...:  71%|█████████████████████████████████████████▊                 | 544/768 [00:08<00:03, 63.75it/s]\u001b[A\n",
      "generating video...:  71%|█████████████████████████████████████████▊                 | 545/768 [00:08<00:03, 63.75it/s]\u001b[A\n",
      "generating video...:  71%|█████████████████████████████████████████▉                 | 546/768 [00:08<00:03, 63.71it/s]\u001b[A\n",
      "generating video...:  71%|█████████████████████████████████████████▉                 | 546/768 [00:08<00:03, 63.71it/s]\u001b[A\n",
      "generating video...:  71%|██████████████████████████████████████████                 | 547/768 [00:08<00:03, 63.71it/s]\u001b[A\n",
      "generating video...:  71%|██████████████████████████████████████████                 | 548/768 [00:08<00:03, 63.71it/s]\u001b[A\n",
      "generating video...:  71%|██████████████████████████████████████████▏                | 549/768 [00:08<00:03, 63.71it/s]\u001b[A\n",
      "generating video...:  72%|██████████████████████████████████████████▎                | 550/768 [00:08<00:03, 63.71it/s]\u001b[A\n",
      "generating video...:  72%|██████████████████████████████████████████▎                | 551/768 [00:08<00:03, 63.71it/s]\u001b[A\n",
      "generating video...:  72%|██████████████████████████████████████████▍                | 552/768 [00:08<00:03, 63.71it/s]\u001b[A\n",
      "generating video...:  72%|██████████████████████████████████████████▍                | 553/768 [00:08<00:03, 63.49it/s]\u001b[A\n",
      "generating video...:  72%|██████████████████████████████████████████▍                | 553/768 [00:08<00:03, 63.49it/s]\u001b[A\n",
      "generating video...:  72%|██████████████████████████████████████████▌                | 554/768 [00:08<00:03, 63.49it/s]\u001b[A\n",
      "generating video...:  72%|██████████████████████████████████████████▋                | 555/768 [00:08<00:03, 63.49it/s]\u001b[A\n",
      "generating video...:  72%|██████████████████████████████████████████▋                | 556/768 [00:08<00:03, 63.49it/s]\u001b[A\n",
      "generating video...:  73%|██████████████████████████████████████████▊                | 557/768 [00:08<00:03, 63.49it/s]\u001b[A\n"
     ]
    },
    {
     "name": "stderr",
     "output_type": "stream",
     "text": [
      "generating video...:  73%|██████████████████████████████████████████▊                | 558/768 [00:09<00:03, 63.49it/s]\u001b[A\n",
      "generating video...:  73%|██████████████████████████████████████████▉                | 559/768 [00:09<00:03, 63.49it/s]\u001b[A\n",
      "generating video...:  73%|███████████████████████████████████████████                | 560/768 [00:09<00:03, 63.73it/s]\u001b[A\n",
      "generating video...:  73%|███████████████████████████████████████████                | 560/768 [00:09<00:03, 63.73it/s]\u001b[A\n",
      "generating video...:  73%|███████████████████████████████████████████                | 561/768 [00:09<00:03, 63.73it/s]\u001b[A\n",
      "generating video...:  73%|███████████████████████████████████████████▏               | 562/768 [00:09<00:03, 63.73it/s]\u001b[A\n",
      "generating video...:  73%|███████████████████████████████████████████▎               | 563/768 [00:09<00:03, 63.73it/s]\u001b[A\n",
      "generating video...:  73%|███████████████████████████████████████████▎               | 564/768 [00:09<00:03, 63.73it/s]\u001b[A\n",
      "generating video...:  74%|███████████████████████████████████████████▍               | 565/768 [00:09<00:03, 63.73it/s]\u001b[A\n",
      "generating video...:  74%|███████████████████████████████████████████▍               | 566/768 [00:09<00:03, 63.73it/s]\u001b[A\n",
      "generating video...:  74%|███████████████████████████████████████████▌               | 567/768 [00:09<00:03, 63.34it/s]\u001b[A\n",
      "generating video...:  74%|███████████████████████████████████████████▌               | 567/768 [00:09<00:03, 63.34it/s]\u001b[A\n",
      "generating video...:  74%|███████████████████████████████████████████▋               | 568/768 [00:09<00:03, 63.34it/s]\u001b[A\n",
      "generating video...:  74%|███████████████████████████████████████████▋               | 569/768 [00:09<00:03, 63.34it/s]\u001b[A\n",
      "generating video...:  74%|███████████████████████████████████████████▊               | 570/768 [00:09<00:03, 63.34it/s]\u001b[A\n",
      "generating video...:  74%|███████████████████████████████████████████▊               | 571/768 [00:09<00:03, 63.34it/s]\u001b[A\n",
      "generating video...:  74%|███████████████████████████████████████████▉               | 572/768 [00:09<00:03, 63.34it/s]\u001b[A\n",
      "generating video...:  75%|████████████████████████████████████████████               | 573/768 [00:09<00:03, 63.34it/s]\u001b[A\n",
      "generating video...:  75%|████████████████████████████████████████████               | 574/768 [00:09<00:03, 62.12it/s]\u001b[A\n",
      "generating video...:  75%|████████████████████████████████████████████               | 574/768 [00:09<00:03, 62.12it/s]\u001b[A\n",
      "generating video...:  75%|████████████████████████████████████████████▏              | 575/768 [00:09<00:03, 62.12it/s]\u001b[A\n",
      "generating video...:  75%|████████████████████████████████████████████▎              | 576/768 [00:09<00:03, 62.12it/s]\u001b[A\n",
      "generating video...:  75%|████████████████████████████████████████████▎              | 577/768 [00:09<00:03, 62.12it/s]\u001b[A\n",
      "generating video...:  75%|████████████████████████████████████████████▍              | 578/768 [00:09<00:03, 62.12it/s]\u001b[A\n",
      "generating video...:  75%|████████████████████████████████████████████▍              | 579/768 [00:09<00:03, 62.12it/s]\u001b[A\n",
      "generating video...:  76%|████████████████████████████████████████████▌              | 580/768 [00:09<00:03, 62.12it/s]\u001b[A\n",
      "generating video...:  76%|████████████████████████████████████████████▋              | 581/768 [00:09<00:02, 62.92it/s]\u001b[A\n",
      "generating video...:  76%|████████████████████████████████████████████▋              | 581/768 [00:09<00:02, 62.92it/s]\u001b[A\n",
      "generating video...:  76%|████████████████████████████████████████████▋              | 582/768 [00:09<00:02, 62.92it/s]\u001b[A\n",
      "generating video...:  76%|████████████████████████████████████████████▊              | 583/768 [00:09<00:02, 62.92it/s]\u001b[A\n",
      "generating video...:  76%|████████████████████████████████████████████▊              | 584/768 [00:09<00:02, 62.92it/s]\u001b[A\n",
      "generating video...:  76%|████████████████████████████████████████████▉              | 585/768 [00:09<00:02, 62.92it/s]\u001b[A\n",
      "generating video...:  76%|█████████████████████████████████████████████              | 586/768 [00:09<00:02, 62.92it/s]\u001b[A\n",
      "generating video...:  76%|█████████████████████████████████████████████              | 587/768 [00:09<00:02, 62.92it/s]\u001b[A\n",
      "generating video...:  77%|█████████████████████████████████████████████▏             | 588/768 [00:09<00:02, 61.63it/s]\u001b[A\n",
      "generating video...:  77%|█████████████████████████████████████████████▏             | 588/768 [00:09<00:02, 61.63it/s]\u001b[A\n",
      "generating video...:  77%|█████████████████████████████████████████████▏             | 589/768 [00:09<00:02, 61.63it/s]\u001b[A\n",
      "generating video...:  77%|█████████████████████████████████████████████▎             | 590/768 [00:09<00:02, 61.63it/s]\u001b[A\n",
      "generating video...:  77%|█████████████████████████████████████████████▍             | 591/768 [00:09<00:02, 61.63it/s]\u001b[A\n",
      "generating video...:  77%|█████████████████████████████████████████████▍             | 592/768 [00:09<00:02, 61.63it/s]\u001b[A\n",
      "generating video...:  77%|█████████████████████████████████████████████▌             | 593/768 [00:09<00:02, 61.63it/s]\u001b[A\n",
      "generating video...:  77%|█████████████████████████████████████████████▋             | 594/768 [00:09<00:02, 61.63it/s]\u001b[A\n",
      "generating video...:  77%|█████████████████████████████████████████████▋             | 595/768 [00:09<00:02, 62.68it/s]\u001b[A\n",
      "generating video...:  77%|█████████████████████████████████████████████▋             | 595/768 [00:09<00:02, 62.68it/s]\u001b[A\n",
      "generating video...:  78%|█████████████████████████████████████████████▊             | 596/768 [00:09<00:02, 62.68it/s]\u001b[A\n",
      "generating video...:  78%|█████████████████████████████████████████████▊             | 597/768 [00:09<00:02, 62.68it/s]\u001b[A\n",
      "generating video...:  78%|█████████████████████████████████████████████▉             | 598/768 [00:09<00:02, 62.68it/s]\u001b[A\n",
      "generating video...:  78%|██████████████████████████████████████████████             | 599/768 [00:09<00:02, 62.68it/s]\u001b[A\n",
      "generating video...:  78%|██████████████████████████████████████████████             | 600/768 [00:09<00:02, 62.68it/s]\u001b[A\n",
      "generating video...:  78%|██████████████████████████████████████████████▏            | 601/768 [00:09<00:02, 62.68it/s]\u001b[A\n",
      "generating video...:  78%|██████████████████████████████████████████████▏            | 602/768 [00:09<00:02, 59.81it/s]\u001b[A\n",
      "generating video...:  78%|██████████████████████████████████████████████▏            | 602/768 [00:09<00:02, 59.81it/s]\u001b[A\n",
      "generating video...:  79%|██████████████████████████████████████████████▎            | 603/768 [00:09<00:02, 59.81it/s]\u001b[A\n",
      "generating video...:  79%|██████████████████████████████████████████████▍            | 604/768 [00:09<00:02, 59.81it/s]\u001b[A\n",
      "generating video...:  79%|██████████████████████████████████████████████▍            | 605/768 [00:09<00:02, 59.81it/s]\u001b[A\n",
      "generating video...:  79%|██████████████████████████████████████████████▌            | 606/768 [00:09<00:02, 59.81it/s]\u001b[A\n",
      "generating video...:  79%|██████████████████████████████████████████████▋            | 607/768 [00:09<00:02, 59.81it/s]\u001b[A\n",
      "generating video...:  79%|██████████████████████████████████████████████▋            | 608/768 [00:09<00:02, 59.81it/s]\u001b[A\n",
      "generating video...:  79%|██████████████████████████████████████████████▊            | 609/768 [00:09<00:02, 60.43it/s]\u001b[A\n",
      "generating video...:  79%|██████████████████████████████████████████████▊            | 609/768 [00:09<00:02, 60.43it/s]\u001b[A\n",
      "generating video...:  79%|██████████████████████████████████████████████▊            | 610/768 [00:09<00:02, 60.43it/s]\u001b[A\n",
      "generating video...:  80%|██████████████████████████████████████████████▉            | 611/768 [00:09<00:02, 60.43it/s]\u001b[A\n",
      "generating video...:  80%|███████████████████████████████████████████████            | 612/768 [00:09<00:02, 60.43it/s]\u001b[A\n",
      "generating video...:  80%|███████████████████████████████████████████████            | 613/768 [00:09<00:02, 60.43it/s]\u001b[A\n",
      "generating video...:  80%|███████████████████████████████████████████████▏           | 614/768 [00:09<00:02, 60.43it/s]\u001b[A\n",
      "generating video...:  80%|███████████████████████████████████████████████▏           | 615/768 [00:09<00:02, 60.43it/s]\u001b[A\n"
     ]
    },
    {
     "name": "stderr",
     "output_type": "stream",
     "text": [
      "generating video...:  80%|███████████████████████████████████████████████▎           | 616/768 [00:09<00:02, 59.79it/s]\u001b[A\n",
      "generating video...:  80%|███████████████████████████████████████████████▎           | 616/768 [00:09<00:02, 59.79it/s]\u001b[A\n",
      "generating video...:  80%|███████████████████████████████████████████████▍           | 617/768 [00:09<00:02, 59.79it/s]\u001b[A\n",
      "generating video...:  80%|███████████████████████████████████████████████▍           | 618/768 [00:10<00:02, 59.79it/s]\u001b[A\n",
      "generating video...:  81%|███████████████████████████████████████████████▌           | 619/768 [00:10<00:02, 59.79it/s]\u001b[A\n",
      "generating video...:  81%|███████████████████████████████████████████████▋           | 620/768 [00:10<00:02, 59.79it/s]\u001b[A\n",
      "generating video...:  81%|███████████████████████████████████████████████▋           | 621/768 [00:10<00:02, 59.79it/s]\u001b[A\n",
      "generating video...:  81%|███████████████████████████████████████████████▊           | 622/768 [00:10<00:02, 57.76it/s]\u001b[A\n",
      "generating video...:  81%|███████████████████████████████████████████████▊           | 622/768 [00:10<00:02, 57.76it/s]\u001b[A\n",
      "generating video...:  81%|███████████████████████████████████████████████▊           | 623/768 [00:10<00:02, 57.76it/s]\u001b[A\n",
      "generating video...:  81%|███████████████████████████████████████████████▉           | 624/768 [00:10<00:02, 57.76it/s]\u001b[A\n",
      "generating video...:  81%|████████████████████████████████████████████████           | 625/768 [00:10<00:02, 57.76it/s]\u001b[A\n",
      "generating video...:  82%|████████████████████████████████████████████████           | 626/768 [00:10<00:02, 57.76it/s]\u001b[A\n",
      "generating video...:  82%|████████████████████████████████████████████████▏          | 627/768 [00:10<00:02, 57.76it/s]\u001b[A\n",
      "generating video...:  82%|████████████████████████████████████████████████▏          | 628/768 [00:10<00:02, 57.76it/s]\u001b[A\n",
      "generating video...:  82%|████████████████████████████████████████████████▎          | 629/768 [00:10<00:02, 60.33it/s]\u001b[A\n",
      "generating video...:  82%|████████████████████████████████████████████████▎          | 629/768 [00:10<00:02, 60.33it/s]\u001b[A\n",
      "generating video...:  82%|████████████████████████████████████████████████▍          | 630/768 [00:10<00:02, 60.33it/s]\u001b[A\n",
      "generating video...:  82%|████████████████████████████████████████████████▍          | 631/768 [00:10<00:02, 60.33it/s]\u001b[A\n",
      "generating video...:  82%|████████████████████████████████████████████████▌          | 632/768 [00:10<00:02, 60.33it/s]\u001b[A\n",
      "generating video...:  82%|████████████████████████████████████████████████▋          | 633/768 [00:10<00:02, 60.33it/s]\u001b[A\n",
      "generating video...:  83%|████████████████████████████████████████████████▋          | 634/768 [00:10<00:02, 60.33it/s]\u001b[A\n",
      "generating video...:  83%|████████████████████████████████████████████████▊          | 635/768 [00:10<00:02, 60.33it/s]\u001b[A\n",
      "generating video...:  83%|████████████████████████████████████████████████▊          | 636/768 [00:10<00:02, 61.95it/s]\u001b[A\n",
      "generating video...:  83%|████████████████████████████████████████████████▊          | 636/768 [00:10<00:02, 61.95it/s]\u001b[A\n",
      "generating video...:  83%|████████████████████████████████████████████████▉          | 637/768 [00:10<00:02, 61.95it/s]\u001b[A\n",
      "generating video...:  83%|█████████████████████████████████████████████████          | 638/768 [00:10<00:02, 61.95it/s]\u001b[A\n",
      "generating video...:  83%|█████████████████████████████████████████████████          | 639/768 [00:10<00:02, 61.95it/s]\u001b[A\n",
      "generating video...:  83%|█████████████████████████████████████████████████▏         | 640/768 [00:10<00:02, 61.95it/s]\u001b[A\n",
      "generating video...:  83%|█████████████████████████████████████████████████▏         | 641/768 [00:10<00:02, 61.95it/s]\u001b[A\n",
      "generating video...:  84%|█████████████████████████████████████████████████▎         | 642/768 [00:10<00:02, 61.95it/s]\u001b[A\n",
      "generating video...:  84%|█████████████████████████████████████████████████▍         | 643/768 [00:10<00:01, 62.56it/s]\u001b[A\n",
      "generating video...:  84%|█████████████████████████████████████████████████▍         | 643/768 [00:10<00:01, 62.56it/s]\u001b[A\n",
      "generating video...:  84%|█████████████████████████████████████████████████▍         | 644/768 [00:10<00:01, 62.56it/s]\u001b[A\n",
      "generating video...:  84%|█████████████████████████████████████████████████▌         | 645/768 [00:10<00:01, 62.56it/s]\u001b[A\n",
      "generating video...:  84%|█████████████████████████████████████████████████▋         | 646/768 [00:10<00:01, 62.56it/s]\u001b[A\n",
      "generating video...:  84%|█████████████████████████████████████████████████▋         | 647/768 [00:10<00:01, 62.56it/s]\u001b[A\n",
      "generating video...:  84%|█████████████████████████████████████████████████▊         | 648/768 [00:10<00:01, 62.56it/s]\u001b[A\n",
      "generating video...:  85%|█████████████████████████████████████████████████▊         | 649/768 [00:10<00:01, 62.56it/s]\u001b[A\n",
      "generating video...:  85%|█████████████████████████████████████████████████▉         | 650/768 [00:10<00:01, 63.17it/s]\u001b[A\n",
      "generating video...:  85%|█████████████████████████████████████████████████▉         | 650/768 [00:10<00:01, 63.17it/s]\u001b[A\n",
      "generating video...:  85%|██████████████████████████████████████████████████         | 651/768 [00:10<00:01, 63.17it/s]\u001b[A\n",
      "generating video...:  85%|██████████████████████████████████████████████████         | 652/768 [00:10<00:01, 63.17it/s]\u001b[A\n",
      "generating video...:  85%|██████████████████████████████████████████████████▏        | 653/768 [00:10<00:01, 63.17it/s]\u001b[A\n",
      "generating video...:  85%|██████████████████████████████████████████████████▏        | 654/768 [00:10<00:01, 63.17it/s]\u001b[A\n",
      "generating video...:  85%|██████████████████████████████████████████████████▎        | 655/768 [00:10<00:01, 63.17it/s]\u001b[A\n",
      "generating video...:  85%|██████████████████████████████████████████████████▍        | 656/768 [00:10<00:01, 63.17it/s]\u001b[A\n",
      "generating video...:  86%|██████████████████████████████████████████████████▍        | 657/768 [00:10<00:01, 62.49it/s]\u001b[A\n",
      "generating video...:  86%|██████████████████████████████████████████████████▍        | 657/768 [00:10<00:01, 62.49it/s]\u001b[A\n",
      "generating video...:  86%|██████████████████████████████████████████████████▌        | 658/768 [00:10<00:01, 62.49it/s]\u001b[A\n",
      "generating video...:  86%|██████████████████████████████████████████████████▋        | 659/768 [00:10<00:01, 62.49it/s]\u001b[A\n",
      "generating video...:  86%|██████████████████████████████████████████████████▋        | 660/768 [00:10<00:01, 62.49it/s]\u001b[A\n",
      "generating video...:  86%|██████████████████████████████████████████████████▊        | 661/768 [00:10<00:01, 62.49it/s]\u001b[A\n",
      "generating video...:  86%|██████████████████████████████████████████████████▊        | 662/768 [00:10<00:01, 62.49it/s]\u001b[A\n",
      "generating video...:  86%|██████████████████████████████████████████████████▉        | 663/768 [00:10<00:01, 62.49it/s]\u001b[A\n",
      "generating video...:  86%|███████████████████████████████████████████████████        | 664/768 [00:10<00:01, 61.15it/s]\u001b[A\n",
      "generating video...:  86%|███████████████████████████████████████████████████        | 664/768 [00:10<00:01, 61.15it/s]\u001b[A\n",
      "generating video...:  87%|███████████████████████████████████████████████████        | 665/768 [00:10<00:01, 61.15it/s]\u001b[A\n",
      "generating video...:  87%|███████████████████████████████████████████████████▏       | 666/768 [00:10<00:01, 61.15it/s]\u001b[A\n",
      "generating video...:  87%|███████████████████████████████████████████████████▏       | 667/768 [00:10<00:01, 61.15it/s]\u001b[A\n",
      "generating video...:  87%|███████████████████████████████████████████████████▎       | 668/768 [00:10<00:01, 61.15it/s]\u001b[A\n",
      "generating video...:  87%|███████████████████████████████████████████████████▍       | 669/768 [00:10<00:01, 61.15it/s]\u001b[A\n",
      "generating video...:  87%|███████████████████████████████████████████████████▍       | 670/768 [00:10<00:01, 61.15it/s]\u001b[A\n",
      "generating video...:  87%|███████████████████████████████████████████████████▌       | 671/768 [00:10<00:01, 61.70it/s]\u001b[A\n",
      "generating video...:  87%|███████████████████████████████████████████████████▌       | 671/768 [00:10<00:01, 61.70it/s]\u001b[A\n",
      "generating video...:  88%|███████████████████████████████████████████████████▋       | 672/768 [00:10<00:01, 61.70it/s]\u001b[A\n"
     ]
    },
    {
     "name": "stderr",
     "output_type": "stream",
     "text": [
      "generating video...:  88%|███████████████████████████████████████████████████▋       | 673/768 [00:10<00:01, 61.70it/s]\u001b[A\n",
      "generating video...:  88%|███████████████████████████████████████████████████▊       | 674/768 [00:10<00:01, 61.70it/s]\u001b[A\n",
      "generating video...:  88%|███████████████████████████████████████████████████▊       | 675/768 [00:10<00:01, 61.70it/s]\u001b[A\n",
      "generating video...:  88%|███████████████████████████████████████████████████▉       | 676/768 [00:10<00:01, 61.70it/s]\u001b[A\n",
      "generating video...:  88%|████████████████████████████████████████████████████       | 677/768 [00:10<00:01, 61.70it/s]\u001b[A\n",
      "generating video...:  88%|████████████████████████████████████████████████████       | 678/768 [00:10<00:01, 62.62it/s]\u001b[A\n",
      "generating video...:  88%|████████████████████████████████████████████████████       | 678/768 [00:10<00:01, 62.62it/s]\u001b[A\n",
      "generating video...:  88%|████████████████████████████████████████████████████▏      | 679/768 [00:10<00:01, 62.62it/s]\u001b[A\n",
      "generating video...:  89%|████████████████████████████████████████████████████▏      | 680/768 [00:10<00:01, 62.62it/s]\u001b[A\n",
      "generating video...:  89%|████████████████████████████████████████████████████▎      | 681/768 [00:11<00:01, 62.62it/s]\u001b[A\n",
      "generating video...:  89%|████████████████████████████████████████████████████▍      | 682/768 [00:11<00:01, 62.62it/s]\u001b[A\n",
      "generating video...:  89%|████████████████████████████████████████████████████▍      | 683/768 [00:11<00:01, 62.62it/s]\u001b[A\n",
      "generating video...:  89%|████████████████████████████████████████████████████▌      | 684/768 [00:11<00:01, 62.62it/s]\u001b[A\n",
      "generating video...:  89%|████████████████████████████████████████████████████▌      | 685/768 [00:11<00:01, 62.99it/s]\u001b[A\n",
      "generating video...:  89%|████████████████████████████████████████████████████▌      | 685/768 [00:11<00:01, 62.99it/s]\u001b[A\n",
      "generating video...:  89%|████████████████████████████████████████████████████▋      | 686/768 [00:11<00:01, 62.99it/s]\u001b[A\n",
      "generating video...:  89%|████████████████████████████████████████████████████▊      | 687/768 [00:11<00:01, 62.99it/s]\u001b[A\n",
      "generating video...:  90%|████████████████████████████████████████████████████▊      | 688/768 [00:11<00:01, 62.99it/s]\u001b[A\n",
      "generating video...:  90%|████████████████████████████████████████████████████▉      | 689/768 [00:11<00:01, 62.99it/s]\u001b[A\n",
      "generating video...:  90%|█████████████████████████████████████████████████████      | 690/768 [00:11<00:01, 62.99it/s]\u001b[A\n",
      "generating video...:  90%|█████████████████████████████████████████████████████      | 691/768 [00:11<00:01, 62.99it/s]\u001b[A\n",
      "generating video...:  90%|█████████████████████████████████████████████████████▏     | 692/768 [00:11<00:01, 63.47it/s]\u001b[A\n",
      "generating video...:  90%|█████████████████████████████████████████████████████▏     | 692/768 [00:11<00:01, 63.47it/s]\u001b[A\n",
      "generating video...:  90%|█████████████████████████████████████████████████████▏     | 693/768 [00:11<00:01, 63.47it/s]\u001b[A\n",
      "generating video...:  90%|█████████████████████████████████████████████████████▎     | 694/768 [00:11<00:01, 63.47it/s]\u001b[A\n",
      "generating video...:  90%|█████████████████████████████████████████████████████▍     | 695/768 [00:11<00:01, 63.47it/s]\u001b[A\n",
      "generating video...:  91%|█████████████████████████████████████████████████████▍     | 696/768 [00:11<00:01, 63.47it/s]\u001b[A\n",
      "generating video...:  91%|█████████████████████████████████████████████████████▌     | 697/768 [00:11<00:01, 63.47it/s]\u001b[A\n",
      "generating video...:  91%|█████████████████████████████████████████████████████▌     | 698/768 [00:11<00:01, 63.47it/s]\u001b[A\n",
      "generating video...:  91%|█████████████████████████████████████████████████████▋     | 699/768 [00:11<00:01, 63.72it/s]\u001b[A\n",
      "generating video...:  91%|█████████████████████████████████████████████████████▋     | 699/768 [00:11<00:01, 63.72it/s]\u001b[A\n",
      "generating video...:  91%|█████████████████████████████████████████████████████▊     | 700/768 [00:11<00:01, 63.72it/s]\u001b[A\n",
      "generating video...:  91%|█████████████████████████████████████████████████████▊     | 701/768 [00:11<00:01, 63.72it/s]\u001b[A\n",
      "generating video...:  91%|█████████████████████████████████████████████████████▉     | 702/768 [00:11<00:01, 63.72it/s]\u001b[A\n",
      "generating video...:  92%|██████████████████████████████████████████████████████     | 703/768 [00:11<00:01, 63.72it/s]\u001b[A\n",
      "generating video...:  92%|██████████████████████████████████████████████████████     | 704/768 [00:11<00:01, 63.72it/s]\u001b[A\n",
      "generating video...:  92%|██████████████████████████████████████████████████████▏    | 705/768 [00:11<00:00, 63.72it/s]\u001b[A\n",
      "generating video...:  92%|██████████████████████████████████████████████████████▏    | 706/768 [00:11<00:00, 63.67it/s]\u001b[A\n",
      "generating video...:  92%|██████████████████████████████████████████████████████▏    | 706/768 [00:11<00:00, 63.67it/s]\u001b[A\n",
      "generating video...:  92%|██████████████████████████████████████████████████████▎    | 707/768 [00:11<00:00, 63.67it/s]\u001b[A\n",
      "generating video...:  92%|██████████████████████████████████████████████████████▍    | 708/768 [00:11<00:00, 63.67it/s]\u001b[A\n",
      "generating video...:  92%|██████████████████████████████████████████████████████▍    | 709/768 [00:11<00:00, 63.67it/s]\u001b[A\n",
      "generating video...:  92%|██████████████████████████████████████████████████████▌    | 710/768 [00:11<00:00, 63.67it/s]\u001b[A\n",
      "generating video...:  93%|██████████████████████████████████████████████████████▌    | 711/768 [00:11<00:00, 63.67it/s]\u001b[A\n",
      "generating video...:  93%|██████████████████████████████████████████████████████▋    | 712/768 [00:11<00:00, 63.67it/s]\u001b[A\n",
      "generating video...:  93%|██████████████████████████████████████████████████████▊    | 713/768 [00:11<00:00, 64.31it/s]\u001b[A\n",
      "generating video...:  93%|██████████████████████████████████████████████████████▊    | 713/768 [00:11<00:00, 64.31it/s]\u001b[A\n",
      "generating video...:  93%|██████████████████████████████████████████████████████▊    | 714/768 [00:11<00:00, 64.31it/s]\u001b[A\n",
      "generating video...:  93%|██████████████████████████████████████████████████████▉    | 715/768 [00:11<00:00, 64.31it/s]\u001b[A\n",
      "generating video...:  93%|███████████████████████████████████████████████████████    | 716/768 [00:11<00:00, 64.31it/s]\u001b[A\n",
      "generating video...:  93%|███████████████████████████████████████████████████████    | 717/768 [00:11<00:00, 64.31it/s]\u001b[A\n",
      "generating video...:  93%|███████████████████████████████████████████████████████▏   | 718/768 [00:11<00:00, 64.31it/s]\u001b[A\n",
      "generating video...:  94%|███████████████████████████████████████████████████████▏   | 719/768 [00:11<00:00, 64.31it/s]\u001b[A\n",
      "generating video...:  94%|███████████████████████████████████████████████████████▎   | 720/768 [00:11<00:00, 64.23it/s]\u001b[A\n",
      "generating video...:  94%|███████████████████████████████████████████████████████▎   | 720/768 [00:11<00:00, 64.23it/s]\u001b[A\n",
      "generating video...:  94%|███████████████████████████████████████████████████████▍   | 721/768 [00:11<00:00, 64.23it/s]\u001b[A\n",
      "generating video...:  94%|███████████████████████████████████████████████████████▍   | 722/768 [00:11<00:00, 64.23it/s]\u001b[A\n",
      "generating video...:  94%|███████████████████████████████████████████████████████▌   | 723/768 [00:11<00:00, 64.23it/s]\u001b[A\n",
      "generating video...:  94%|███████████████████████████████████████████████████████▌   | 724/768 [00:11<00:00, 64.23it/s]\u001b[A\n",
      "generating video...:  94%|███████████████████████████████████████████████████████▋   | 725/768 [00:11<00:00, 64.23it/s]\u001b[A\n",
      "generating video...:  95%|███████████████████████████████████████████████████████▊   | 726/768 [00:11<00:00, 64.23it/s]\u001b[A\n",
      "generating video...:  95%|███████████████████████████████████████████████████████▊   | 727/768 [00:11<00:00, 64.18it/s]\u001b[A\n",
      "generating video...:  95%|███████████████████████████████████████████████████████▊   | 727/768 [00:11<00:00, 64.18it/s]\u001b[A\n",
      "generating video...:  95%|███████████████████████████████████████████████████████▉   | 728/768 [00:11<00:00, 64.18it/s]\u001b[A\n",
      "generating video...:  95%|████████████████████████████████████████████████████████   | 729/768 [00:11<00:00, 64.18it/s]\u001b[A\n",
      "generating video...:  95%|████████████████████████████████████████████████████████   | 730/768 [00:11<00:00, 64.18it/s]\u001b[A\n"
     ]
    },
    {
     "name": "stderr",
     "output_type": "stream",
     "text": [
      "generating video...:  95%|████████████████████████████████████████████████████████▏  | 731/768 [00:11<00:00, 64.18it/s]\u001b[A\n",
      "generating video...:  95%|████████████████████████████████████████████████████████▏  | 732/768 [00:11<00:00, 64.18it/s]\u001b[A\n",
      "generating video...:  95%|████████████████████████████████████████████████████████▎  | 733/768 [00:11<00:00, 64.18it/s]\u001b[A\n",
      "generating video...:  96%|████████████████████████████████████████████████████████▍  | 734/768 [00:11<00:00, 64.38it/s]\u001b[A\n",
      "generating video...:  96%|████████████████████████████████████████████████████████▍  | 734/768 [00:11<00:00, 64.38it/s]\u001b[A\n",
      "generating video...:  96%|████████████████████████████████████████████████████████▍  | 735/768 [00:11<00:00, 64.38it/s]\u001b[A\n",
      "generating video...:  96%|████████████████████████████████████████████████████████▌  | 736/768 [00:11<00:00, 64.38it/s]\u001b[A\n",
      "generating video...:  96%|████████████████████████████████████████████████████████▌  | 737/768 [00:11<00:00, 64.38it/s]\u001b[A\n",
      "generating video...:  96%|████████████████████████████████████████████████████████▋  | 738/768 [00:11<00:00, 64.38it/s]\u001b[A\n",
      "generating video...:  96%|████████████████████████████████████████████████████████▊  | 739/768 [00:11<00:00, 64.38it/s]\u001b[A\n",
      "generating video...:  96%|████████████████████████████████████████████████████████▊  | 740/768 [00:11<00:00, 64.38it/s]\u001b[A\n",
      "generating video...:  96%|████████████████████████████████████████████████████████▉  | 741/768 [00:11<00:00, 64.14it/s]\u001b[A\n",
      "generating video...:  96%|████████████████████████████████████████████████████████▉  | 741/768 [00:11<00:00, 64.14it/s]\u001b[A\n",
      "generating video...:  97%|█████████████████████████████████████████████████████████  | 742/768 [00:11<00:00, 64.14it/s]\u001b[A\n",
      "generating video...:  97%|█████████████████████████████████████████████████████████  | 743/768 [00:11<00:00, 64.14it/s]\u001b[A\n",
      "generating video...:  97%|█████████████████████████████████████████████████████████▏ | 744/768 [00:11<00:00, 64.14it/s]\u001b[A\n",
      "generating video...:  97%|█████████████████████████████████████████████████████████▏ | 745/768 [00:12<00:00, 64.14it/s]\u001b[A\n",
      "generating video...:  97%|█████████████████████████████████████████████████████████▎ | 746/768 [00:12<00:00, 64.14it/s]\u001b[A\n",
      "generating video...:  97%|█████████████████████████████████████████████████████████▍ | 747/768 [00:12<00:00, 64.14it/s]\u001b[A\n",
      "generating video...:  97%|█████████████████████████████████████████████████████████▍ | 748/768 [00:12<00:00, 64.21it/s]\u001b[A\n",
      "generating video...:  97%|█████████████████████████████████████████████████████████▍ | 748/768 [00:12<00:00, 64.21it/s]\u001b[A\n",
      "generating video...:  98%|█████████████████████████████████████████████████████████▌ | 749/768 [00:12<00:00, 64.21it/s]\u001b[A\n",
      "generating video...:  98%|█████████████████████████████████████████████████████████▌ | 750/768 [00:12<00:00, 64.21it/s]\u001b[A\n",
      "generating video...:  98%|█████████████████████████████████████████████████████████▋ | 751/768 [00:12<00:00, 64.21it/s]\u001b[A\n",
      "generating video...:  98%|█████████████████████████████████████████████████████████▊ | 752/768 [00:12<00:00, 64.21it/s]\u001b[A\n",
      "generating video...:  98%|█████████████████████████████████████████████████████████▊ | 753/768 [00:12<00:00, 64.21it/s]\u001b[A\n",
      "generating video...:  98%|█████████████████████████████████████████████████████████▉ | 754/768 [00:12<00:00, 64.21it/s]\u001b[A\n",
      "generating video...:  98%|██████████████████████████████████████████████████████████ | 755/768 [00:12<00:00, 63.97it/s]\u001b[A\n",
      "generating video...:  98%|██████████████████████████████████████████████████████████ | 755/768 [00:12<00:00, 63.97it/s]\u001b[A\n",
      "generating video...:  98%|██████████████████████████████████████████████████████████ | 756/768 [00:12<00:00, 63.97it/s]\u001b[A\n",
      "generating video...:  99%|██████████████████████████████████████████████████████████▏| 757/768 [00:12<00:00, 63.97it/s]\u001b[A\n",
      "generating video...:  99%|██████████████████████████████████████████████████████████▏| 758/768 [00:12<00:00, 63.97it/s]\u001b[A\n",
      "generating video...:  99%|██████████████████████████████████████████████████████████▎| 759/768 [00:12<00:00, 63.97it/s]\u001b[A\n",
      "generating video...:  99%|██████████████████████████████████████████████████████████▍| 760/768 [00:12<00:00, 63.97it/s]\u001b[A\n",
      "generating video...:  99%|██████████████████████████████████████████████████████████▍| 761/768 [00:12<00:00, 63.97it/s]\u001b[A\n",
      "generating video...:  99%|██████████████████████████████████████████████████████████▌| 762/768 [00:12<00:00, 64.26it/s]\u001b[A\n",
      "generating video...:  99%|██████████████████████████████████████████████████████████▌| 762/768 [00:12<00:00, 64.26it/s]\u001b[A\n",
      "generating video...:  99%|██████████████████████████████████████████████████████████▌| 763/768 [00:12<00:00, 64.26it/s]\u001b[A\n",
      "generating video...:  99%|██████████████████████████████████████████████████████████▋| 764/768 [00:12<00:00, 64.26it/s]\u001b[A\n",
      "generating video...: 100%|██████████████████████████████████████████████████████████▊| 765/768 [00:12<00:00, 64.26it/s]\u001b[A\n",
      "generating video...: 100%|██████████████████████████████████████████████████████████▊| 766/768 [00:12<00:00, 64.26it/s]\u001b[A\n",
      "generating video...: 100%|██████████████████████████████████████████████████████████▉| 767/768 [00:12<00:00, 64.26it/s]\u001b[A\n",
      "generating video...: 100%|███████████████████████████████████████████████████████████| 768/768 [00:12<00:00, 64.26it/s]\u001b[A\n",
      "generating video...: : 769it [00:12, 61.70it/s]                                                                        \u001b[A"
     ]
    },
    {
     "data": {
      "text/html": [
       "<video src=\"./Toyota_Smarthome/pipline/video_output/P02T03C03_caption.mp4\" controls  >\n",
       "      Your browser does not support the <code>video</code> element.\n",
       "    </video>"
      ],
      "text/plain": [
       "<IPython.core.display.Video object>"
      ]
     },
     "execution_count": 160,
     "metadata": {},
     "output_type": "execute_result"
    }
   ],
   "source": [
    "#insert codes here\n",
    "from IPython.display import Video\n",
    "\n",
    "video_selected = video_dropdown.value.replace('.mp4','')\n",
    "model_selected = model_dropdown.value\n",
    "model_path = \"./Toyota_Smarthome/pipline/models/\" + model_selected\n",
    "%run -i ./Toyota_Smarthome/pipline/test2.py -videofile={video_selected} -load_model={model_path} -name={model_selected}\n",
    "Video(\"./Toyota_Smarthome/pipline/video_output/\" + video_selected + \"_caption.mp4\")"
   ]
  },
  {
   "cell_type": "markdown",
   "metadata": {
    "id": "x5cqhsmO1TW5"
   },
   "source": [
    "## 5. Testing and evaluating trained models\n",
    "\n",
    "This section shows"
   ]
  },
  {
   "cell_type": "code",
   "execution_count": null,
   "metadata": {
    "colab": {
     "base_uri": "https://localhost:8080/",
     "height": 182
    },
    "id": "KUHMF5Pr1XjJ",
    "outputId": "1f5edc5d-708c-4ada-e36d-83c19dbc1e0b"
   },
   "outputs": [],
   "source": []
  },
  {
   "cell_type": "markdown",
   "metadata": {
    "id": "vyUzIqvd3rue"
   },
   "source": [
    "## 6. Training of new model\n",
    "\n",
    "This section shows"
   ]
  },
  {
   "cell_type": "markdown",
   "metadata": {},
   "source": [
    "### Choose datasets for training/testing"
   ]
  },
  {
   "cell_type": "code",
   "execution_count": 79,
   "metadata": {
    "id": "yZ3NT9Et3wnT"
   },
   "outputs": [
    {
     "data": {
      "application/vnd.jupyter.widget-view+json": {
       "model_id": "76d979b94b894723b3982e0fb1e9142e",
       "version_major": 2,
       "version_minor": 0
      },
      "text/plain": [
       "SelectMultiple(description='Dataset:', options=('P02T01C06.mp4', 'P02T01C07.mp4', 'P02T02C03.mp4', 'P02T02C06.…"
      ]
     },
     "metadata": {},
     "output_type": "display_data"
    },
    {
     "data": {
      "application/vnd.jupyter.widget-view+json": {
       "model_id": "23ed3a720cee45669f9565a538f04226",
       "version_major": 2,
       "version_minor": 0
      },
      "text/plain": [
       "Button(description='Upload', style=ButtonStyle())"
      ]
     },
     "metadata": {},
     "output_type": "display_data"
    },
    {
     "name": "stdout",
     "output_type": "stream",
     "text": [
      "('P02T15C06.mp4', 'P02T16C06.mp4', 'P02T17C05.mp4', 'P02T18C05.mp4', 'P03T01C05.mp4', 'P03T02C04.mp4')\n",
      "('P02T14C06.mp4', 'P02T15C06.mp4', 'P02T16C06.mp4', 'P02T17C05.mp4', 'P02T18C05.mp4', 'P03T01C05.mp4', 'P03T02C04.mp4', 'P03T02C05.mp4', 'P03T03C04.mp4')\n"
     ]
    }
   ],
   "source": [
    "#C:\\Users\\leech\\OneDrive\\Documents\\untrimmed\\RGB.tar\\Videos_mp4\n",
    "DATASET_PATH = 'Videos_mp4'\n",
    "DATASET_ROOT_PATH = '../OneDrive/Documents/untrimmed/RGB.tar/'\n",
    "\n",
    "file_list = os.listdir(os.path.join(DATASET_ROOT_PATH, DATASET_PATH))\n",
    "\n",
    "sel = widgets.SelectMultiple(\n",
    "options=file_list,\n",
    "#rows=10,\n",
    "description='Dataset:',\n",
    "disabled=False\n",
    ")\n",
    "\n",
    "selected_videos = []\n",
    "\n",
    "but = widgets.Button(description = 'Upload')\n",
    "def on_button_clicked(b):\n",
    "    print(sel.value)\n",
    "\n",
    "but.on_click(on_button_clicked)\n",
    "\n",
    "display(sel)\n",
    "display(but)"
   ]
  },
  {
   "cell_type": "markdown",
   "metadata": {},
   "source": [
    "### Model name, Batch size, Epochs"
   ]
  },
  {
   "cell_type": "code",
   "execution_count": 151,
   "metadata": {},
   "outputs": [
    {
     "data": {
      "application/vnd.jupyter.widget-view+json": {
       "model_id": "a68ab3d4f2d54c4aa29a6f74c7e0875a",
       "version_major": 2,
       "version_minor": 0
      },
      "text/plain": [
       "Text(value='', description='Model name:')"
      ]
     },
     "metadata": {},
     "output_type": "display_data"
    },
    {
     "data": {
      "application/vnd.jupyter.widget-view+json": {
       "model_id": "31c461db59e0494c98fc725e583c1ddc",
       "version_major": 2,
       "version_minor": 0
      },
      "text/plain": [
       "BoundedIntText(value=2, description='Batch size:', max=4)"
      ]
     },
     "metadata": {},
     "output_type": "display_data"
    },
    {
     "data": {
      "application/vnd.jupyter.widget-view+json": {
       "model_id": "e30c5b955409477c9284d9f750d21f1c",
       "version_major": 2,
       "version_minor": 0
      },
      "text/plain": [
       "BoundedIntText(value=1000, description='Epochs:', max=1000)"
      ]
     },
     "metadata": {},
     "output_type": "display_data"
    },
    {
     "data": {
      "application/vnd.jupyter.widget-view+json": {
       "model_id": "dee7d9975a3c495baadb93846db1cf0e",
       "version_major": 2,
       "version_minor": 0
      },
      "text/plain": [
       "Button(description='Enter', style=ButtonStyle())"
      ]
     },
     "metadata": {},
     "output_type": "display_data"
    },
    {
     "name": "stdout",
     "output_type": "stream",
     "text": [
      "Model name set:  MODELTESST2\n",
      "batch size set:  1\n",
      "epochs set:  5\n"
     ]
    }
   ],
   "source": [
    "inp = widgets.Text(description='Model name:')\n",
    "batch_size = widgets.BoundedIntText(description='Batch size:',\n",
    "                                   value=2,\n",
    "                                   max=4)\n",
    "epochs = widgets.BoundedIntText(description='Epochs:',\n",
    "                               value=1000,\n",
    "                               max=1000)\n",
    "button = widgets.Button(description=\"Enter\")\n",
    "\n",
    "button = widgets.Button(description=\"Enter\")\n",
    "\n",
    "def on_button_clicked(b):\n",
    "    print(\"Model name set: \", inp.value)\n",
    "    print(\"batch size set: \", batch_size.value)\n",
    "    print(\"epochs set: \", epochs.value)\n",
    "\n",
    "button.on_click(on_button_clicked)\n",
    "display(inp)\n",
    "display(batch_size)\n",
    "display(epochs)\n",
    "display(button)"
   ]
  },
  {
   "cell_type": "markdown",
   "metadata": {},
   "source": [
    "### Start training model"
   ]
  },
  {
   "cell_type": "markdown",
   "metadata": {},
   "source": [
    "model_name = inp.value\n",
    "selected_videos = list(sel.value)\n",
    "for i in range(len(selected_videos)):\n",
    "    selected_videos[i] = selected_videos[i].replace('.mp4','')\n",
    "selected_videos_string=(','.join(selected_videos))\n",
    "batchSize = str(batch_size.value)\n",
    "epochValue = (epochs.value)\n",
    "%run -i ./Toyota_Smarthome/pipline/train.py -video_train_test={selected_videos_string} -model=PDAN -name={model_name} -batch_size={batchSize} -epoch={epochValue}"
   ]
  },
  {
   "cell_type": "code",
   "execution_count": null,
   "metadata": {},
   "outputs": [],
   "source": []
  },
  {
   "cell_type": "code",
   "execution_count": null,
   "metadata": {},
   "outputs": [],
   "source": []
  }
 ],
 "metadata": {
  "accelerator": "GPU",
  "colab": {
   "collapsed_sections": [
    "4pbFLqFs08xy"
   ],
   "include_colab_link": true,
   "provenance": []
  },
  "kernelspec": {
   "display_name": "Python 3",
   "language": "python",
   "name": "python3"
  },
  "language_info": {
   "codemirror_mode": {
    "name": "ipython",
    "version": 3
   },
   "file_extension": ".py",
   "mimetype": "text/x-python",
   "name": "python",
   "nbconvert_exporter": "python",
   "pygments_lexer": "ipython3",
   "version": "3.8.8"
  }
 },
 "nbformat": 4,
 "nbformat_minor": 1
}
