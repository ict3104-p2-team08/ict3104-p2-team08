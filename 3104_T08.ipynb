{
 "cells": [
  {
   "cell_type": "markdown",
   "metadata": {
    "colab_type": "text",
    "id": "view-in-github"
   },
   "source": [
    "<a href=\"https://colab.research.google.com/github/ict3104-p2-team08/ict3104-p2-team08/blob/inference_feat/3104_T08.ipynb\" target=\"_parent\"><img src=\"https://colab.research.google.com/assets/colab-badge.svg\" alt=\"Open In Colab\"/></a>"
   ]
  },
  {
   "cell_type": "markdown",
   "metadata": {
    "id": "2yJLCy-Wv_Rd"
   },
   "source": [
    "# Activity Detection ML Test"
   ]
  },
  {
   "cell_type": "markdown",
   "metadata": {
    "id": "iyKsO3crw1K5"
   },
   "source": [
    "## 1. Prerequisites\n",
    "\n",
    "This section provides the setting up of the environment"
   ]
  },
  {
   "cell_type": "code",
   "execution_count": 1,
   "metadata": {
    "colab": {
     "base_uri": "https://localhost:8080/"
    },
    "id": "heoGQJ7NyBiM",
    "outputId": "a2fa6fd7-2874-4e82-9914-1d335a7735cd"
   },
   "outputs": [
    {
     "name": "stdout",
     "output_type": "stream",
     "text": [
      "Looking in links: https://download.pytorch.org/whl/cu113/torch-1.12.1%2Bcu113-cp37-cp37m-linux_x86_64.whl\n",
      "Requirement already satisfied: torch in c:\\users\\leech\\anaconda3\\lib\\site-packages (1.12.1+cu116)\n",
      "Requirement already satisfied: typing-extensions in c:\\users\\leech\\anaconda3\\lib\\site-packages (from torch) (4.3.0)\n",
      "Looking in links: https://download.pytorch.org/whl/cu113/torchaudio-0.12.1%2Bcu113-cp37-cp37m-linux_x86_64.whl\n",
      "Requirement already satisfied: torchaudio in c:\\users\\leech\\anaconda3\\lib\\site-packages (0.12.1+cu116)\n",
      "Requirement already satisfied: torch==1.12.1 in c:\\users\\leech\\anaconda3\\lib\\site-packages (from torchaudio) (1.12.1+cu116)\n",
      "Requirement already satisfied: typing-extensions in c:\\users\\leech\\anaconda3\\lib\\site-packages (from torch==1.12.1->torchaudio) (4.3.0)\n",
      "Looking in links: https://download.pytorch.org/whl/cu113/torchvision-0.13.1%2Bcu113-cp37-cp37m-linux_x86_64.whl\n",
      "Requirement already satisfied: torchsummary==1.5.1 in c:\\users\\leech\\anaconda3\\lib\\site-packages (1.5.1)\n",
      "Requirement already satisfied: torchtext==0.13.1 in c:\\users\\leech\\anaconda3\\lib\\site-packages (0.13.1)\n",
      "Requirement already satisfied: torchvision in c:\\users\\leech\\anaconda3\\lib\\site-packages (0.13.1+cu116)\n",
      "Requirement already satisfied: tqdm in c:\\users\\leech\\anaconda3\\lib\\site-packages (from torchtext==0.13.1) (4.59.0)\n",
      "Requirement already satisfied: torch==1.12.1 in c:\\users\\leech\\anaconda3\\lib\\site-packages (from torchtext==0.13.1) (1.12.1+cu116)\n",
      "Requirement already satisfied: numpy in c:\\users\\leech\\anaconda3\\lib\\site-packages (from torchtext==0.13.1) (1.23.1)\n",
      "Requirement already satisfied: requests in c:\\users\\leech\\anaconda3\\lib\\site-packages (from torchtext==0.13.1) (2.25.1)\n",
      "Requirement already satisfied: typing-extensions in c:\\users\\leech\\anaconda3\\lib\\site-packages (from torch==1.12.1->torchtext==0.13.1) (4.3.0)\n",
      "Requirement already satisfied: pillow!=8.3.*,>=5.3.0 in c:\\users\\leech\\anaconda3\\lib\\site-packages (from torchvision) (8.2.0)\n",
      "Requirement already satisfied: chardet<5,>=3.0.2 in c:\\users\\leech\\anaconda3\\lib\\site-packages (from requests->torchtext==0.13.1) (4.0.0)\n",
      "Requirement already satisfied: urllib3<1.27,>=1.21.1 in c:\\users\\leech\\anaconda3\\lib\\site-packages (from requests->torchtext==0.13.1) (1.26.4)\n",
      "Requirement already satisfied: idna<3,>=2.5 in c:\\users\\leech\\anaconda3\\lib\\site-packages (from requests->torchtext==0.13.1) (2.10)\n",
      "Requirement already satisfied: certifi>=2017.4.17 in c:\\users\\leech\\anaconda3\\lib\\site-packages (from requests->torchtext==0.13.1) (2022.6.15)\n"
     ]
    }
   ],
   "source": [
    "!pip install torch -f https://download.pytorch.org/whl/cu113/torch-1.12.1%2Bcu113-cp37-cp37m-linux_x86_64.whl\n",
    "!pip install torchaudio -f https://download.pytorch.org/whl/cu113/torchaudio-0.12.1%2Bcu113-cp37-cp37m-linux_x86_64.whl\n",
    "!pip install torchsummary==1.5.1 torchtext==0.13.1 torchvision -f https://download.pytorch.org/whl/cu113/torchvision-0.13.1%2Bcu113-cp37-cp37m-linux_x86_64.whl"
   ]
  },
  {
   "cell_type": "code",
   "execution_count": 2,
   "metadata": {
    "colab": {
     "base_uri": "https://localhost:8080/"
    },
    "id": "KapnAnp1HjCk",
    "outputId": "3e421bec-ced0-4884-8fcb-54035e2b3c6f"
   },
   "outputs": [
    {
     "name": "stderr",
     "output_type": "stream",
     "text": [
      "fatal: destination path 'video_features' already exists and is not an empty directory.\n"
     ]
    },
    {
     "name": "stdout",
     "output_type": "stream",
     "text": [
      "Requirement already satisfied: omegaconf==2.0.6 in c:\\users\\leech\\anaconda3\\lib\\site-packages (2.0.6)\n",
      "Requirement already satisfied: typing-extensions in c:\\users\\leech\\anaconda3\\lib\\site-packages (from omegaconf==2.0.6) (4.3.0)\n",
      "Requirement already satisfied: PyYAML>=5.1.* in c:\\users\\leech\\anaconda3\\lib\\site-packages (from omegaconf==2.0.6) (5.4.1)\n"
     ]
    },
    {
     "name": "stderr",
     "output_type": "stream",
     "text": [
      "fatal: destination path 'ict3104-p2-team08' already exists and is not an empty directory.\n"
     ]
    }
   ],
   "source": [
    "!git clone https://github.com/v-iashin/video_features.git\n",
    "!pip install omegaconf==2.0.6"
   ]
  },
  {
   "cell_type": "code",
   "execution_count": 3,
   "metadata": {
    "id": "FQXemWrcw4pE"
   },
   "outputs": [],
   "source": [
    "# Imports widgets for jupyter\n",
    "try:\n",
    "    import piplite\n",
    "    piplite.install(['ipywidgets'])\n",
    "except ImportError:\n",
    "    pass"
   ]
  },
  {
   "cell_type": "markdown",
   "metadata": {
    "id": "QcEvKDf2wVL2"
   },
   "source": [
    "## 2. Toggling of pipelines\n",
    "\n",
    "This section shows the toggling of dependencies between TSU and STEP"
   ]
  },
  {
   "cell_type": "code",
   "execution_count": 32,
   "metadata": {
    "id": "lb4Grr9wuhWu"
   },
   "outputs": [
    {
     "name": "stdout",
     "output_type": "stream",
     "text": [
      "C:\\Users\\leech\\ict3104-p2-team08\n"
     ]
    }
   ],
   "source": [
    "#insert code here"
   ]
  },
  {
   "cell_type": "markdown",
   "metadata": {
    "id": "voFOEyiP0WSt"
   },
   "source": [
    "## 3. Data exploration\n",
    "\n",
    "This section load and display video data from the Toyota Smarthome (TSU) project"
   ]
  },
  {
   "cell_type": "code",
   "execution_count": 6,
   "metadata": {
    "id": "SnSmkBhh0KkY"
   },
   "outputs": [
    {
     "ename": "FileNotFoundError",
     "evalue": "[WinError 3] The system cannot find the path specified: '/content/data\\\\input_files'",
     "output_type": "error",
     "traceback": [
      "\u001b[1;31m---------------------------------------------------------------------------\u001b[0m",
      "\u001b[1;31mFileNotFoundError\u001b[0m                         Traceback (most recent call last)",
      "\u001b[1;32m<ipython-input-6-ff7f03c95f54>\u001b[0m in \u001b[0;36m<module>\u001b[1;34m\u001b[0m\n\u001b[0;32m      4\u001b[0m \u001b[0mROOT_PATH\u001b[0m \u001b[1;33m=\u001b[0m \u001b[1;34m'/content/data'\u001b[0m\u001b[1;33m\u001b[0m\u001b[1;33m\u001b[0m\u001b[0m\n\u001b[0;32m      5\u001b[0m \u001b[1;33m\u001b[0m\u001b[0m\n\u001b[1;32m----> 6\u001b[1;33m \u001b[0mfile_list\u001b[0m \u001b[1;33m=\u001b[0m \u001b[0mos\u001b[0m\u001b[1;33m.\u001b[0m\u001b[0mlistdir\u001b[0m\u001b[1;33m(\u001b[0m\u001b[0mos\u001b[0m\u001b[1;33m.\u001b[0m\u001b[0mpath\u001b[0m\u001b[1;33m.\u001b[0m\u001b[0mjoin\u001b[0m\u001b[1;33m(\u001b[0m\u001b[0mROOT_PATH\u001b[0m\u001b[1;33m,\u001b[0m \u001b[0mFOLDER_PATH\u001b[0m\u001b[1;33m)\u001b[0m\u001b[1;33m)\u001b[0m\u001b[1;33m\u001b[0m\u001b[1;33m\u001b[0m\u001b[0m\n\u001b[0m",
      "\u001b[1;31mFileNotFoundError\u001b[0m: [WinError 3] The system cannot find the path specified: '/content/data\\\\input_files'"
     ]
    }
   ],
   "source": [
    "#import tsu video files\n",
    "import os\n",
    "FOLDER_PATH = 'input_files'\n",
    "ROOT_PATH = '/content/data'\n",
    "\n",
    "file_list = os.listdir(os.path.join(ROOT_PATH, FOLDER_PATH))"
   ]
  },
  {
   "cell_type": "code",
   "execution_count": 8,
   "metadata": {
    "id": "8dgd963k-3DR"
   },
   "outputs": [
    {
     "ename": "NameError",
     "evalue": "name 'file_list' is not defined",
     "output_type": "error",
     "traceback": [
      "\u001b[1;31m---------------------------------------------------------------------------\u001b[0m",
      "\u001b[1;31mNameError\u001b[0m                                 Traceback (most recent call last)",
      "\u001b[1;32m<ipython-input-8-1b7914dea376>\u001b[0m in \u001b[0;36m<module>\u001b[1;34m\u001b[0m\n\u001b[0;32m      3\u001b[0m \u001b[1;33m\u001b[0m\u001b[0m\n\u001b[0;32m      4\u001b[0m w = widgets.Dropdown(\n\u001b[1;32m----> 5\u001b[1;33m     \u001b[0moptions\u001b[0m\u001b[1;33m=\u001b[0m \u001b[0mfile_list\u001b[0m\u001b[1;33m,\u001b[0m\u001b[1;33m\u001b[0m\u001b[1;33m\u001b[0m\u001b[0m\n\u001b[0m\u001b[0;32m      6\u001b[0m )\n\u001b[0;32m      7\u001b[0m \u001b[1;33m\u001b[0m\u001b[0m\n",
      "\u001b[1;31mNameError\u001b[0m: name 'file_list' is not defined"
     ]
    }
   ],
   "source": [
    "#tsu video files to display in dropdown\n",
    "from ipywidgets import  Dropdown, widgets\n",
    "\n",
    "w = widgets.Dropdown(\n",
    "    options= file_list,\n",
    ")\n",
    "\n",
    "def on_change(change):\n",
    "    if change['type'] == 'change' and change['name'] == 'value':\n",
    "        print(change['new'])\n",
    "\n",
    "w.observe(on_change)\n",
    "\n",
    "display(w)"
   ]
  },
  {
   "cell_type": "code",
   "execution_count": 9,
   "metadata": {
    "id": "jB0moBiBCpVL"
   },
   "outputs": [
    {
     "ename": "NameError",
     "evalue": "name 'w' is not defined",
     "output_type": "error",
     "traceback": [
      "\u001b[1;31m---------------------------------------------------------------------------\u001b[0m",
      "\u001b[1;31mNameError\u001b[0m                                 Traceback (most recent call last)",
      "\u001b[1;32m<ipython-input-9-62afe571db1b>\u001b[0m in \u001b[0;36m<module>\u001b[1;34m\u001b[0m\n\u001b[0;32m      3\u001b[0m \u001b[1;32mfrom\u001b[0m \u001b[0mbase64\u001b[0m \u001b[1;32mimport\u001b[0m \u001b[0mb64encode\u001b[0m\u001b[1;33m\u001b[0m\u001b[1;33m\u001b[0m\u001b[0m\n\u001b[0;32m      4\u001b[0m \u001b[1;33m\u001b[0m\u001b[0m\n\u001b[1;32m----> 5\u001b[1;33m \u001b[0mvideo_path\u001b[0m \u001b[1;33m=\u001b[0m \u001b[1;34m'/content/data/input_files/%'\u001b[0m \u001b[1;33m+\u001b[0m \u001b[0mw\u001b[0m\u001b[1;33m.\u001b[0m\u001b[0mvalue\u001b[0m\u001b[1;33m\u001b[0m\u001b[1;33m\u001b[0m\u001b[0m\n\u001b[0m\u001b[0;32m      6\u001b[0m \u001b[1;33m\u001b[0m\u001b[0m\n\u001b[0;32m      7\u001b[0m \u001b[0mlocate\u001b[0m\u001b[1;33m=\u001b[0m \u001b[1;34m\"\"\u001b[0m\u001b[1;33m\u001b[0m\u001b[1;33m\u001b[0m\u001b[0m\n",
      "\u001b[1;31mNameError\u001b[0m: name 'w' is not defined"
     ]
    }
   ],
   "source": [
    "#display video \n",
    "from IPython.display import HTML\n",
    "from base64 import b64encode\n",
    "\n",
    "video_path = '/content/data/input_files/%' + w.value\n",
    "\n",
    "locate= \"\" \n",
    "\n",
    "for i in video_path: \n",
    "   if i=='%': \n",
    "       pass\n",
    "   else: \n",
    "       locate+=i \n",
    "\n",
    "def show_video(locate, video_width = 500):\n",
    "  video_file = open(locate, \"r+b\").read()\n",
    "  video_url = f\"data:video/mp4;base64,{b64encode(video_file).decode()}\"\n",
    "  return HTML(f\"\"\"<video width={video_width} controls><source src=\"{video_url}\"></video>\"\"\")\n",
    "  \n",
    "show_video(locate)"
   ]
  },
  {
   "cell_type": "code",
   "execution_count": null,
   "metadata": {
    "id": "NJJbEEdHNcJU"
   },
   "outputs": [],
   "source": [
    "#only run it for the first time\n",
    "%cd video_features"
   ]
  },
  {
   "cell_type": "code",
   "execution_count": null,
   "metadata": {
    "id": "Z2kz9WWwFbY6"
   },
   "outputs": [],
   "source": [
    "#extract to I3D feature file\n",
    "from models.i3d.extract_i3d import ExtractI3D\n",
    "from utils.utils import build_cfg_path\n",
    "from omegaconf import OmegaConf\n",
    "import torch\n",
    "\n",
    "# Select the feature type\n",
    "feature_type = 'i3d'\n",
    "args = OmegaConf.load(build_cfg_path(feature_type))\n",
    "args.video_paths = ['/content/data/input_files/P02T02C06.mp4']\n",
    "args.flow_type = 'raft'\n",
    "\n",
    "extractor = ExtractI3D(args)\n",
    "print(locate)\n",
    "\n",
    "# Extract features\n",
    "for video_path in args.video_paths:\n",
    "    print(f'Extracting for {video_path}')\n",
    "    feature_dict = extractor.extract(video_path)\n",
    "    [(print(k), print(v.shape), print(v)) for k, v in feature_dict.items()]"
   ]
  },
  {
   "cell_type": "markdown",
   "metadata": {
    "id": "4pbFLqFs08xy"
   },
   "source": [
    "## 4. Inference with pretrained model\n",
    "\n",
    "This section allows generation of caption videos"
   ]
  },
  {
   "cell_type": "code",
   "execution_count": 4,
   "metadata": {},
   "outputs": [
    {
     "name": "stdout",
     "output_type": "stream",
     "text": [
      "C:\\Users\\leech\\ict3104-p2-team08\n"
     ]
    }
   ],
   "source": [
    "import os\n",
    "print(os.getcwd())"
   ]
  },
  {
   "cell_type": "markdown",
   "metadata": {},
   "source": [
    "### Select a pre-trained model"
   ]
  },
  {
   "cell_type": "code",
   "execution_count": 1,
   "metadata": {
    "scrolled": true
   },
   "outputs": [
    {
     "data": {
      "application/vnd.jupyter.widget-view+json": {
       "model_id": "86eaa45143f6424e9cda32ed64951b2e",
       "version_major": 2,
       "version_minor": 0
      },
      "text/plain": [
       "Dropdown(description='Model:', options=('PDAN',), value='PDAN')"
      ]
     },
     "metadata": {},
     "output_type": "display_data"
    }
   ],
   "source": [
    "#tsu video files to display in dropdown\n",
    "import ipywidgets as widgets\n",
    "import os\n",
    "\n",
    "MODEL_PATH = 'models'\n",
    "MODEL_ROOT_PATH = './Toyota_Smarthome/pipline/'\n",
    "\n",
    "file_list = os.listdir(os.path.join(MODEL_ROOT_PATH, MODEL_PATH))\n",
    "\n",
    "model_dropdown = widgets.Dropdown(\n",
    "    options=file_list,\n",
    "    description='Model:',\n",
    "    disabled=False,\n",
    ")\n",
    "\n",
    "def on_change(change):\n",
    "    if change['type'] == 'change' and change['name'] == 'value':\n",
    "        print(change['new'])\n",
    "\n",
    "model_dropdown.observe(on_change)\n",
    "display(model_dropdown)"
   ]
  },
  {
   "cell_type": "markdown",
   "metadata": {},
   "source": [
    "### Choose an input video"
   ]
  },
  {
   "cell_type": "code",
   "execution_count": 2,
   "metadata": {
    "scrolled": true
   },
   "outputs": [
    {
     "data": {
      "application/vnd.jupyter.widget-view+json": {
       "model_id": "e2f1f81392484311aa8243d8217a7de3",
       "version_major": 2,
       "version_minor": 0
      },
      "text/plain": [
       "Dropdown(description='Video:', options=('P02T01C06.mp4', 'P02T01C07.mp4', 'P02T02C03.mp4', 'P02T02C06.mp4', 'P…"
      ]
     },
     "metadata": {},
     "output_type": "display_data"
    },
    {
     "name": "stdout",
     "output_type": "stream",
     "text": [
      "P02T03C03.mp4\n",
      "P02T03C07.mp4\n",
      "P02T05C04.mp4\n",
      "P02T11C02.mp4\n"
     ]
    }
   ],
   "source": [
    "VIDEO_PATH = 'input_files'\n",
    "VIDEO_ROOT_PATH = './data/'\n",
    "\n",
    "file_list = os.listdir(os.path.join(VIDEO_ROOT_PATH, VIDEO_PATH))\n",
    "\n",
    "video_dropdown = widgets.Dropdown(\n",
    "    options=file_list,\n",
    "    description='Video:',\n",
    "    disabled=False,\n",
    ")\n",
    "\n",
    "def on_change(change):\n",
    "    if change['type'] == 'change' and change['name'] == 'value':\n",
    "        print(change['new'])\n",
    "\n",
    "video_dropdown.observe(on_change)\n",
    "display(video_dropdown)"
   ]
  },
  {
   "cell_type": "markdown",
   "metadata": {},
   "source": [
    "### Generate video with caption"
   ]
  },
  {
   "cell_type": "code",
   "execution_count": 17,
   "metadata": {
    "colab": {
     "base_uri": "https://localhost:8080/"
    },
    "id": "4D84kQqh0-1_",
    "outputId": "a17fda50-ff6b-4f13-c13f-ad5dcb9a5118"
   },
   "outputs": [
    {
     "name": "stderr",
     "output_type": "stream",
     "text": [
      "\n",
      "  0%|          | 0/536 [00:00<?, ?it/s]\n",
      "  1%|1         | 6/536 [00:00<00:09, 57.68it/s]\n",
      "  2%|2         | 12/536 [00:00<00:12, 43.26it/s]\n",
      "  5%|4         | 25/536 [00:00<00:08, 61.39it/s]\n",
      "  6%|5         | 32/536 [00:00<00:09, 53.33it/s]\n",
      "  7%|7         | 39/536 [00:00<00:08, 57.14it/s]\n",
      "  8%|8         | 45/536 [00:00<00:09, 53.01it/s]\n",
      " 10%|9         | 51/536 [00:00<00:10, 47.16it/s]\n",
      " 10%|#         | 56/536 [00:01<00:16, 29.90it/s]\n",
      " 12%|#1        | 64/536 [00:01<00:12, 37.14it/s]\n",
      " 13%|#2        | 69/536 [00:01<00:14, 31.95it/s]\n",
      " 15%|#4        | 78/536 [00:01<00:11, 41.06it/s]\n",
      " 17%|#6        | 91/536 [00:01<00:07, 58.68it/s]\n",
      " 18%|#8        | 99/536 [00:02<00:07, 57.42it/s]\n",
      " 20%|##        | 108/536 [00:02<00:07, 60.64it/s]\n",
      " 21%|##1       | 115/536 [00:02<00:07, 58.48it/s]\n",
      " 23%|##2       | 122/536 [00:02<00:08, 51.21it/s]\n",
      " 24%|##3       | 128/536 [00:02<00:07, 51.23it/s]\n",
      " 26%|##5       | 138/536 [00:02<00:06, 62.53it/s]\n",
      " 27%|##7       | 146/536 [00:02<00:05, 66.71it/s]\n",
      " 29%|##8       | 154/536 [00:02<00:05, 64.92it/s]\n",
      " 30%|###       | 162/536 [00:03<00:05, 63.27it/s]\n",
      " 32%|###1      | 169/536 [00:03<00:07, 48.01it/s]\n",
      " 33%|###2      | 175/536 [00:03<00:07, 48.49it/s]\n",
      " 35%|###4      | 185/536 [00:03<00:05, 58.67it/s]\n",
      " 36%|###5      | 192/536 [00:03<00:06, 49.27it/s]\n",
      " 37%|###6      | 198/536 [00:03<00:07, 44.02it/s]\n",
      " 39%|###8      | 209/536 [00:04<00:05, 56.64it/s]\n",
      " 40%|####      | 216/536 [00:04<00:05, 58.73it/s]\n",
      " 42%|####1     | 223/536 [00:04<00:05, 55.32it/s]\n",
      " 43%|####2     | 229/536 [00:04<00:06, 50.46it/s]\n",
      " 44%|####3     | 235/536 [00:04<00:05, 50.34it/s]\n",
      " 45%|####4     | 241/536 [00:04<00:06, 42.21it/s]\n",
      " 47%|####7     | 252/536 [00:04<00:05, 56.60it/s]\n",
      " 48%|####8     | 259/536 [00:05<00:06, 43.80it/s]\n",
      " 49%|####9     | 265/536 [00:05<00:05, 46.27it/s]\n",
      " 51%|#####     | 271/536 [00:05<00:05, 48.62it/s]\n",
      " 52%|#####1    | 278/536 [00:05<00:04, 53.51it/s]\n",
      " 53%|#####3    | 286/536 [00:05<00:04, 57.27it/s]\n",
      " 55%|#####4    | 293/536 [00:05<00:04, 53.08it/s]\n",
      " 56%|#####5    | 299/536 [00:05<00:04, 47.43it/s]\n",
      " 57%|#####6    | 305/536 [00:06<00:05, 44.67it/s]\n",
      " 58%|#####8    | 312/536 [00:06<00:04, 49.06it/s]\n",
      " 60%|######    | 322/536 [00:06<00:03, 60.66it/s]\n",
      " 61%|######1   | 329/536 [00:06<00:04, 42.79it/s]\n",
      " 62%|######2   | 335/536 [00:06<00:04, 43.44it/s]\n",
      " 64%|######3   | 341/536 [00:06<00:04, 43.54it/s]\n",
      " 65%|######4   | 346/536 [00:06<00:04, 42.71it/s]\n",
      " 65%|######5   | 351/536 [00:07<00:04, 43.10it/s]\n",
      " 66%|######6   | 356/536 [00:07<00:04, 38.47it/s]\n",
      " 69%|######8   | 368/536 [00:07<00:03, 54.91it/s]\n",
      " 70%|#######   | 377/536 [00:07<00:02, 62.83it/s]\n",
      " 72%|#######1  | 384/536 [00:07<00:02, 64.48it/s]\n",
      " 73%|#######2  | 391/536 [00:07<00:02, 60.20it/s]\n",
      " 74%|#######4  | 398/536 [00:07<00:02, 51.38it/s]\n",
      " 76%|#######5  | 405/536 [00:07<00:02, 54.05it/s]\n",
      " 77%|#######6  | 411/536 [00:08<00:02, 45.64it/s]\n",
      " 78%|#######7  | 416/536 [00:08<00:02, 44.72it/s]\n",
      " 79%|#######8  | 421/536 [00:08<00:02, 38.80it/s]\n",
      " 79%|#######9  | 426/536 [00:08<00:02, 40.73it/s]\n",
      " 80%|########  | 431/536 [00:08<00:02, 37.13it/s]\n",
      " 82%|########1 | 438/536 [00:08<00:02, 41.73it/s]\n",
      " 83%|########2 | 443/536 [00:08<00:02, 40.63it/s]\n",
      " 84%|########3 | 450/536 [00:09<00:01, 47.12it/s]\n",
      " 85%|########4 | 455/536 [00:09<00:01, 45.45it/s]\n",
      " 86%|########6 | 463/536 [00:09<00:01, 52.74it/s]\n",
      " 88%|########8 | 474/536 [00:09<00:00, 67.14it/s]\n",
      " 90%|######### | 483/536 [00:09<00:00, 69.91it/s]\n",
      " 92%|#########1| 491/536 [00:09<00:00, 69.81it/s]\n",
      " 93%|#########3| 499/536 [00:09<00:00, 68.14it/s]\n",
      " 94%|#########4| 506/536 [00:09<00:00, 63.89it/s]\n",
      " 96%|#########5| 513/536 [00:10<00:00, 54.88it/s]\n",
      " 98%|#########7| 523/536 [00:10<00:00, 64.70it/s]\n",
      " 99%|#########8| 530/536 [00:10<00:00, 51.64it/s]\n",
      "100%|##########| 536/536 [00:10<00:00, 51.66it/s]\n",
      "100%|##########| 536/536 [00:10<00:00, 50.91it/s]\n",
      "\n",
      "  0%|          | 0/536 [00:00<?, ?it/s]\n",
      "  3%|2         | 15/536 [00:00<00:03, 148.52it/s]\n",
      "  6%|5         | 30/536 [00:00<00:04, 103.79it/s]\n",
      "  8%|8         | 45/536 [00:00<00:04, 108.78it/s]\n",
      " 11%|#1        | 61/536 [00:00<00:04, 118.03it/s]\n",
      " 15%|#4        | 79/536 [00:00<00:03, 128.58it/s]\n",
      " 17%|#7        | 93/536 [00:00<00:03, 116.13it/s]\n",
      " 20%|#9        | 105/536 [00:00<00:03, 116.22it/s]\n",
      " 23%|##2       | 123/536 [00:01<00:03, 130.49it/s]\n",
      " 26%|##5       | 137/536 [00:01<00:03, 107.31it/s]\n",
      " 28%|##7       | 149/536 [00:01<00:03, 99.34it/s] \n",
      " 31%|###       | 165/536 [00:01<00:03, 100.81it/s]\n",
      " 33%|###2      | 176/536 [00:01<00:04, 86.87it/s] \n",
      " 35%|###4      | 186/536 [00:01<00:04, 86.35it/s]\n",
      " 37%|###7      | 199/536 [00:01<00:03, 95.30it/s]\n",
      " 39%|###8      | 209/536 [00:02<00:03, 90.25it/s]\n",
      " 43%|####3     | 232/536 [00:02<00:02, 122.06it/s]\n",
      " 47%|####6     | 250/536 [00:02<00:02, 129.93it/s]\n",
      " 52%|#####1    | 277/536 [00:02<00:01, 165.65it/s]\n",
      " 55%|#####5    | 295/536 [00:02<00:01, 161.69it/s]\n",
      " 58%|#####8    | 312/536 [00:02<00:01, 147.03it/s]\n",
      " 61%|######1   | 328/536 [00:02<00:01, 115.95it/s]\n",
      " 64%|######3   | 341/536 [00:02<00:01, 117.49it/s]\n",
      " 66%|######6   | 356/536 [00:03<00:01, 119.53it/s]\n",
      " 69%|######8   | 369/536 [00:03<00:01, 109.04it/s]\n",
      " 72%|#######1  | 384/536 [00:03<00:01, 113.38it/s]\n",
      " 74%|#######3  | 396/536 [00:03<00:01, 109.90it/s]\n",
      " 79%|#######9  | 426/536 [00:03<00:00, 149.26it/s]\n",
      " 84%|########3 | 448/536 [00:03<00:00, 166.73it/s]\n",
      " 88%|########7 | 471/536 [00:03<00:00, 176.04it/s]\n",
      " 91%|#########1| 490/536 [00:04<00:00, 115.27it/s]\n",
      " 94%|#########4| 505/536 [00:04<00:00, 96.07it/s] \n",
      " 97%|#########6| 519/536 [00:04<00:00, 94.14it/s]\n",
      " 99%|#########9| 531/536 [00:04<00:00, 87.74it/s]\n",
      "100%|##########| 536/536 [00:04<00:00, 114.58it/s]\n",
      "\n",
      "\tOpenH264 Video Codec provided by Cisco Systems, Inc.\n",
      "\n"
     ]
    },
    {
     "data": {
      "text/html": [
       "<video src=\"./Toyota_Smarthome/pipline/video_output/P02T11C02_caption.mp4\" controls  >\n",
       "      Your browser does not support the <code>video</code> element.\n",
       "    </video>"
      ],
      "text/plain": [
       "<IPython.core.display.Video object>"
      ]
     },
     "execution_count": 17,
     "metadata": {},
     "output_type": "execute_result"
    }
   ],
   "source": [
    "#insert codes here\n",
    "from IPython.display import Video\n",
    "\n",
    "video_selected = video_dropdown.value.replace('.mp4','')\n",
    "model_selected = model_dropdown.value\n",
    "!python ./Toyota_Smarthome/pipline/test2.py -videofile={video_selected} -model={model_selected}\n",
    "Video(\"./Toyota_Smarthome/pipline/video_output/\" + video_selected + \"_caption.mp4\")"
   ]
  },
  {
   "cell_type": "markdown",
   "metadata": {
    "id": "x5cqhsmO1TW5"
   },
   "source": [
    "## 5. Testing and evaluating trained models\n",
    "\n",
    "This section shows"
   ]
  },
  {
   "cell_type": "code",
   "execution_count": 61,
   "metadata": {
    "colab": {
     "base_uri": "https://localhost:8080/",
     "height": 182
    },
    "id": "KUHMF5Pr1XjJ",
    "outputId": "1f5edc5d-708c-4ada-e36d-83c19dbc1e0b"
   },
   "outputs": [
    {
     "data": {
      "text/html": [
       "<video src=\"./data/input_files/P02T01C07.mp4\" controls  >\n",
       "      Your browser does not support the <code>video</code> element.\n",
       "    </video>"
      ],
      "text/plain": [
       "<IPython.core.display.Video object>"
      ]
     },
     "execution_count": 61,
     "metadata": {},
     "output_type": "execute_result"
    }
   ],
   "source": []
  },
  {
   "cell_type": "markdown",
   "metadata": {
    "id": "vyUzIqvd3rue"
   },
   "source": [
    "## 6. Training of new model\n",
    "\n",
    "This section shows"
   ]
  },
  {
   "cell_type": "code",
   "execution_count": 12,
   "metadata": {
    "id": "yZ3NT9Et3wnT"
   },
   "outputs": [
    {
     "data": {
      "application/vnd.jupyter.widget-view+json": {
       "model_id": "35f7eb90342c403fa141db4c8ba4de03",
       "version_major": 2,
       "version_minor": 0
      },
      "text/plain": [
       "IntProgress(value=0)"
      ]
     },
     "metadata": {},
     "output_type": "display_data"
    }
   ],
   "source": []
  },
  {
   "cell_type": "code",
   "execution_count": null,
   "metadata": {},
   "outputs": [],
   "source": []
  },
  {
   "cell_type": "code",
   "execution_count": null,
   "metadata": {},
   "outputs": [],
   "source": []
  }
 ],
 "metadata": {
  "accelerator": "GPU",
  "colab": {
   "collapsed_sections": [
    "4pbFLqFs08xy"
   ],
   "include_colab_link": true,
   "provenance": []
  },
  "kernelspec": {
   "display_name": "Python 3",
   "language": "python",
   "name": "python3"
  },
  "language_info": {
   "codemirror_mode": {
    "name": "ipython",
    "version": 3
   },
   "file_extension": ".py",
   "mimetype": "text/x-python",
   "name": "python",
   "nbconvert_exporter": "python",
   "pygments_lexer": "ipython3",
   "version": "3.8.8"
  }
 },
 "nbformat": 4,
 "nbformat_minor": 1
}
