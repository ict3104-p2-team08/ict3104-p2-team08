{
 "cells": [
  {
   "cell_type": "markdown",
   "metadata": {
    "colab_type": "text",
    "id": "view-in-github"
   },
   "source": [
    "<a href=\"https://colab.research.google.com/github/ict3104-p2-team08/ict3104-p2-team08/blob/inference_feat/3104_T08.ipynb\" target=\"_parent\"><img src=\"https://colab.research.google.com/assets/colab-badge.svg\" alt=\"Open In Colab\"/></a>"
   ]
  },
  {
   "cell_type": "markdown",
   "metadata": {
    "id": "2yJLCy-Wv_Rd"
   },
   "source": [
    "# Activity Detection ML Test"
   ]
  },
  {
   "cell_type": "markdown",
   "metadata": {
    "id": "iyKsO3crw1K5"
   },
   "source": [
    "## 1. Prerequisites\n",
    "\n",
    "This section provides the setting up of the environment"
   ]
  },
  {
   "cell_type": "code",
   "execution_count": 1,
   "metadata": {
    "colab": {
     "base_uri": "https://localhost:8080/"
    },
    "id": "heoGQJ7NyBiM",
    "outputId": "a2fa6fd7-2874-4e82-9914-1d335a7735cd"
   },
   "outputs": [
    {
     "name": "stdout",
     "output_type": "stream",
     "text": [
      "Looking in links: https://download.pytorch.org/whl/cu113/torch-1.12.1%2Bcu113-cp37-cp37m-linux_x86_64.whl\n",
      "Requirement already satisfied: torch in c:\\users\\leech\\anaconda3\\lib\\site-packages (1.12.1+cu116)\n",
      "Requirement already satisfied: typing-extensions in c:\\users\\leech\\anaconda3\\lib\\site-packages (from torch) (4.3.0)\n",
      "Looking in links: https://download.pytorch.org/whl/cu113/torchaudio-0.12.1%2Bcu113-cp37-cp37m-linux_x86_64.whl\n",
      "Requirement already satisfied: torchaudio in c:\\users\\leech\\anaconda3\\lib\\site-packages (0.12.1+cu116)\n",
      "Requirement already satisfied: torch==1.12.1 in c:\\users\\leech\\anaconda3\\lib\\site-packages (from torchaudio) (1.12.1+cu116)\n",
      "Requirement already satisfied: typing-extensions in c:\\users\\leech\\anaconda3\\lib\\site-packages (from torch==1.12.1->torchaudio) (4.3.0)\n",
      "Looking in links: https://download.pytorch.org/whl/cu113/torchvision-0.13.1%2Bcu113-cp37-cp37m-linux_x86_64.whl\n",
      "Requirement already satisfied: torchsummary==1.5.1 in c:\\users\\leech\\anaconda3\\lib\\site-packages (1.5.1)\n",
      "Requirement already satisfied: torchtext==0.13.1 in c:\\users\\leech\\anaconda3\\lib\\site-packages (0.13.1)\n",
      "Requirement already satisfied: torchvision in c:\\users\\leech\\anaconda3\\lib\\site-packages (0.13.1+cu116)\n",
      "Requirement already satisfied: tqdm in c:\\users\\leech\\anaconda3\\lib\\site-packages (from torchtext==0.13.1) (4.59.0)\n",
      "Requirement already satisfied: torch==1.12.1 in c:\\users\\leech\\anaconda3\\lib\\site-packages (from torchtext==0.13.1) (1.12.1+cu116)\n",
      "Requirement already satisfied: numpy in c:\\users\\leech\\anaconda3\\lib\\site-packages (from torchtext==0.13.1) (1.23.1)\n",
      "Requirement already satisfied: requests in c:\\users\\leech\\anaconda3\\lib\\site-packages (from torchtext==0.13.1) (2.25.1)\n",
      "Requirement already satisfied: typing-extensions in c:\\users\\leech\\anaconda3\\lib\\site-packages (from torch==1.12.1->torchtext==0.13.1) (4.3.0)\n",
      "Requirement already satisfied: pillow!=8.3.*,>=5.3.0 in c:\\users\\leech\\anaconda3\\lib\\site-packages (from torchvision) (8.2.0)\n",
      "Requirement already satisfied: chardet<5,>=3.0.2 in c:\\users\\leech\\anaconda3\\lib\\site-packages (from requests->torchtext==0.13.1) (4.0.0)\n",
      "Requirement already satisfied: urllib3<1.27,>=1.21.1 in c:\\users\\leech\\anaconda3\\lib\\site-packages (from requests->torchtext==0.13.1) (1.26.4)\n",
      "Requirement already satisfied: idna<3,>=2.5 in c:\\users\\leech\\anaconda3\\lib\\site-packages (from requests->torchtext==0.13.1) (2.10)\n",
      "Requirement already satisfied: certifi>=2017.4.17 in c:\\users\\leech\\anaconda3\\lib\\site-packages (from requests->torchtext==0.13.1) (2022.6.15)\n"
     ]
    }
   ],
   "source": [
    "!pip install torch -f https://download.pytorch.org/whl/cu113/torch-1.12.1%2Bcu113-cp37-cp37m-linux_x86_64.whl\n",
    "!pip install torchaudio -f https://download.pytorch.org/whl/cu113/torchaudio-0.12.1%2Bcu113-cp37-cp37m-linux_x86_64.whl\n",
    "!pip install torchsummary==1.5.1 torchtext==0.13.1 torchvision -f https://download.pytorch.org/whl/cu113/torchvision-0.13.1%2Bcu113-cp37-cp37m-linux_x86_64.whl"
   ]
  },
  {
   "cell_type": "code",
   "execution_count": 2,
   "metadata": {
    "colab": {
     "base_uri": "https://localhost:8080/"
    },
    "id": "KapnAnp1HjCk",
    "outputId": "3e421bec-ced0-4884-8fcb-54035e2b3c6f"
   },
   "outputs": [
    {
     "name": "stderr",
     "output_type": "stream",
     "text": [
      "fatal: destination path 'video_features' already exists and is not an empty directory.\n"
     ]
    },
    {
     "name": "stdout",
     "output_type": "stream",
     "text": [
      "Requirement already satisfied: omegaconf==2.0.6 in c:\\users\\leech\\anaconda3\\lib\\site-packages (2.0.6)\n",
      "Requirement already satisfied: typing-extensions in c:\\users\\leech\\anaconda3\\lib\\site-packages (from omegaconf==2.0.6) (4.3.0)\n",
      "Requirement already satisfied: PyYAML>=5.1.* in c:\\users\\leech\\anaconda3\\lib\\site-packages (from omegaconf==2.0.6) (5.4.1)\n"
     ]
    },
    {
     "name": "stderr",
     "output_type": "stream",
     "text": [
      "fatal: destination path 'ict3104-p2-team08' already exists and is not an empty directory.\n"
     ]
    }
   ],
   "source": [
    "!git clone https://github.com/v-iashin/video_features.git\n",
    "!pip install omegaconf==2.0.6"
   ]
  },
  {
   "cell_type": "code",
   "execution_count": 3,
   "metadata": {
    "id": "FQXemWrcw4pE"
   },
   "outputs": [],
   "source": [
    "# Imports widgets for jupyter\n",
    "try:\n",
    "    import piplite\n",
    "    piplite.install(['ipywidgets'])\n",
    "except ImportError:\n",
    "    pass"
   ]
  },
  {
   "cell_type": "markdown",
   "metadata": {
    "id": "QcEvKDf2wVL2"
   },
   "source": [
    "## 2. Toggling of pipelines\n",
    "\n",
    "This section shows the toggling of dependencies between TSU and STEP"
   ]
  },
  {
   "cell_type": "code",
   "execution_count": 32,
   "metadata": {
    "id": "lb4Grr9wuhWu"
   },
   "outputs": [
    {
     "name": "stdout",
     "output_type": "stream",
     "text": [
      "C:\\Users\\leech\\ict3104-p2-team08\n"
     ]
    }
   ],
   "source": [
    "#insert code here"
   ]
  },
  {
   "cell_type": "markdown",
   "metadata": {
    "id": "voFOEyiP0WSt"
   },
   "source": [
    "## 3. Data exploration\n",
    "\n",
    "This section load and display video data from the Toyota Smarthome (TSU) project"
   ]
  },
  {
   "cell_type": "code",
   "execution_count": 6,
   "metadata": {
    "id": "SnSmkBhh0KkY"
   },
   "outputs": [
    {
     "ename": "FileNotFoundError",
     "evalue": "[WinError 3] The system cannot find the path specified: '/content/data\\\\input_files'",
     "output_type": "error",
     "traceback": [
      "\u001b[1;31m---------------------------------------------------------------------------\u001b[0m",
      "\u001b[1;31mFileNotFoundError\u001b[0m                         Traceback (most recent call last)",
      "\u001b[1;32m<ipython-input-6-ff7f03c95f54>\u001b[0m in \u001b[0;36m<module>\u001b[1;34m\u001b[0m\n\u001b[0;32m      4\u001b[0m \u001b[0mROOT_PATH\u001b[0m \u001b[1;33m=\u001b[0m \u001b[1;34m'/content/data'\u001b[0m\u001b[1;33m\u001b[0m\u001b[1;33m\u001b[0m\u001b[0m\n\u001b[0;32m      5\u001b[0m \u001b[1;33m\u001b[0m\u001b[0m\n\u001b[1;32m----> 6\u001b[1;33m \u001b[0mfile_list\u001b[0m \u001b[1;33m=\u001b[0m \u001b[0mos\u001b[0m\u001b[1;33m.\u001b[0m\u001b[0mlistdir\u001b[0m\u001b[1;33m(\u001b[0m\u001b[0mos\u001b[0m\u001b[1;33m.\u001b[0m\u001b[0mpath\u001b[0m\u001b[1;33m.\u001b[0m\u001b[0mjoin\u001b[0m\u001b[1;33m(\u001b[0m\u001b[0mROOT_PATH\u001b[0m\u001b[1;33m,\u001b[0m \u001b[0mFOLDER_PATH\u001b[0m\u001b[1;33m)\u001b[0m\u001b[1;33m)\u001b[0m\u001b[1;33m\u001b[0m\u001b[1;33m\u001b[0m\u001b[0m\n\u001b[0m",
      "\u001b[1;31mFileNotFoundError\u001b[0m: [WinError 3] The system cannot find the path specified: '/content/data\\\\input_files'"
     ]
    }
   ],
   "source": [
    "#import tsu video files\n",
    "import os\n",
    "FOLDER_PATH = 'input_files'\n",
    "ROOT_PATH = '/content/data'\n",
    "\n",
    "file_list = os.listdir(os.path.join(ROOT_PATH, FOLDER_PATH))"
   ]
  },
  {
   "cell_type": "code",
   "execution_count": 8,
   "metadata": {
    "id": "8dgd963k-3DR"
   },
   "outputs": [
    {
     "ename": "NameError",
     "evalue": "name 'file_list' is not defined",
     "output_type": "error",
     "traceback": [
      "\u001b[1;31m---------------------------------------------------------------------------\u001b[0m",
      "\u001b[1;31mNameError\u001b[0m                                 Traceback (most recent call last)",
      "\u001b[1;32m<ipython-input-8-1b7914dea376>\u001b[0m in \u001b[0;36m<module>\u001b[1;34m\u001b[0m\n\u001b[0;32m      3\u001b[0m \u001b[1;33m\u001b[0m\u001b[0m\n\u001b[0;32m      4\u001b[0m w = widgets.Dropdown(\n\u001b[1;32m----> 5\u001b[1;33m     \u001b[0moptions\u001b[0m\u001b[1;33m=\u001b[0m \u001b[0mfile_list\u001b[0m\u001b[1;33m,\u001b[0m\u001b[1;33m\u001b[0m\u001b[1;33m\u001b[0m\u001b[0m\n\u001b[0m\u001b[0;32m      6\u001b[0m )\n\u001b[0;32m      7\u001b[0m \u001b[1;33m\u001b[0m\u001b[0m\n",
      "\u001b[1;31mNameError\u001b[0m: name 'file_list' is not defined"
     ]
    }
   ],
   "source": [
    "#tsu video files to display in dropdown\n",
    "from ipywidgets import  Dropdown, widgets\n",
    "\n",
    "w = widgets.Dropdown(\n",
    "    options= file_list,\n",
    ")\n",
    "\n",
    "def on_change(change):\n",
    "    if change['type'] == 'change' and change['name'] == 'value':\n",
    "        print(change['new'])\n",
    "\n",
    "w.observe(on_change)\n",
    "\n",
    "display(w)"
   ]
  },
  {
   "cell_type": "code",
   "execution_count": 9,
   "metadata": {
    "id": "jB0moBiBCpVL"
   },
   "outputs": [
    {
     "ename": "NameError",
     "evalue": "name 'w' is not defined",
     "output_type": "error",
     "traceback": [
      "\u001b[1;31m---------------------------------------------------------------------------\u001b[0m",
      "\u001b[1;31mNameError\u001b[0m                                 Traceback (most recent call last)",
      "\u001b[1;32m<ipython-input-9-62afe571db1b>\u001b[0m in \u001b[0;36m<module>\u001b[1;34m\u001b[0m\n\u001b[0;32m      3\u001b[0m \u001b[1;32mfrom\u001b[0m \u001b[0mbase64\u001b[0m \u001b[1;32mimport\u001b[0m \u001b[0mb64encode\u001b[0m\u001b[1;33m\u001b[0m\u001b[1;33m\u001b[0m\u001b[0m\n\u001b[0;32m      4\u001b[0m \u001b[1;33m\u001b[0m\u001b[0m\n\u001b[1;32m----> 5\u001b[1;33m \u001b[0mvideo_path\u001b[0m \u001b[1;33m=\u001b[0m \u001b[1;34m'/content/data/input_files/%'\u001b[0m \u001b[1;33m+\u001b[0m \u001b[0mw\u001b[0m\u001b[1;33m.\u001b[0m\u001b[0mvalue\u001b[0m\u001b[1;33m\u001b[0m\u001b[1;33m\u001b[0m\u001b[0m\n\u001b[0m\u001b[0;32m      6\u001b[0m \u001b[1;33m\u001b[0m\u001b[0m\n\u001b[0;32m      7\u001b[0m \u001b[0mlocate\u001b[0m\u001b[1;33m=\u001b[0m \u001b[1;34m\"\"\u001b[0m\u001b[1;33m\u001b[0m\u001b[1;33m\u001b[0m\u001b[0m\n",
      "\u001b[1;31mNameError\u001b[0m: name 'w' is not defined"
     ]
    }
   ],
   "source": [
    "#display video \n",
    "from IPython.display import HTML\n",
    "from base64 import b64encode\n",
    "\n",
    "video_path = '/content/data/input_files/%' + w.value\n",
    "\n",
    "locate= \"\" \n",
    "\n",
    "for i in video_path: \n",
    "   if i=='%': \n",
    "       pass\n",
    "   else: \n",
    "       locate+=i \n",
    "\n",
    "def show_video(locate, video_width = 500):\n",
    "  video_file = open(locate, \"r+b\").read()\n",
    "  video_url = f\"data:video/mp4;base64,{b64encode(video_file).decode()}\"\n",
    "  return HTML(f\"\"\"<video width={video_width} controls><source src=\"{video_url}\"></video>\"\"\")\n",
    "  \n",
    "show_video(locate)"
   ]
  },
  {
   "cell_type": "code",
   "execution_count": null,
   "metadata": {
    "id": "NJJbEEdHNcJU"
   },
   "outputs": [],
   "source": [
    "#only run it for the first time\n",
    "%cd video_features"
   ]
  },
  {
   "cell_type": "code",
   "execution_count": null,
   "metadata": {
    "id": "Z2kz9WWwFbY6"
   },
   "outputs": [],
   "source": [
    "#extract to I3D feature file\n",
    "from models.i3d.extract_i3d import ExtractI3D\n",
    "from utils.utils import build_cfg_path\n",
    "from omegaconf import OmegaConf\n",
    "import torch\n",
    "\n",
    "# Select the feature type\n",
    "feature_type = 'i3d'\n",
    "args = OmegaConf.load(build_cfg_path(feature_type))\n",
    "args.video_paths = ['/content/data/input_files/P02T02C06.mp4']\n",
    "args.flow_type = 'raft'\n",
    "\n",
    "extractor = ExtractI3D(args)\n",
    "print(locate)\n",
    "\n",
    "# Extract features\n",
    "for video_path in args.video_paths:\n",
    "    print(f'Extracting for {video_path}')\n",
    "    feature_dict = extractor.extract(video_path)\n",
    "    [(print(k), print(v.shape), print(v)) for k, v in feature_dict.items()]"
   ]
  },
  {
   "cell_type": "markdown",
   "metadata": {
    "id": "4pbFLqFs08xy"
   },
   "source": [
    "## 4. Inference with pretrained model\n",
    "\n",
    "This section allows generation of caption videos"
   ]
  },
  {
   "cell_type": "code",
   "execution_count": 6,
   "metadata": {},
   "outputs": [
    {
     "name": "stdout",
     "output_type": "stream",
     "text": [
      "C:\\Users\\leech\\ict3104-p2-team08\n"
     ]
    }
   ],
   "source": [
    "import os\n",
    "print(os.getcwd())"
   ]
  },
  {
   "cell_type": "markdown",
   "metadata": {},
   "source": [
    "### Select a pre-trained model"
   ]
  },
  {
   "cell_type": "code",
   "execution_count": 1,
   "metadata": {
    "scrolled": true
   },
   "outputs": [
    {
     "data": {
      "application/vnd.jupyter.widget-view+json": {
       "model_id": "8ed82ad1d24a4031af95017c1ad6a436",
       "version_major": 2,
       "version_minor": 0
      },
      "text/plain": [
       "Dropdown(description='Model:', options=('PDAN',), value='PDAN')"
      ]
     },
     "metadata": {},
     "output_type": "display_data"
    }
   ],
   "source": [
    "#tsu video files to display in dropdown\n",
    "import ipywidgets as widgets\n",
    "import os\n",
    "\n",
    "MODEL_PATH = 'models'\n",
    "MODEL_ROOT_PATH = './Toyota_Smarthome/pipline/'\n",
    "\n",
    "file_list = os.listdir(os.path.join(MODEL_ROOT_PATH, MODEL_PATH))\n",
    "\n",
    "model_dropdown = widgets.Dropdown(\n",
    "    options=file_list,\n",
    "    description='Model:',\n",
    "    disabled=False,\n",
    ")\n",
    "\n",
    "def on_change(change):\n",
    "    if change['type'] == 'change' and change['name'] == 'value':\n",
    "        print(change['new'])\n",
    "\n",
    "model_dropdown.observe(on_change)\n",
    "display(model_dropdown)"
   ]
  },
  {
   "cell_type": "markdown",
   "metadata": {},
   "source": [
    "### Choose an input video"
   ]
  },
  {
   "cell_type": "code",
   "execution_count": 2,
   "metadata": {
    "scrolled": true
   },
   "outputs": [
    {
     "data": {
      "application/vnd.jupyter.widget-view+json": {
       "model_id": "c0d7015de1ba4fe58c556a2880656044",
       "version_major": 2,
       "version_minor": 0
      },
      "text/plain": [
       "Dropdown(description='Video:', options=('P02T01C06.mp4', 'P02T01C07.mp4', 'P02T02C03.mp4', 'P02T02C06.mp4', 'P…"
      ]
     },
     "metadata": {},
     "output_type": "display_data"
    }
   ],
   "source": [
    "VIDEO_PATH = 'input_files'\n",
    "VIDEO_ROOT_PATH = './data/'\n",
    "\n",
    "file_list = os.listdir(os.path.join(VIDEO_ROOT_PATH, VIDEO_PATH))\n",
    "\n",
    "video_dropdown = widgets.Dropdown(\n",
    "    options=file_list,\n",
    "    description='Video:',\n",
    "    disabled=False,\n",
    ")\n",
    "\n",
    "def on_change(change):\n",
    "    if change['type'] == 'change' and change['name'] == 'value':\n",
    "        print(change['new'])\n",
    "\n",
    "video_dropdown.observe(on_change)\n",
    "display(video_dropdown)"
   ]
  },
  {
   "cell_type": "markdown",
   "metadata": {},
   "source": [
    "### Generate video with caption"
   ]
  },
  {
   "cell_type": "code",
   "execution_count": 3,
   "metadata": {
    "colab": {
     "base_uri": "https://localhost:8080/"
    },
    "id": "4D84kQqh0-1_",
    "outputId": "a17fda50-ff6b-4f13-c13f-ad5dcb9a5118",
    "scrolled": false
   },
   "outputs": [
    {
     "name": "stderr",
     "output_type": "stream",
     "text": [
      "100%|████████████████████████████████████████████████████████████████████████████████| 536/536 [00:09<00:00, 56.62it/s]\n",
      "100%|███████████████████████████████████████████████████████████████████████████████| 536/536 [00:04<00:00, 108.08it/s]\n"
     ]
    },
    {
     "name": "stdout",
     "output_type": "stream",
     "text": [
      "51\n"
     ]
    },
    {
     "name": "stderr",
     "output_type": "stream",
     "text": [
      "generating video...: 100%|███████████████████████████████████████████████████████| 17769/17769 [04:37<00:00, 64.23it/s]"
     ]
    },
    {
     "data": {
      "text/html": [
       "<video src=\"./Toyota_Smarthome/pipline/video_output/P02T01C06_caption.mp4\" controls  >\n",
       "      Your browser does not support the <code>video</code> element.\n",
       "    </video>"
      ],
      "text/plain": [
       "<IPython.core.display.Video object>"
      ]
     },
     "execution_count": 3,
     "metadata": {},
     "output_type": "execute_result"
    },
    {
     "name": "stderr",
     "output_type": "stream",
     "text": [
      "\r",
      "generating video...: : 17770it [04:53, 64.23it/s]                                                                      "
     ]
    }
   ],
   "source": [
    "#insert codes here\n",
    "from IPython.display import Video\n",
    "\n",
    "video_selected = video_dropdown.value.replace('.mp4','')\n",
    "model_selected = model_dropdown.value\n",
    "%run -i ./Toyota_Smarthome/pipline/test2.py -videofile={video_selected} -model={model_selected}\n",
    "Video(\"./Toyota_Smarthome/pipline/video_output/\" + video_selected + \"_caption.mp4\")"
   ]
  },
  {
   "cell_type": "markdown",
   "metadata": {
    "id": "x5cqhsmO1TW5"
   },
   "source": [
    "## 5. Testing and evaluating trained models\n",
    "\n",
    "This section shows"
   ]
  },
  {
   "cell_type": "code",
   "execution_count": 61,
   "metadata": {
    "colab": {
     "base_uri": "https://localhost:8080/",
     "height": 182
    },
    "id": "KUHMF5Pr1XjJ",
    "outputId": "1f5edc5d-708c-4ada-e36d-83c19dbc1e0b"
   },
   "outputs": [
    {
     "data": {
      "text/html": [
       "<video src=\"./data/input_files/P02T01C07.mp4\" controls  >\n",
       "      Your browser does not support the <code>video</code> element.\n",
       "    </video>"
      ],
      "text/plain": [
       "<IPython.core.display.Video object>"
      ]
     },
     "execution_count": 61,
     "metadata": {},
     "output_type": "execute_result"
    }
   ],
   "source": []
  },
  {
   "cell_type": "markdown",
   "metadata": {
    "id": "vyUzIqvd3rue"
   },
   "source": [
    "## 6. Training of new model\n",
    "\n",
    "This section shows"
   ]
  },
  {
   "cell_type": "code",
   "execution_count": 8,
   "metadata": {
    "id": "yZ3NT9Et3wnT"
   },
   "outputs": [
    {
     "name": "stderr",
     "output_type": "stream",
     "text": [
      "                                                                                                                       \r"
     ]
    }
   ],
   "source": []
  },
  {
   "cell_type": "code",
   "execution_count": null,
   "metadata": {},
   "outputs": [],
   "source": []
  },
  {
   "cell_type": "code",
   "execution_count": null,
   "metadata": {},
   "outputs": [],
   "source": []
  }
 ],
 "metadata": {
  "accelerator": "GPU",
  "colab": {
   "collapsed_sections": [
    "4pbFLqFs08xy"
   ],
   "include_colab_link": true,
   "provenance": []
  },
  "kernelspec": {
   "display_name": "Python 3",
   "language": "python",
   "name": "python3"
  },
  "language_info": {
   "codemirror_mode": {
    "name": "ipython",
    "version": 3
   },
   "file_extension": ".py",
   "mimetype": "text/x-python",
   "name": "python",
   "nbconvert_exporter": "python",
   "pygments_lexer": "ipython3",
   "version": "3.8.8"
  }
 },
 "nbformat": 4,
 "nbformat_minor": 1
}
