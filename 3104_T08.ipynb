{
 "cells": [
  {
   "cell_type": "markdown",
   "metadata": {
    "colab_type": "text",
    "id": "view-in-github"
   },
   "source": [
    "<a href=\"https://colab.research.google.com/github/ict3104-p2-team08/ict3104-p2-team08/blob/inference_feat/3104_T08.ipynb\" target=\"_parent\"><img src=\"https://colab.research.google.com/assets/colab-badge.svg\" alt=\"Open In Colab\"/></a>"
   ]
  },
  {
   "cell_type": "markdown",
   "metadata": {
    "id": "2yJLCy-Wv_Rd"
   },
   "source": [
    "# Activity Detection ML Test"
   ]
  },
  {
   "cell_type": "markdown",
   "metadata": {
    "id": "iyKsO3crw1K5"
   },
   "source": [
    "## Prerequisites\n",
    "\n",
    "This section provides the setting up of the environment"
   ]
  },
  {
   "cell_type": "code",
   "execution_count": null,
   "metadata": {
    "colab": {
     "base_uri": "https://localhost:8080/"
    },
    "id": "heoGQJ7NyBiM",
    "outputId": "a2fa6fd7-2874-4e82-9914-1d335a7735cd"
   },
   "outputs": [],
   "source": [
    "!pip install torch -f https://download.pytorch.org/whl/cu113/torch-1.12.1%2Bcu113-cp37-cp37m-linux_x86_64.whl\n",
    "!pip install torchaudio -f https://download.pytorch.org/whl/cu113/torchaudio-0.12.1%2Bcu113-cp37-cp37m-linux_x86_64.whl\n",
    "!pip install torchsummary==1.5.1 torchtext==0.13.1 torchvision -f https://download.pytorch.org/whl/cu113/torchvision-0.13.1%2Bcu113-cp37-cp37m-linux_x86_64.whl"
   ]
  },
  {
   "cell_type": "code",
   "execution_count": null,
   "metadata": {
    "colab": {
     "base_uri": "https://localhost:8080/"
    },
    "id": "KapnAnp1HjCk",
    "outputId": "3e421bec-ced0-4884-8fcb-54035e2b3c6f"
   },
   "outputs": [],
   "source": [
    "!git clone https://github.com/v-iashin/video_features.git\n",
    "!pip install omegaconf==2.0.6"
   ]
  },
  {
   "cell_type": "code",
   "execution_count": null,
   "metadata": {
    "id": "FQXemWrcw4pE"
   },
   "outputs": [],
   "source": [
    "# Imports widgets for jupyter\n",
    "try:\n",
    "    import piplite\n",
    "    piplite.install(['ipywidgets'])\n",
    "except ImportError:\n",
    "    pass"
   ]
  },
  {
   "cell_type": "markdown",
   "metadata": {
    "id": "QcEvKDf2wVL2"
   },
   "source": [
    "# Toggling of pipelines\n",
    "\n",
    "This section shows the toggling of dependencies between TSU and STEP"
   ]
  },
  {
   "cell_type": "markdown",
   "metadata": {},
   "source": [
    "##### Check if there is cuda is installed in your notebook"
   ]
  },
  {
   "cell_type": "code",
   "execution_count": null,
   "metadata": {
    "id": "lb4Grr9wuhWu"
   },
   "outputs": [],
   "source": [
    "#insert code here\n",
    "import torch\n",
    "print(torch.cuda.is_available())"
   ]
  },
  {
   "cell_type": "markdown",
   "metadata": {
    "id": "voFOEyiP0WSt"
   },
   "source": [
    "# Data exploration\n",
    "\n",
    "This section load and display video data from the Toyota Smarthome (TSU) project"
   ]
  },
  {
   "cell_type": "code",
   "execution_count": null,
   "metadata": {},
   "outputs": [],
   "source": [
    "#create everytime session start\n",
    "!mkdir data\n",
    "!mkdir data/input_files"
   ]
  },
  {
   "cell_type": "code",
   "execution_count": 4,
   "metadata": {},
   "outputs": [],
   "source": [
    "import ipywidgets as widgets"
   ]
  },
  {
   "cell_type": "markdown",
   "metadata": {},
   "source": [
    "## Upload video to folder"
   ]
  },
  {
   "cell_type": "code",
   "execution_count": 5,
   "metadata": {},
   "outputs": [
    {
     "data": {
      "application/vnd.jupyter.widget-view+json": {
       "model_id": "50b4f127149e4af8841353c032dd9444",
       "version_major": 2,
       "version_minor": 0
      },
      "text/plain": [
       "FileUpload(value={}, description='Upload', multiple=True)"
      ]
     },
     "metadata": {},
     "output_type": "display_data"
    }
   ],
   "source": [
    "uploader = widgets.FileUpload(\n",
    "    accept='',  # Accepted file extension e.g. '.txt', '.pdf', 'image/*', 'image/*,.pdf'\n",
    "    multiple=True  # True to accept multiple files upload else False\n",
    "    )\n",
    "\n",
    "display(uploader)"
   ]
  },
  {
   "cell_type": "code",
   "execution_count": 7,
   "metadata": {},
   "outputs": [],
   "source": [
    "test = uploader.value\n",
    "for name, file_info in uploader.value.items():\n",
    "     with open (name, 'wb') as file:\n",
    "            file.write(file_info['content'])"
   ]
  },
  {
   "cell_type": "code",
   "execution_count": null,
   "metadata": {},
   "outputs": [],
   "source": [
    "import ipywidgets as widgets\n",
    "from ipyvuetify.extra import FileInput\n",
    "import hashlib\n",
    "file_input = FileInput()\n",
    "file_input\n",
    "# first select some files in the FileInput above\n",
    "\n",
    "myfiles = file_input.get_files()\n",
    "myfiles[0]\n",
    "file_input.disabled = True\n",
    "\n",
    "def md5_sum_file(file):\n",
    "    file['file_obj'].seek(0)\n",
    "    data = file['file_obj'].read()\n",
    "    md5_sum = hashlib.md5(data).hexdigest()\n",
    "    return f'{file[\"name\"]}, md5: {md5_sum}'\n",
    "\n",
    "sums = [md5_sum_file(file) for file in myfiles]\n",
    "file_input.disabled = False\n",
    "\n",
    "sums"
   ]
  },
  {
   "cell_type": "markdown",
   "metadata": {},
   "source": [
    "## Display uploaded video in dropdown"
   ]
  },
  {
   "cell_type": "code",
   "execution_count": null,
   "metadata": {
    "id": "8dgd963k-3DR"
   },
   "outputs": [],
   "source": [
    "#tsu video files to display in dropdown\n",
    "from ipywidgets import  Dropdown, widgets\n",
    "import os\n",
    "\n",
    "FOLDER_PATH = 'input_files'\n",
    "ROOT_PATH = './data'\n",
    "\n",
    "file_list = os.listdir(os.path.join(ROOT_PATH, FOLDER_PATH))\n",
    "\n",
    "\n",
    "w = widgets.Dropdown(\n",
    "    options= file_list,\n",
    ")\n",
    "\n",
    "def on_change(change):\n",
    "    if change['type'] == 'change' and change['name'] == 'value':\n",
    "        print(change['new'])\n",
    "\n",
    "w.observe(on_change)\n",
    "\n",
    "display(w)"
   ]
  },
  {
   "cell_type": "markdown",
   "metadata": {},
   "source": [
    "## Display video"
   ]
  },
  {
   "cell_type": "code",
   "execution_count": null,
   "metadata": {
    "id": "jB0moBiBCpVL"
   },
   "outputs": [],
   "source": [
    "#display video - donote: only can within 30s vid\n",
    "from IPython.display import HTML\n",
    "from base64 import b64encode\n",
    "\n",
    "video_path = './data/input_files/%' + w.value\n",
    "\n",
    "locate= \"\" \n",
    "\n",
    "for i in video_path: \n",
    "    if i=='%':\n",
    "        pass\n",
    "    else:\n",
    "        locate+=i \n",
    "\n",
    "print(locate)\n",
    "\n",
    "def show_video(locate, video_width = 500):\n",
    "    video_file = open(locate, \"r+b\").read()\n",
    "    video_url = f\"data:video/mp4;base64,{b64encode(video_file).decode()}\"\n",
    "    return HTML(f\"\"\"<video width={video_width} controls><source src=\"{video_url}\"></video>\"\"\")\n",
    "  \n",
    "show_video(locate)"
   ]
  },
  {
   "cell_type": "markdown",
   "metadata": {},
   "source": [
    "## Run the feature extraction"
   ]
  },
  {
   "cell_type": "code",
   "execution_count": null,
   "metadata": {
    "id": "NJJbEEdHNcJU"
   },
   "outputs": [],
   "source": [
    "#get out of data/input_file dir to content dir\n",
    "%cd ../\n",
    "%cd ../"
   ]
  },
  {
   "cell_type": "code",
   "execution_count": null,
   "metadata": {},
   "outputs": [],
   "source": [
    "### cd to video_features dir git clone\n",
    "%cd video_features\n",
    "%ls video_features\n"
   ]
  },
  {
   "cell_type": "code",
   "execution_count": null,
   "metadata": {
    "id": "Z2kz9WWwFbY6"
   },
   "outputs": [],
   "source": [
    "### extract to I3D feature file\n",
    "from models.i3d.extract_i3d import ExtractI3D\n",
    "from utils.utils import b\n",
    "uild_cfg_path\n",
    "from omegaconf import OmegaConf\n",
    "import torch\n",
    "\n",
    "# Select the feature type\n",
    "feature_type = 'i3d'\n",
    "args = OmegaConf.load(build_cfg_path(feature_type))\n",
    "args.video_paths = [locate]\n",
    "args.flow_type = 'raft'\n",
    "\n",
    "extractor = ExtractI3D(args)\n",
    "\n",
    "# Extract features\n",
    "for video_path in args.video_paths:\n",
    "    print(f'Extracting for {video_path}')\n",
    "    feature_dict = extractor.extract(video_path)\n",
    "    [(print(k), print(v.shape), print(v)) for k, v in feature_dict.items()]"
   ]
  },
  {
   "cell_type": "markdown",
   "metadata": {},
   "source": [
    "## Generate and store numpy files"
   ]
  },
  {
   "cell_type": "code",
   "execution_count": null,
   "metadata": {},
   "outputs": [],
   "source": [
    "#derive rgb, flow, rgb+flow dict\n",
    "rgb = list(feature_dict.items())[0]\n",
    "#flow = list(feature_dict.items())[1]\n",
    "\n",
    "rgb_dict = {rgb[0]: rgb[1]}\n",
    "#flow_dict = {flow[0]: flow[1]}\n",
    "#rgb_flow_dict = {rgb[0]: rgb[1], flow[0]: flow[1]}"
   ]
  },
  {
   "cell_type": "code",
   "execution_count": 12,
   "metadata": {},
   "outputs": [
    {
     "name": "stdout",
     "output_type": "stream",
     "text": [
      "C:\\Users\\Yu Hui\\Documents\\GitHub\\ict3104-p2-team08\n"
     ]
    }
   ],
   "source": [
    "#get out of video_features dir to content dir\n",
    "%cd ../"
   ]
  },
  {
   "cell_type": "code",
   "execution_count": 8,
   "metadata": {},
   "outputs": [
    {
     "name": "stdout",
     "output_type": "stream",
     "text": [
      "C:\\Users\\Yu Hui\\Documents\\GitHub\\ict3104-p2-team08\\data\\input_i3d\n"
     ]
    }
   ],
   "source": [
    "%cd data/input_i3d"
   ]
  },
  {
   "cell_type": "code",
   "execution_count": null,
   "metadata": {},
   "outputs": [],
   "source": [
    "#save dict as .npy feature file at the dir\n",
    "import numpy as np\n",
    "\n",
    "#rgb .npy\n",
    "np.save(w.value[:-4] + \"_rgb.npy\", rgb_dict)\n",
    "\n",
    "#flow .npy\n",
    "#np.save(w.value[:-4] + \"_flow.npy\", flow_dict)\n",
    "\n",
    "#rgb_flow .npy\n",
    "#np.save(w.value[:-4] + \"_rgb_flow.npy\", rgb_flow_dict)"
   ]
  },
  {
   "cell_type": "code",
   "execution_count": null,
   "metadata": {},
   "outputs": [],
   "source": [
    "#check if .npy load \n",
    "#rbg_test =np.load(\"P02T03C03_rgb.npy\", allow_pickle= True)\n",
    "#flow_test =np.load(\"P02T03C03_flow.npy\", allow_pickle= True)\n",
    "#rbg_flow_test =np.load(\"P02T03C03_rgb_flow.npy\", allow_pickle= True)\n",
    "\n",
    "\n",
    "#print(rbg_test)\n",
    "#print(flow_test)\n",
    "#print(rbg_flow_test)"
   ]
  },
  {
   "cell_type": "code",
   "execution_count": null,
   "metadata": {},
   "outputs": [],
   "source": [
    "%cd ../\n",
    "%cd ../"
   ]
  },
  {
   "cell_type": "markdown",
   "metadata": {},
   "source": [
    "## Match to cs_51 json and create new json file"
   ]
  },
  {
   "cell_type": "code",
   "execution_count": 18,
   "metadata": {
    "scrolled": false
   },
   "outputs": [
    {
     "name": "stdout",
     "output_type": "stream",
     "text": [
      "['P02T01C06.npy', 'P02T02C03.npy', 'P03T10C02.npy']\n",
      "{'P02T01C06': {'subset': 'testing', 'duration': 17771, 'actions': [[0, 170, 187], [1, 181, 222], [2, 233, 1615], [3, 236, 502], [4, 600, 791], [5, 841, 936], [5, 1074, 1170], [6, 1419, 1468], [5, 1616, 1807], [7, 2502, 2693], [8, 2910, 2992], [0, 4957, 4987], [9, 4961, 4990], [1, 5022, 5074], [10, 6466, 6523], [11, 6770, 6860], [1, 6926, 6947], [1, 6969, 7020], [9, 6997, 7017], [12, 7444, 7578], [13, 7756, 7836], [13, 7903, 7962], [13, 7974, 8026], [1, 8097, 8135], [1, 8164, 8209], [14, 8300, 8379], [1, 8383, 8428], [14, 8662, 8748], [8, 9220, 9296], [0, 10340, 10374], [1, 10362, 10392], [8, 10388, 10411], [0, 10445, 10470], [1, 10471, 10504], [2, 10489, 11397], [3, 10494, 10692], [4, 10743, 10871], [5, 10935, 11002], [6, 11288, 11332], [5, 11469, 11625], [1, 11717, 11798], [8, 12119, 12169], [0, 12591, 12635], [7, 12621, 12869], [8, 12881, 12929], [0, 14529, 14619], [9, 14613, 14652], [11, 14738, 14871], [1, 14910, 14930], [1, 14952, 14985], [9, 14969, 14998], [12, 15232, 15378], [10, 15308, 15340], [13, 15396, 15437], [13, 15465, 15527], [13, 15568, 15637], [13, 15680, 15744], [9, 15741, 15768], [1, 15826, 15858], [1, 15881, 15915], [14, 15944, 15993], [14, 16118, 16215], [1, 16773, 16818], [1, 16871, 16911], [10, 16888, 16911], [13, 16912, 16980], [1, 16991, 17021], [1, 17070, 17121], [1, 17504, 17538], [8, 17528, 17552]]}, 'P02T02C03': {'subset': 'testing', 'duration': 22370, 'actions': [[0, 81, 136], [1, 171, 234], [15, 273, 686], [10, 284, 294], [1, 471, 493], [9, 504, 529], [16, 554, 681], [1, 706, 728], [10, 746, 756], [1, 757, 772], [9, 774, 787], [1, 793, 815], [17, 832, 1032], [9, 1045, 1066], [10, 1085, 1095], [17, 1107, 1191], [18, 1225, 1385], [14, 1427, 1467], [1, 1474, 1509], [1, 1684, 1713], [10, 1717, 1727], [19, 1741, 5980], [9, 1762, 1779], [10, 2977, 2994], [9, 4492, 4509], [10, 4823, 4842], [9, 5578, 5598], [1, 6032, 6107], [11, 6358, 6499], [14, 6701, 6738], [17, 6765, 6857], [20, 7011, 7089], [13, 7102, 7271], [1, 7282, 7361], [17, 7348, 7412], [1, 7418, 7505], [13, 7520, 7602], [1, 7614, 7723], [21, 7697, 8508], [1, 8549, 8620], [19, 8714, 9575], [13, 8814, 8912], [13, 8930, 9045], [13, 9089, 9209], [13, 9318, 9425], [1, 9589, 9680], [22, 9712, 9813], [23, 9740, 9792], [1, 9806, 9900], [8, 9846, 9974], [0, 10508, 10658], [1, 10591, 10670], [16, 10793, 11053], [17, 11246, 11460], [18, 11482, 11593], [1, 11675, 11788], [19, 11804, 13199], [1, 13203, 13330], [19, 13363, 17692], [1, 17694, 17795], [11, 18388, 18510], [1, 18832, 19139], [17, 19127, 19180], [1, 19181, 19254], [20, 19266, 19341], [13, 19383, 19448], [1, 19465, 19536], [1, 19586, 19652], [13, 19683, 19914], [1, 19936, 20041], [21, 20024, 20141], [21, 20336, 20390], [1, 20388, 20528], [24, 20398, 20425], [19, 20526, 21117], [13, 21102, 21215], [13, 21249, 21319], [19, 21342, 21795], [13, 21801, 21855], [1, 21881, 21978], [22, 21985, 22082], [23, 22021, 22052], [1, 22181, 22286], [8, 22252, 22332]]}, 'P03T10C02': {'subset': 'training', 'duration': 7768, 'actions': [[35, 0, 1348], [10, 46, 52], [9, 82, 87], [10, 202, 218], [37, 251, 425], [37, 251, 425], [9, 445, 458], [10, 689, 702], [36, 727, 928], [9, 928, 941], [10, 951, 963], [9, 985, 995], [10, 1005, 1019], [9, 1116, 1135], [38, 1233, 1243], [38, 1254, 1268], [38, 1282, 1299], [28, 1304, 1335], [10, 1310, 1316], [9, 1322, 1333], [1, 1337, 1372], [8, 1352, 1389], [0, 1399, 1430], [1, 1410, 1449], [30, 1464, 1542], [1, 1554, 1591], [8, 1573, 1605], [0, 1622, 1652], [1, 1633, 1665], [25, 1667, 1701], [35, 1712, 5033], [38, 1758, 1769], [38, 1773, 1785], [38, 1791, 1853], [38, 1870, 1885], [10, 1927, 1932], [13, 1929, 1987], [9, 1980, 1989], [38, 2196, 2286], [38, 2608, 2667], [38, 2688, 2703], [38, 2711, 2732], [38, 2735, 2750], [38, 2764, 2779], [38, 3000, 3073], [38, 3243, 3295], [38, 3302, 3324], [38, 3331, 3354], [38, 3361, 3390], [38, 3419, 3446], [38, 3460, 3488], [38, 3491, 3508], [38, 3551, 3579], [38, 3589, 3609], [38, 3619, 3634], [38, 3637, 3653], [38, 3657, 3670], [10, 4126, 4135], [13, 4130, 4185], [13, 4319, 4369], [13, 4488, 4546], [13, 4681, 4743], [9, 4728, 4741], [10, 4867, 4883], [9, 4893, 4906], [10, 5001, 5011], [9, 5021, 5031], [10, 5233, 5253], [49, 5325, 5346], [34, 5380, 7312], [19, 5380, 7312], [28, 7395, 7418], [10, 7452, 7459], [9, 7468, 7480], [9, 7616, 7631], [1, 7651, 7701], [8, 7671, 7718]]}}\n"
     ]
    }
   ],
   "source": [
    "# match upload to smarthome cs 51\n",
    "import datetime\n",
    "import json\n",
    "import os\n",
    "\n",
    "filename = './Toyota_Smarthome/pipline/data/smarthome_CS_51.json'\n",
    "\n",
    "FOLDER_PATH = 'input_i3d'\n",
    "ROOT_PATH = './data/'\n",
    "\n",
    "rgb_file_list = os.listdir(os.path.join(ROOT_PATH, FOLDER_PATH))\n",
    "\n",
    "print(rgb_file_list)\n",
    "with open(filename, \"rt\") as file:\n",
    "    data = json.load(file)\n",
    "\n",
    "new_data = {}\n",
    "\n",
    "for x in rgb_file_list:\n",
    "    for k,v in data.items():\n",
    "        if x[0:9] == k:\n",
    "            new_data[k] = v\n",
    "\n",
    "\n",
    "print(new_data)\n",
    "ct = datetime.datetime.now()\n",
    "\n",
    "FILENAME_NEW = 'new_CS_' + str(ct.timestamp()) + '.json'\n",
    "STORE_PATH = './Toyota_Smarthome/pipline/data/'\n",
    "newfile = STORE_PATH + FILENAME_NEW\n",
    "\n",
    "with open(newfile, \"wt\") as file:\n",
    "    json.dump(new_data, file)"
   ]
  },
  {
   "cell_type": "markdown",
   "metadata": {
    "id": "4pbFLqFs08xy"
   },
   "source": [
    "# Inference with pretrained model\n",
    "\n",
    "This section allows generation of caption videos"
   ]
  },
  {
   "cell_type": "markdown",
   "metadata": {},
   "source": [
    "## Select a pre-trained model"
   ]
  },
  {
   "cell_type": "code",
   "execution_count": null,
   "metadata": {},
   "outputs": [],
   "source": [
    "%cd C:\\Users\\Tiffany\\Desktop\\SIT\\S3T1\\3104\\3104 Project\\ict3104-p2-team08"
   ]
  },
  {
   "cell_type": "code",
   "execution_count": null,
   "metadata": {
    "scrolled": true
   },
   "outputs": [],
   "source": [
    "#tsu video files to display in dropdown\n",
    "import ipywidgets as widgets\n",
    "import os\n",
    "\n",
    "MODEL_PATH = 'models'\n",
    "MODEL_ROOT_PATH = './Toyota_Smarthome/pipline/'\n",
    "\n",
    "file_list = os.listdir(os.path.join(MODEL_ROOT_PATH, MODEL_PATH))\n",
    "print(os.path.join(MODEL_ROOT_PATH, MODEL_PATH))\n",
    "\n",
    "model_dropdown = widgets.Dropdown(\n",
    "    options=file_list,\n",
    "    description='Model:',\n",
    "    disabled=False,\n",
    ")\n",
    "\n",
    "def on_change(change):\n",
    "    if change['type'] == 'change' and change['name'] == 'value':\n",
    "        print(change['new'])\n",
    "\n",
    "model_dropdown.observe(on_change)\n",
    "display(model_dropdown)"
   ]
  },
  {
   "cell_type": "markdown",
   "metadata": {},
   "source": [
    "## Choose an input video"
   ]
  },
  {
   "cell_type": "code",
   "execution_count": null,
   "metadata": {
    "scrolled": true
   },
   "outputs": [],
   "source": [
    "import json\n",
    "VIDEO_PATH = 'input_files'\n",
    "VIDEO_ROOT_PATH = './data/'\n",
    "\n",
    "full_testable_video = os.listdir(os.path.join(VIDEO_ROOT_PATH, VIDEO_PATH))\n",
    "\n",
    "model_name = model_dropdown.value\n",
    "JSON_FILEPATH = \"./Toyota_Smarthome/pipline/model_videos.json\"\n",
    "f = open(JSON_FILEPATH)\n",
    "data = json.load(f)\n",
    "testable_video = data[model_name]\n",
    "testable_video = [video + \".mp4\" for video in testable_video]\n",
    "print(testable_video)\n",
    "\n",
    "if model_name == \"PDAN\":\n",
    "    file_list = full_testable_video\n",
    "else:\n",
    "    file_list = testable_video\n",
    "\n",
    "video_dropdown = widgets.Dropdown(\n",
    "    options=file_list,\n",
    "    description='Video:',\n",
    "    disabled=False,\n",
    ")\n",
    "\n",
    "\n",
    "def on_change(change):\n",
    "    if change['type'] == 'change' and change['name'] == 'value':\n",
    "        print(change['new'])\n",
    "\n",
    "video_dropdown.observe(on_change)\n",
    "display(video_dropdown)"
   ]
  },
  {
   "cell_type": "markdown",
   "metadata": {},
   "source": [
    "## Generate video with caption"
   ]
  },
  {
   "cell_type": "code",
   "execution_count": null,
   "metadata": {},
   "outputs": [],
   "source": [
    "%pip install opencv-python"
   ]
  },
  {
   "cell_type": "code",
   "execution_count": null,
   "metadata": {
    "colab": {
     "base_uri": "https://localhost:8080/"
    },
    "id": "4D84kQqh0-1_",
    "outputId": "a17fda50-ff6b-4f13-c13f-ad5dcb9a5118",
    "scrolled": false
   },
   "outputs": [],
   "source": [
    "#insert codes here\n",
    "from IPython.display import Video\n",
    "\n",
    "video_selected = video_dropdown.value.replace('.mp4','')\n",
    "model_selected = model_dropdown.value\n",
    "model_path = \"./Toyota_Smarthome/pipline/models/\" + model_selected\n",
    "%run -i ./Toyota_Smarthome/pipline/test2.py -videofile={video_selected} -load_model={model_path} -name={model_selected}\n",
    "Video(\"./Toyota_Smarthome/pipline/video_output/\" + video_selected + \"_caption.mp4\")"
   ]
  },
  {
   "cell_type": "markdown",
   "metadata": {
    "heading_collapsed": true,
    "id": "x5cqhsmO1TW5"
   },
   "source": [
    "# Testing and evaluating trained models\n",
    "\n",
    "This section shows"
   ]
  },
  {
   "cell_type": "code",
   "execution_count": null,
   "metadata": {
    "colab": {
     "base_uri": "https://localhost:8080/",
     "height": 182
    },
    "hidden": true,
    "id": "KUHMF5Pr1XjJ",
    "outputId": "1f5edc5d-708c-4ada-e36d-83c19dbc1e0b"
   },
   "outputs": [],
   "source": []
  },
  {
   "cell_type": "markdown",
   "metadata": {
    "heading_collapsed": true,
    "id": "vyUzIqvd3rue"
   },
   "source": [
    "# Training of new model\n",
    "\n",
    "This section shows"
   ]
  },
  {
   "cell_type": "markdown",
   "metadata": {
    "hidden": true
   },
   "source": [
    "## Choose datasets for training/testing"
   ]
  },
  {
   "cell_type": "code",
   "execution_count": null,
   "metadata": {
    "hidden": true,
    "id": "yZ3NT9Et3wnT"
   },
   "outputs": [],
   "source": [
    "#C:\\Users\\leech\\OneDrive\\Documents\\untrimmed\\RGB.tar\\Videos_mp4\n",
    "import os\n",
    "import ipywidgets as widgets\n",
    "DATASET_PATH = 'Videos_mp4'\n",
    "DATASET_ROOT_PATH = '../OneDrive/Documents/untrimmed/RGB.tar/'\n",
    "\n",
    "file_list = os.listdir(os.path.join(DATASET_ROOT_PATH, DATASET_PATH))\n",
    "\n",
    "sel = widgets.SelectMultiple(\n",
    "options=file_list,\n",
    "#rows=10,\n",
    "description='Dataset:',\n",
    "disabled=False\n",
    ")\n",
    "\n",
    "selected_videos = []\n",
    "\n",
    "but = widgets.Button(description = 'Upload')\n",
    "def on_button_clicked(b):\n",
    "    print(sel.value)\n",
    "\n",
    "but.on_click(on_button_clicked)\n",
    "\n",
    "display(sel)\n",
    "display(but)"
   ]
  },
  {
   "cell_type": "markdown",
   "metadata": {
    "hidden": true
   },
   "source": [
    "## Model name, Batch size, Epochs"
   ]
  },
  {
   "cell_type": "code",
   "execution_count": null,
   "metadata": {
    "hidden": true
   },
   "outputs": [],
   "source": [
    "inp = widgets.Text(description='Model name:')\n",
    "batch_size = widgets.BoundedIntText(description='Batch size:',\n",
    "                                   value=2,\n",
    "                                   max=4)\n",
    "epochs = widgets.BoundedIntText(description='Epochs:',\n",
    "                               value=1000,\n",
    "                               max=1000)\n",
    "button = widgets.Button(description=\"Enter\")\n",
    "\n",
    "button = widgets.Button(description=\"Enter\")\n",
    "\n",
    "def on_button_clicked(b):\n",
    "    print(\"Model name set: \", inp.value)\n",
    "    print(\"batch size set: \", batch_size.value)\n",
    "    print(\"epochs set: \", epochs.value)\n",
    "\n",
    "button.on_click(on_button_clicked)\n",
    "display(inp)\n",
    "display(batch_size)\n",
    "display(epochs)\n",
    "display(button)"
   ]
  },
  {
   "cell_type": "markdown",
   "metadata": {
    "hidden": true
   },
   "source": [
    "## Start training model"
   ]
  },
  {
   "cell_type": "code",
   "execution_count": null,
   "metadata": {
    "hidden": true
   },
   "outputs": [],
   "source": [
    "model_name = inp.value\n",
    "selected_videos = list(sel.value)\n",
    "for i in range(len(selected_videos)):\n",
    "    selected_videos[i] = selected_videos[i].replace('.mp4','')\n",
    "selected_videos_string=(','.join(selected_videos))\n",
    "batchSize = str(batch_size.value)\n",
    "epochValue = (epochs.value)\n",
    "%run -i ./Toyota_Smarthome/pipline/train.py -video_train_test={selected_videos_string} -model=PDAN -name={model_name} -batch_size={batchSize} -epoch={epochValue}"
   ]
  }
 ],
 "metadata": {
  "accelerator": "GPU",
  "colab": {
   "collapsed_sections": [
    "4pbFLqFs08xy"
   ],
   "include_colab_link": true,
   "provenance": []
  },
  "kernelspec": {
   "display_name": "Python 3",
   "language": "python",
   "name": "python3"
  },
  "language_info": {
   "codemirror_mode": {
    "name": "ipython",
    "version": 3
   },
   "file_extension": ".py",
   "mimetype": "text/x-python",
   "name": "python",
   "nbconvert_exporter": "python",
   "pygments_lexer": "ipython3",
   "version": "3.8.8"
  },
  "toc": {
   "base_numbering": 1,
   "nav_menu": {},
   "number_sections": true,
   "sideBar": true,
   "skip_h1_title": false,
   "title_cell": "Table of Contents",
   "title_sidebar": "Contents",
   "toc_cell": false,
   "toc_position": {},
   "toc_section_display": true,
   "toc_window_display": false
  },
  "varInspector": {
   "cols": {
    "lenName": 16,
    "lenType": 16,
    "lenVar": 40
   },
   "kernels_config": {
    "python": {
     "delete_cmd_postfix": "",
     "delete_cmd_prefix": "del ",
     "library": "var_list.py",
     "varRefreshCmd": "print(var_dic_list())"
    },
    "r": {
     "delete_cmd_postfix": ") ",
     "delete_cmd_prefix": "rm(",
     "library": "var_list.r",
     "varRefreshCmd": "cat(var_dic_list()) "
    }
   },
   "types_to_exclude": [
    "module",
    "function",
    "builtin_function_or_method",
    "instance",
    "_Feature"
   ],
   "window_display": false
  }
 },
 "nbformat": 4,
 "nbformat_minor": 1
}
