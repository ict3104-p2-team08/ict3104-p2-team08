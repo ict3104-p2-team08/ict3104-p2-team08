{
 "cells": [
  {
   "cell_type": "markdown",
   "metadata": {
    "colab_type": "text",
    "id": "view-in-github"
   },
   "source": [
    "<a href=\"https://colab.research.google.com/github/ict3104-p2-team08/ict3104-p2-team08/blob/inference_feat/3104_T08.ipynb\" target=\"_parent\"><img src=\"https://colab.research.google.com/assets/colab-badge.svg\" alt=\"Open In Colab\"/></a>"
   ]
  },
  {
   "cell_type": "markdown",
   "metadata": {
    "id": "2yJLCy-Wv_Rd"
   },
   "source": [
    "# Activity Detection ML Test"
   ]
  },
  {
   "cell_type": "markdown",
   "metadata": {
    "id": "iyKsO3crw1K5"
   },
   "source": [
    "## 1. Prerequisites\n",
    "\n",
    "This section provides the setting up of the environment"
   ]
  },
  {
   "cell_type": "code",
   "execution_count": null,
   "metadata": {
    "colab": {
     "base_uri": "https://localhost:8080/"
    },
    "id": "heoGQJ7NyBiM",
    "outputId": "a2fa6fd7-2874-4e82-9914-1d335a7735cd"
   },
   "outputs": [],
   "source": [
    "!pip install torch -f https://download.pytorch.org/whl/cu113/torch-1.12.1%2Bcu113-cp37-cp37m-linux_x86_64.whl\n",
    "!pip install torchaudio -f https://download.pytorch.org/whl/cu113/torchaudio-0.12.1%2Bcu113-cp37-cp37m-linux_x86_64.whl\n",
    "!pip install torchsummary==1.5.1 torchtext==0.13.1 torchvision -f https://download.pytorch.org/whl/cu113/torchvision-0.13.1%2Bcu113-cp37-cp37m-linux_x86_64.whl"
   ]
  },
  {
   "cell_type": "code",
   "execution_count": null,
   "metadata": {
    "colab": {
     "base_uri": "https://localhost:8080/"
    },
    "id": "KapnAnp1HjCk",
    "outputId": "3e421bec-ced0-4884-8fcb-54035e2b3c6f"
   },
   "outputs": [],
   "source": [
    "!git clone https://github.com/v-iashin/video_features.git\n",
    "!pip install omegaconf==2.0.6"
   ]
  },
  {
   "cell_type": "code",
   "execution_count": null,
   "metadata": {
    "id": "FQXemWrcw4pE"
   },
   "outputs": [],
   "source": [
    "# Imports widgets for jupyter\n",
    "try:\n",
    "    import piplite\n",
    "    piplite.install(['ipywidgets'])\n",
    "except ImportError:\n",
    "    pass"
   ]
  },
  {
   "cell_type": "markdown",
   "metadata": {
    "id": "QcEvKDf2wVL2"
   },
   "source": [
    "# 2. Toggling of pipelines\n",
    "\n",
    "This section shows the toggling of dependencies between TSU and STEP"
   ]
  },
  {
   "cell_type": "markdown",
   "metadata": {},
   "source": [
    "##### Check if there is cuda is installed in your notebook"
   ]
  },
  {
   "cell_type": "code",
   "execution_count": null,
   "metadata": {
    "id": "lb4Grr9wuhWu"
   },
   "outputs": [],
   "source": [
    "#insert code here\n",
    "import torch\n",
    "print(torch.cuda.is_available())"
   ]
  },
  {
   "cell_type": "markdown",
   "metadata": {
    "id": "voFOEyiP0WSt"
   },
   "source": [
    "## 3. Data exploration\n",
    "\n",
    "This section load and display video data from the Toyota Smarthome (TSU) project"
   ]
  },
  {
   "cell_type": "markdown",
   "metadata": {},
   "source": [
    "##### Jupyter -- Upload any files/datasets into the main folder"
   ]
  },
  {
   "cell_type": "code",
   "execution_count": null,
   "metadata": {},
   "outputs": [],
   "source": [
    "#create everytime session start\n",
    "!mkdir data\n",
    "!mkdir data/input_files"
   ]
  },
  {
   "cell_type": "code",
   "execution_count": null,
   "metadata": {
    "id": "SnSmkBhh0KkY"
   },
   "outputs": [],
   "source": [
    "#cd to data -> input files folder to store uploaded vid\n",
    "#%cd data/input_files/\n",
    "\n",
    "#%cd ../../"
   ]
  },
  {
   "cell_type": "code",
   "execution_count": 4,
   "metadata": {},
   "outputs": [],
   "source": [
    "import ipywidgets as widgets\n"
   ]
  },
  {
   "cell_type": "code",
   "execution_count": null,
   "metadata": {},
   "outputs": [],
   "source": [
    "#file upload input\n",
    "#from google.colab import files\n",
    "#uploaded = files.upload()",
    "test = uploader.value\n",
    "for name, file_info in uploader.value.items():\n",
    "     with open (name, 'wb') as file:\n",
    "          file.write(file_info['content'])"
   ]
  },
  {
   "cell_type": "markdown",
   "metadata": {},
   "source": [
    "###### Google Colab"
   ]
  },
  {
   "cell_type": "code",
   "execution_count": null,
   "metadata": {},
   "outputs": [],
   "source": [
    "#cd to data -> input files folder to store uploaded vid\n",
    "#%cd data/input_files/\n",
    "\n",
    "#%cd ../../\n",
    "\n",
    "#file upload input\n",
    "#from google.colab import files\n",
    "#uploaded = files.upload()"
   ]
  },
  {
   "cell_type": "code",
   "execution_count": null,
   "metadata": {},
   "outputs": [],
   "source": [
    "import ipywidgets as widgets\n",
    "from ipyvuetify.extra import FileInput\n",
    "import hashlib\n",
    "file_input = FileInput()\n",
    "file_input\n",
    "# first select some files in the FileInput above\n",
    "\n",
    "myfiles = file_input.get_files()\n",
    "myfiles[0]\n",
    "file_input.disabled = True\n",
    "\n",
    "def md5_sum_file(file):\n",
    "    file['file_obj'].seek(0)\n",
    "    data = file['file_obj'].read()\n",
    "    md5_sum = hashlib.md5(data).hexdigest()\n",
    "    return f'{file[\"name\"]}, md5: {md5_sum}'\n",
    "\n",
    "sums = [md5_sum_file(file) for file in myfiles]\n",
    "file_input.disabled = False\n",
    "\n",
    "sums"
   ]
  },
  {
   "cell_type": "code",
   "execution_count": 5,
   "metadata": {},
   "outputs": [
    {
     "data": {
      "application/vnd.jupyter.widget-view+json": {
       "model_id": "50b4f127149e4af8841353c032dd9444",
       "version_major": 2,
       "version_minor": 0
      },
      "text/plain": [
       "FileUpload(value={}, description='Upload', multiple=True)"
      ]
     },
     "metadata": {},
     "output_type": "display_data"
    }
   ],
   "source": [
    "uploader = widgets.FileUpload(\n",
    "    accept='',  # Accepted file extension e.g. '.txt', '.pdf', 'image/*', 'image/*,.pdf'\n",
    "    multiple=True  # True to accept multiple files upload else False\n",
    "    )\n",
    "\n",
    "\n",
    "display(uploader)"
   ]
  },
  {
   "cell_type": "code",
   "execution_count": 7,
   "metadata": {},
   "outputs": [],
   "source": [
    "test = uploader.value\n",
    "for name, file_info in uploader.value.items():\n",
    "     with open (name, 'wb') as file:\n",
    "          file.write(file_info['content'])"
   ]
  },
  {
   "cell_type": "code",
   "execution_count": null,
   "metadata": {},
   "outputs": [],
   "source": [
    "import ipywidgets as widgets\n",
    "from ipyvuetify.extra import FileInput\n",
    "import hashlib\n",
    "file_input = FileInput()\n",
    "file_input\n",
    "# first select some files in the FileInput above\n",
    "\n",
    "myfiles = file_input.get_files()\n",
    "myfiles[0]\n",
    "file_input.disabled = True\n",
    "\n",
    "def md5_sum_file(file):\n",
    "    file['file_obj'].seek(0)\n",
    "    data = file['file_obj'].read()\n",
    "    md5_sum = hashlib.md5(data).hexdigest()\n",
    "    return f'{file[\"name\"]}, md5: {md5_sum}'\n",
    "\n",
    "sums = [md5_sum_file(file) for file in myfiles]\n",
    "file_input.disabled = False\n",
    "\n",
    "sums"
   ]
  },
  {
   "cell_type": "code",
   "execution_count": null,
   "metadata": {
    "id": "8dgd963k-3DR"
   },
   "outputs": [],
   "source": [
    "#tsu video files to display in dropdown\n",
    "from ipywidgets import  Dropdown, widgets\n",
    "import os\n",
    "\n",
    "FOLDER_PATH = 'input_files'\n",
    "ROOT_PATH = './data'\n",
    "\n",
    "file_list = os.listdir(os.path.join(ROOT_PATH, FOLDER_PATH))\n",
    "\n",
    "\n",
    "w = widgets.Dropdown(\n",
    "    options= file_list,\n",
    ")\n",
    "\n",
    "def on_change(change):\n",
    "    if change['type'] == 'change' and change['name'] == 'value':\n",
    "        print(change['new'])\n",
    "\n",
    "w.observe(on_change)\n",
    "\n",
    "display(w)"
   ]
  },
  {
   "cell_type": "code",
   "execution_count": null,
   "metadata": {
    "id": "jB0moBiBCpVL"
   },
   "outputs": [],
   "source": [
    "#display video - donote: only can within 30s vid\n",
    "from IPython.display import HTML\n",
    "from base64 import b64encode\n",
    "\n",
    "video_path = './data/input_files/%' + w.value\n",
    "\n",
    "locate= \"\" \n",
    "\n",
    "for i in video_path: \n",
    "   if i=='%': \n",
    "       pass\n",
    "   else: \n",
    "       locate+=i \n",
    "\n",
    "print(locate)\n",
    "\n",
    "def show_video(locate, video_width = 500):\n",
    "  video_file = open(locate, \"r+b\").read()\n",
    "  video_url = f\"data:video/mp4;base64,{b64encode(video_file).decode()}\"\n",
    "  return HTML(f\"\"\"<video width={video_width} controls><source src=\"{video_url}\"></video>\"\"\")\n",
    "  \n",
    "show_video(locate)"
   ]
  },
  {
   "cell_type": "code",
   "execution_count": null,
   "metadata": {
    "id": "NJJbEEdHNcJU"
   },
   "outputs": [],
   "source": [
    "#get out of data/input_file dir to content dir\n",
    "%cd ../\n",
    "%cd ../"
   ]
  },
  {
   "cell_type": "code",
   "execution_count": null,
   "metadata": {},
   "outputs": [],
   "source": [
    "### cd to video_features dir git clone\n",
    "%cd video_features\n",
    "%ls video_features\n"
   ]
  },
  {
   "cell_type": "code",
   "execution_count": null,
   "metadata": {
    "id": "Z2kz9WWwFbY6"
   },
   "outputs": [],
   "source": [
    "### extract to I3D feature file\n",
    "from models.i3d.extract_i3d import ExtractI3D\n",
    "from utils.utils import b\n",
    "uild_cfg_path\n",
    "from omegaconf import OmegaConf\n",
    "import torch\n",
    "\n",
    "# Select the feature type\n",
    "feature_type = 'i3d'\n",
    "args = OmegaConf.load(build_cfg_path(feature_type))\n",
    "args.video_paths = [locate]\n",
    "args.flow_type = 'raft'\n",
    "\n",
    "extractor = ExtractI3D(args)\n",
    "\n",
    "# Extract features\n",
    "for video_path in args.video_paths:\n",
    "    print(f'Extracting for {video_path}')\n",
    "    feature_dict = extractor.extract(video_path)\n",
    "    [(print(k), print(v.shape), print(v)) for k, v in feature_dict.items()]"
   ]
  },
  {
   "cell_type": "code",
   "execution_count": null,
   "metadata": {},
   "outputs": [],
   "source": [
    "#derive rgb, flow, rgb+flow dict\n",
    "rgb = list(feature_dict.items())[0]\n",
    "flow = list(feature_dict.items())[1]\n",
    "\n",
    "rgb_dict = {rgb[0]: rgb[1]}\n",
    "flow_dict = {flow[0]: flow[1]}\n",
    "rgb_flow_dict = {rgb[0]: rgb[1], flow[0]: flow[1]}"
   ]
  },
  {
   "cell_type": "code",
   "execution_count": null,
   "metadata": {},
   "outputs": [],
   "source": [
    "#get out of video_features dir to content dir\n",
    "%cd ../"
   ]
  },
  {
   "cell_type": "code",
   "execution_count": null,
   "metadata": {},
   "outputs": [],
   "source": [
    "#cd to data -> input_files dir\n",
    "%cd data/input_files"
   ]
  },
  {
   "cell_type": "code",
   "execution_count": null,
   "metadata": {},
   "outputs": [],
   "source": [
    "#save dict as .npy feature file at the dir\n",
    "import numpy as np\n",
    "\n",
    "#rgb .npy\n",
    "np.save(w.value[:-4] + \"_rgb.npy\", rgb_dict)\n",
    "\n",
    "#flow .npy\n",
    "np.save(w.value[:-4] + \"_flow.npy\", flow_dict)\n",
    "\n",
    "#rgb_flow .npy\n",
    "np.save(w.value[:-4] + \"_rgb_flow.npy\", rgb_flow_dict)"
   ]
  },
  {
   "cell_type": "code",
   "execution_count": null,
   "metadata": {},
   "outputs": [],
   "source": [
    "#check if .npy load \n",
    "rbg_test =np.load(\"P02T03C03_rgb.npy\", allow_pickle= True)\n",
    "flow_test =np.load(\"P02T03C03_flow.npy\", allow_pickle= True)\n",
    "rbg_flow_test =np.load(\"P02T03C03_rgb_flow.npy\", allow_pickle= True)\n",
    "\n",
    "\n",
    "print(rbg_test)\n",
    "print(flow_test)\n",
    "print(rbg_flow_test)"
   ]
  },
  {
   "cell_type": "markdown",
   "metadata": {
    "id": "4pbFLqFs08xy"
   },
   "source": [
    "## 4. Inference with pretrained model\n",
    "\n",
    "This section allows generation of caption videos"
   ]
  },
  {
   "cell_type": "markdown",
   "metadata": {},
   "source": [
    "### Select a pre-trained model"
   ]
  },
  {
   "cell_type": "code",
   "execution_count": null,
   "metadata": {},
   "outputs": [],
   "source": [
    "%cd C:\\Users\\Tiffany\\Desktop\\SIT\\S3T1\\3104\\3104 Project\\ict3104-p2-team08"
   ]
  },
  {
   "cell_type": "code",
   "execution_count": null,
   "metadata": {
    "scrolled": true
   },
   "outputs": [],
   "source": [
    "#tsu video files to display in dropdown\n",
    "import ipywidgets as widgets\n",
    "import os\n",
    "\n",
    "MODEL_PATH = 'models'\n",
    "MODEL_ROOT_PATH = './Toyota_Smarthome/pipline/'\n",
    "\n",
    "file_list = os.listdir(os.path.join(MODEL_ROOT_PATH, MODEL_PATH))\n",
    "print(os.path.join(MODEL_ROOT_PATH, MODEL_PATH))\n",
    "\n",
    "model_dropdown = widgets.Dropdown(\n",
    "    options=file_list,\n",
    "    description='Model:',\n",
    "    disabled=False,\n",
    ")\n",
    "\n",
    "def on_change(change):\n",
    "    if change['type'] == 'change' and change['name'] == 'value':\n",
    "        print(change['new'])\n",
    "\n",
    "model_dropdown.observe(on_change)\n",
    "display(model_dropdown)"
   ]
  },
  {
   "cell_type": "markdown",
   "metadata": {},
   "source": [
    "### Choose an input video"
   ]
  },
  {
   "cell_type": "code",
   "execution_count": null,
   "metadata": {
    "scrolled": true
   },
   "outputs": [],
   "source": [
    "import json\n",
    "VIDEO_PATH = 'input_files'\n",
    "VIDEO_ROOT_PATH = './data/'\n",
    "\n",
    "full_testable_video = os.listdir(os.path.join(VIDEO_ROOT_PATH, VIDEO_PATH))\n",
    "\n",
    "model_name = model_dropdown.value\n",
    "JSON_FILEPATH = \"./Toyota_Smarthome/pipline/model_videos.json\"\n",
    "f = open(JSON_FILEPATH)\n",
    "data = json.load(f)\n",
    "testable_video = data[model_name]\n",
    "testable_video = [video + \".mp4\" for video in testable_video]\n",
    "print(testable_video)\n",
    "\n",
    "if model_name == \"PDAN\":\n",
    "    file_list = full_testable_video\n",
    "else:\n",
    "    file_list = testable_video\n",
    "\n",
    "video_dropdown = widgets.Dropdown(\n",
    "    options=file_list,\n",
    "    description='Video:',\n",
    "    disabled=False,\n",
    ")\n",
    "\n",
    "\n",
    "def on_change(change):\n",
    "    if change['type'] == 'change' and change['name'] == 'value':\n",
    "        print(change['new'])\n",
    "\n",
    "video_dropdown.observe(on_change)\n",
    "display(video_dropdown)"
   ]
  },
  {
   "cell_type": "markdown",
   "metadata": {},
   "source": [
    "### Generate video with caption"
   ]
  },
  {
   "cell_type": "code",
   "execution_count": null,
   "metadata": {},
   "outputs": [],
   "source": [
    "%pip install opencv-python"
   ]
  },
  {
   "cell_type": "code",
   "execution_count": null,
   "metadata": {
    "colab": {
     "base_uri": "https://localhost:8080/"
    },
    "id": "4D84kQqh0-1_",
    "outputId": "a17fda50-ff6b-4f13-c13f-ad5dcb9a5118",
    "scrolled": false
   },
   "outputs": [],
   "source": [
    "#insert codes here\n",
    "from IPython.display import Video\n",
    "\n",
    "video_selected = video_dropdown.value.replace('.mp4','')\n",
    "model_selected = model_dropdown.value\n",
    "model_path = \"./Toyota_Smarthome/pipline/models/\" + model_selected\n",
    "%run -i ./Toyota_Smarthome/pipline/test2.py -videofile={video_selected} -load_model={model_path} -name={model_selected}\n",
    "Video(\"./Toyota_Smarthome/pipline/video_output/\" + video_selected + \"_caption.mp4\")"
   ]
  },
  {
   "cell_type": "markdown",
   "metadata": {
    "id": "x5cqhsmO1TW5"
   },
   "source": [
    "## 5. Testing and evaluating trained models\n",
    "\n",
    "This section shows"
   ]
  },
  {
   "cell_type": "code",
   "execution_count": null,
   "metadata": {
    "colab": {
     "base_uri": "https://localhost:8080/",
     "height": 182
    },
    "id": "KUHMF5Pr1XjJ",
    "outputId": "1f5edc5d-708c-4ada-e36d-83c19dbc1e0b"
   },
   "outputs": [],
   "source": []
  },
  {
   "cell_type": "markdown",
   "metadata": {
    "id": "vyUzIqvd3rue"
   },
   "source": [
    "## 6. Training of new model\n",
    "\n",
    "This section shows"
   ]
  },
  {
   "cell_type": "markdown",
   "metadata": {},
   "source": [
    "### Choose datasets for training/testing"
   ]
  },
  {
   "cell_type": "code",
   "execution_count": null,
   "metadata": {
    "id": "yZ3NT9Et3wnT"
   },
   "outputs": [],
   "source": [
    "#C:\\Users\\leech\\OneDrive\\Documents\\untrimmed\\RGB.tar\\Videos_mp4\n",
    "import os\n",
    "import ipywidgets as widgets\n",
    "DATASET_PATH = 'Videos_mp4'\n",
    "DATASET_ROOT_PATH = '../OneDrive/Documents/untrimmed/RGB.tar/'\n",
    "\n",
    "file_list = os.listdir(os.path.join(DATASET_ROOT_PATH, DATASET_PATH))\n",
    "\n",
    "sel = widgets.SelectMultiple(\n",
    "options=file_list,\n",
    "#rows=10,\n",
    "description='Dataset:',\n",
    "disabled=False\n",
    ")\n",
    "\n",
    "selected_videos = []\n",
    "\n",
    "but = widgets.Button(description = 'Upload')\n",
    "def on_button_clicked(b):\n",
    "    print(sel.value)\n",
    "\n",
    "but.on_click(on_button_clicked)\n",
    "\n",
    "display(sel)\n",
    "display(but)"
   ]
  },
  {
   "cell_type": "markdown",
   "metadata": {},
   "source": [
    "### Model name, Batch size, Epochs"
   ]
  },
  {
   "cell_type": "code",
   "execution_count": null,
   "metadata": {},
   "outputs": [],
   "source": [
    "inp = widgets.Text(description='Model name:')\n",
    "batch_size = widgets.BoundedIntText(description='Batch size:',\n",
    "                                   value=2,\n",
    "                                   max=4)\n",
    "epochs = widgets.BoundedIntText(description='Epochs:',\n",
    "                               value=1000,\n",
    "                               max=1000)\n",
    "button = widgets.Button(description=\"Enter\")\n",
    "\n",
    "button = widgets.Button(description=\"Enter\")\n",
    "\n",
    "def on_button_clicked(b):\n",
    "    print(\"Model name set: \", inp.value)\n",
    "    print(\"batch size set: \", batch_size.value)\n",
    "    print(\"epochs set: \", epochs.value)\n",
    "\n",
    "button.on_click(on_button_clicked)\n",
    "display(inp)\n",
    "display(batch_size)\n",
    "display(epochs)\n",
    "display(button)"
   ]
  },
  {
   "cell_type": "markdown",
   "metadata": {},
   "source": [
    "### Start training model"
   ]
  },
  {
   "cell_type": "code",
   "execution_count": null,
   "metadata": {},
   "outputs": [],
   "source": [
    "model_name = inp.value\n",
    "selected_videos = list(sel.value)\n",
    "for i in range(len(selected_videos)):\n",
    "    selected_videos[i] = selected_videos[i].replace('.mp4','')\n",
    "selected_videos_string=(','.join(selected_videos))\n",
    "batchSize = str(batch_size.value)\n",
    "epochValue = (epochs.value)\n",
    "%run -i ./Toyota_Smarthome/pipline/train.py -video_train_test={selected_videos_string} -model=PDAN -name={model_name} -batch_size={batchSize} -epoch={epochValue}"
   ]
  },
  {
   "cell_type": "code",
   "execution_count": null,
   "metadata": {},
   "outputs": [],
   "source": []
  },
  {
   "cell_type": "code",
   "execution_count": null,
   "metadata": {},
   "outputs": [],
   "source": []
  }
 ],
 "metadata": {
  "accelerator": "GPU",
  "colab": {
   "collapsed_sections": [
    "4pbFLqFs08xy"
   ],
   "include_colab_link": true,
   "provenance": []
  },
  "kernelspec": {
   "display_name": "Python 3",
   "language": "python",
   "name": "python3"
  },
  "language_info": {
   "codemirror_mode": {
    "name": "ipython",
    "version": 3
   },
   "file_extension": ".py",
   "mimetype": "text/x-python",
   "name": "python",
   "nbconvert_exporter": "python",
   "pygments_lexer": "ipython3",
   "version": "3.8.8"
  }
 },
 "nbformat": 4,
 "nbformat_minor": 1
}
